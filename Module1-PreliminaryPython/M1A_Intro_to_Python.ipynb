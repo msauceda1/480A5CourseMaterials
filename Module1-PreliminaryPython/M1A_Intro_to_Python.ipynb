{
 "cells": [
  {
   "cell_type": "markdown",
   "metadata": {
    "id": "27KJr6m7LbOB"
   },
   "source": [
    "<html>\n",
    "    <summary></summary>\n",
    "    <p float=\"left\">\n",
    "         <div> <p></p> </div>\n",
    "         <div style=\"font-size: 20px; width: 800px;\">\n",
    "              <h1>\n",
    "               <left>Python Basics </left>\n",
    "              </h1>\n",
    "              <p><left>============================================================================</left> </p>              \n",
    "             <pre>Course: BIOM/CBE 480A5, Spring 2025\n",
    "Instructor: Dr. Brian Munsky\n",
    "Contact Info: munsky@colostate.edu\n",
    "Authors: Will Raymond, Dr. Luis Aguilera, Dr. Brian Munsky\n",
    "</pre>\n",
    "         </div>\n",
    "    </p>\n",
    "\n",
    "</html>\n",
    "\n",
    "\n",
    "\n",
    "<details>\n",
    "  <summary>Copyright info</summary>\n",
    "\n",
    "```\n",
    "Copyright 2023 Brian Munsky\n",
    "\n",
    "Redistribution and use in source and binary forms, with or without modification, are permitted provided that the following conditions are met:\n",
    "\n",
    "1. Redistributions of source code must retain the above copyright notice, this list of conditions and the following disclaimer.\n",
    "\n",
    "2. Redistributions in binary form must reproduce the above copyright notice, this list of conditions and the following disclaimer in the documentation and/or other materials provided with the distribution.\n",
    "\n",
    "3. Neither the name of the copyright holder nor the names of its contributors may be used to endorse or promote products derived from this software without specific prior written permission.\n",
    "\n",
    "THIS SOFTWARE IS PROVIDED BY THE COPYRIGHT HOLDERS AND CONTRIBUTORS \"AS IS\" AND ANY EXPRESS OR IMPLIED WARRANTIES, INCLUDING, BUT NOT LIMITED TO, THE IMPLIED WARRANTIES OF MERCHANTABILITY AND FITNESS FOR A PARTICULAR PURPOSE ARE DISCLAIMED. IN NO EVENT SHALL THE COPYRIGHT HOLDER OR CONTRIBUTORS BE LIABLE FOR ANY DIRECT, INDIRECT, INCIDENTAL, SPECIAL, EXEMPLARY, OR CONSEQUENTIAL DAMAGES (INCLUDING, BUT NOT LIMITED TO, PROCUREMENT OF SUBSTITUTE GOODS OR SERVICES; LOSS OF USE, DATA, OR PROFITS; OR BUSINESS INTERRUPTION) HOWEVER CAUSED AND ON ANY THEORY OF LIABILITY, WHETHER IN CONTRACT, STRICT LIABILITY, OR TORT (INCLUDING NEGLIGENCE OR OTHERWISE) ARISING IN ANY WAY OUT OF THE USE OF THIS SOFTWARE, EVEN IF ADVISED OF THE POSSIBILITY OF SUCH DAMAGE.\n",
    "```\n",
    "<details>\n",
    "\n"
   ]
  },
  {
   "cell_type": "markdown",
   "metadata": {},
   "source": [
    "# Learning Objectives\n",
    "In this first notebook, we will start to build familiarity with using Python in a Jupyter Notebook. By the end of this lesson, you will be able to:\n",
    "\n",
    "* Explain what is Python and why do so many people use it\n",
    "* Describe Python and use basic commands\n",
    "* Describe and use simple Python variable types\n",
    "* Create and manipulate different types of iterable objects\n",
    "* Use indexing and slicing to manipulate iterable objects (lists, tuples, dictionaries, sets)"
   ]
  },
  {
   "cell_type": "markdown",
   "metadata": {
    "id": "9_w6sI7q3SUT"
   },
   "source": [
    "# 1.  Welcome! What is Python?\n",
    "\n",
    "**What is Python?**\n",
    "\n",
    "Python is an **interpreted high level** programming language available and widely used throughout the world in a myriad of applications.\n",
    "\n",
    "An **interpreted high level** language is a type of programming language in which most of its implementations execute human-readable instructions directly, without the need for prior compilation into machine-language instructions. Here are some key points:\n",
    "\n",
    "* *Execution*: Code is executed line-by-line by an interpreter.\n",
    "* *Abstraction*: Provides abstractions that hide the complexity of the hardware.\n",
    "* *Readability*: Syntax and semantics are closer to human languages, making it easier to understand and write.\n",
    "* *Portability*: Interpreted languages are generally more portable across different platforms.\n",
    "* *Development*: Easier to test and debug since you can run code immediately without a separate compilation step.\n",
    "* *Productivity*: Enhances programmer productivity by providing powerful constructs and libraries.\n",
    "* *Performance*: Typically slower than compiled languages because the interpreter translates code on the fly.\n",
    "\n",
    "Some examples of interpretable, high level languages are Python, JavaScript, Julia, Ruby. \n",
    "\n",
    "**Why Python?**\n",
    "\n",
    "Python is ubiquitous in the sciences and data sciences and is particularly popular in machine learning applications. It's open source, free, highly modular, and highly readable. Like other high-level programming languages, Python trades computational efficiency for readability but suits our main goal to introduce relevant concepts for quantitative biology without getting too bogged down in the coding details.\n",
    "\n",
    "Due to being open source, Python has a massive ecosystem of libraries and functionality at its disposal. In this class, we will introduce and use a number of those libraries for numerical methods, statistical analyses, image processing pipelines, and more.\n",
    "\n",
    "There are _a huge number_ of excellent tutorials that introduce Python on Youtube. While we cover everything you will need to know for the course in this and subsequent notebooks, we highly recommend watching a few videos to get a feel for Python.\n",
    "\n",
    "Official Python information can be found here:\n",
    "----------\n",
    "https://www.python.org/about/\n",
    "\n",
    "https://docs.python.org/3/tutorial/index.html\n",
    "\n",
    "---\n",
    "Course Textbook\n",
    "---\n",
    "The course will occasionally refer to the book \"A student's guide to Python for physical modeling, 2nd Edition\" by Jesse M. Kinder and Philip Nelson. We highly recommend this book. It ill be a great resource for you when you get stuck, and we will refer to some sections in this book across our notebooks.\n",
    "\n",
    "<img src = \"https://m.media-amazon.com/images/P/0691223653.01._SCLZZZZZZZ_SX500_.jpg\" width=\"30%\">\n",
    "\n",
    "-----\n",
    "Local Python Environment\n",
    "----\n",
    "To set up a python environment on your local computer, we recommend checking out Anaconda environments:\n",
    "\n",
    "https://www.anaconda.com/products/distribution\n",
    "\n",
    "The course canvas page has a complete set of istructions to set up an envrionemnt that will get us most of the way through this course."
   ]
  },
  {
   "cell_type": "markdown",
   "metadata": {
    "id": "IHW3eOszLi1P"
   },
   "source": [
    "# 2.  Simple Math and Python Types\n",
    "\n",
    "Let's jump right in to Python! First lets see what version of Python we are using.\n",
    "\n",
    "```Reading: Kinder, Nelson Section 1.4```\n"
   ]
  },
  {
   "cell_type": "code",
   "execution_count": 2,
   "metadata": {
    "colab": {
     "base_uri": "https://localhost:8080/"
    },
    "id": "2BGhyd-G248l",
    "outputId": "aea5a8a0-f7e0-4238-86ac-c7b3d0b36daa",
    "tags": []
   },
   "outputs": [
    {
     "name": "stderr",
     "output_type": "stream",
     "text": [
      "467.06s - pydevd: Sending message related to process being replaced timed-out after 5 seconds\n"
     ]
    },
    {
     "name": "stdout",
     "output_type": "stream",
     "text": [
      "Python 3.10.16\n"
     ]
    }
   ],
   "source": [
    "# Lets check out what version of Python we are using\n",
    "\n",
    "# To run this script, you need to have Python installed on your computer.  Please see\n",
    "# the instructions on Canvas for how to install Python on your computer. \n",
    "# Once you have Python installed, you can run this cell by clicking on it and then \n",
    "# clicking the \"Run\" triangle button above to the left. \n",
    "# When you do this, you may be prompted to select a kernal and environment.  Please\n",
    "# select the Python 3 kernal and and environment (e.g.., \"BIOM470A5\") that you created\n",
    "# when you installed Python.\n",
    "\n",
    "!python --version"
   ]
  },
  {
   "cell_type": "code",
   "execution_count": 3,
   "metadata": {
    "colab": {
     "base_uri": "https://localhost:8080/"
    },
    "id": "AjPJHx7bDpvy",
    "outputId": "26454a7d-5f33-4cdb-e3a8-d164df6abbc7",
    "tags": []
   },
   "outputs": [
    {
     "name": "stdout",
     "output_type": "stream",
     "text": [
      "Hello World!\n",
      "Hello World! (but with apostrophes)\n"
     ]
    }
   ],
   "source": [
    "# Here is an example ofr a print statement.\n",
    "# We can use this to print out a string, value, or information about a Python object\n",
    "# In this case we are printing out a string, denoted by the \" parenthesis or ' apostrophe\n",
    "\n",
    "print(\"Hello World!\")\n",
    "\n",
    "print('Hello World! (but with apostrophes)')"
   ]
  },
  {
   "cell_type": "code",
   "execution_count": 4,
   "metadata": {
    "id": "QeYzs3Stp9oV",
    "tags": []
   },
   "outputs": [
    {
     "name": "stdout",
     "output_type": "stream",
     "text": [
      "\u001b[0;31mDocstring:\u001b[0m\n",
      "print(value, ..., sep=' ', end='\\n', file=sys.stdout, flush=False)\n",
      "\n",
      "Prints the values to a stream, or to sys.stdout by default.\n",
      "Optional keyword arguments:\n",
      "file:  a file-like object (stream); defaults to the current sys.stdout.\n",
      "sep:   string inserted between values, default a space.\n",
      "end:   string appended after the last value, default a newline.\n",
      "flush: whether to forcibly flush the stream.\n",
      "\u001b[0;31mType:\u001b[0m      builtin_function_or_method"
     ]
    }
   ],
   "source": [
    "# We can get information about any Python object by adding a ? to the end of the object,\n",
    "# This will print out info to the dialog box about the particular object.\n",
    "print?\n",
    "\n",
    "# Let's explore the resut of this '?' command by running it. At the top of the output, you will see\n",
    "# a description of the object, in this case the print function.  Below that you will see a\n",
    "# docstring, which is a description of the object.  This is a great way to learn about the\n",
    "# different functions and objects in Python. In this case, the docstring tells us that the print\n",
    "# function takes one required argument (value) and several optional arguments (sep, end, file, flush).\n",
    "# The docstring also tells us that the print function does not return anything."
   ]
  },
  {
   "cell_type": "markdown",
   "metadata": {
    "id": "X6LPpAI7G_p-"
   },
   "source": [
    "Python is **dynamically typed**: meaning when you define an object with the equals sign, say ```x = 1 ```, Python automatically assigns the variable ```x``` as an integer type, where as if you type something like ``` x = \"string\"``` python will dynamically assign the variable ```x``` as a string type.\n",
    "\n",
    "You can investigate what type of object an object is with the ```type(object)``` command."
   ]
  },
  {
   "cell_type": "code",
   "execution_count": 5,
   "metadata": {
    "colab": {
     "base_uri": "https://localhost:8080/"
    },
    "id": "yvHQrAds3RaX",
    "outputId": "8557c1f8-1793-45f8-b025-c7938a26e23c",
    "tags": []
   },
   "outputs": [
    {
     "name": "stdout",
     "output_type": "stream",
     "text": [
      "the type of x is:\n",
      "<class 'int'>\n"
     ]
    }
   ],
   "source": [
    "# First, let's create a variable 'x' as an integer and print out its type\n",
    "x = 1\n",
    "print('the type of x is:')\n",
    "print(type(x))\n",
    "\n",
    "# Split cells to avoid long computation times in one section while shorter times are underneath. Option in the top right of the cell"
   ]
  },
  {
   "cell_type": "code",
   "execution_count": 6,
   "metadata": {},
   "outputs": [
    {
     "name": "stdout",
     "output_type": "stream",
     "text": [
      "the type of y is:\n",
      "<class 'float'>\n"
     ]
    }
   ],
   "source": [
    "\n",
    "# Next, let's create a variable 'y' as a float and print out its type\n",
    "y = 1.0\n",
    "print('the type of y is:')\n",
    "print(type(y))\n"
   ]
  },
  {
   "cell_type": "code",
   "execution_count": 7,
   "metadata": {},
   "outputs": [
    {
     "name": "stdout",
     "output_type": "stream",
     "text": [
      "the type of z is:\n",
      "<class 'str'>\n"
     ]
    }
   ],
   "source": [
    "\n",
    "# Next, let's create a variable 'z' as a string and print out its type\n",
    "z = \"1\"\n",
    "print('the type of z is:')\n",
    "print(type(z))\n"
   ]
  },
  {
   "cell_type": "code",
   "execution_count": 8,
   "metadata": {},
   "outputs": [
    {
     "name": "stdout",
     "output_type": "stream",
     "text": [
      "Checking if x is an str type using isinstance(var, type):\n",
      "False\n",
      "Checking if x is an int type using isinstance(var, type):\n",
      "True\n"
     ]
    }
   ],
   "source": [
    "\n",
    "# Let's check if the variable 'x' is an str type.\n",
    "print('Checking if x is an str type using isinstance(var, type):')\n",
    "print(isinstance(x,str))\n",
    "# it is not an str type, so the output will be False\n",
    "\n",
    "# Let's check if the variable 'x' is an int type.\n",
    "print('Checking if x is an int type using isinstance(var, type):')\n",
    "print(isinstance(x,int))\n",
    "# it is an int type, so the output will be True"
   ]
  },
  {
   "cell_type": "markdown",
   "metadata": {
    "id": "9qOdsCkQHKci"
   },
   "source": [
    "## 2.A.  Common Built-in types\n",
    "\n",
    "Single object types (e.g., single numbers or strings)\n",
    "\n",
    "| Type    | Description | Example\n",
    "| ----------- | ----------- | ------------ |\n",
    "| int      | integer,  values -x to x based on your system      | x = 1 |\n",
    "| bool | boolean, true or false|  x = True |\n",
    "| str   | string of text, defined by ```'this is a string'  ```      | x = 'hello'  |\n",
    "| float | floating point integer like 3.1415 | x = 3.1415  |\n",
    "| complex | a complex number like 3 + -3j | x = 3 + 3j |\n",
    "\n",
    "Multiobject types (e.g., collections of multiple numbers or strings)\n",
    "\n",
    "| Type    | Description | Example\n",
    "| ----------- | ----------- | ----------- |\n",
    "| list      | an mutable (changeable) container of objects    | ```x = [1,2,3,'4']``` |\n",
    "| tuple   | a immutable container of objects    | ```x = (1,2,3,'4')```  |\n",
    "| set | an unordered list type that only keeps unique objects| ```x = set([1,2,3,'4'])``` |\n",
    "| dict | a container with a key object that labels a value object |``` x = {'key1':1, 'key2':'2'}```  |\n",
    "\n",
    "For more gorey detail on types: https://docs.python.org/3/library/stdtypes.html"
   ]
  },
  {
   "cell_type": "markdown",
   "metadata": {},
   "source": [
    "### Practice with types\n",
    "Run the next two cells to take a short quiz on Python variable types."
   ]
  },
  {
   "cell_type": "code",
   "execution_count": 9,
   "metadata": {},
   "outputs": [],
   "source": [
    "import sys\n",
    "import os\n",
    "# add the path ../BIOM480A5 to the system path\n",
    "sys.path.append(os.path.abspath('../BIOM480A5'))\n",
    "from BIOM480A5_Quizzes import multiple_choice_quiz\n",
    "from BIOM480A5_codes import spring2025Students, geneRegulationTopics \n",
    "\n",
    "import random"
   ]
  },
  {
   "cell_type": "code",
   "execution_count": 11,
   "metadata": {},
   "outputs": [
    {
     "name": "stdout",
     "output_type": "stream",
     "text": [
      "What is the type of the following variable: G = {1,2,3} ?\n",
      "0: list\n",
      "1: dict\n",
      "2: set\n",
      "3: NoneType\n",
      "4: int\n",
      "5: string\n",
      "Yay - good job! You have 5 correct answers. Get 5 correct answers to win the game.\n",
      "\n",
      "You won the game!\n",
      "\n",
      "You got 5 right - place your left hand on your head.\n",
      "\n",
      "Please keep going if you want to practice more.\n",
      "Goodbye!\n"
     ]
    }
   ],
   "source": [
    "multiple_choice_quiz('types')"
   ]
  },
  {
   "cell_type": "markdown",
   "metadata": {
    "id": "d9lcbt0bNWw2"
   },
   "source": [
    "## 2.B.  Simple Arithmetic Operations\n",
    "\n",
    "Lets take a look at the simple operators in Python!\n",
    "\n",
    "| Operator    | Description | Example | Result |\n",
    "| ----------- | ----------- | ------------ | ----------- |\n",
    "| +      | add two values or objects      | 5+5 | 10\n",
    "| - | subtract two values or objects  |  5-5 | 0\n",
    "| *   | multiply two values or objects  | 5*5  | 25 |\n",
    "| / | divide two values or objects  | 5/5  | 1 |\n",
    "| ** | exponent  | 2**3 | 8|\n",
    "| // | floor division (divide then round down) | 7//2 | 3\n",
    "| % | Modulo, remainder of division | 6%5 | 1 |\n",
    "---- BITWISE OPERATORS ---\n",
    "| & | Bitwise AND | 6&5 --> (b110 & b101 = b100 = 4)  | 4 |\n",
    "| \\| | Bitwise OR | 6 \\| 5 --> (b110 \\| b101 = b111 = 7)  | 7 |\n",
    "| ^ | Bitwise XOR | 6^5 --> (b110 ^ b101 = b011 = 3)  | 3 |\n",
    "| >> | Bitwise RSHIFT | 6>>2 --> (b110 >> 2 = b1 = 3)  | 1 |\n",
    "| << | Bitwise LSHIFT | 6<<2 --> (b110 << 2 = b11000 = 3)  | 24 |"
   ]
  },
  {
   "cell_type": "code",
   "execution_count": null,
   "metadata": {
    "colab": {
     "base_uri": "https://localhost:8080/"
    },
    "id": "ay-ZXpFuL3R5",
    "outputId": "949103f2-b92d-4710-df1c-27659dd3f490",
    "tags": []
   },
   "outputs": [],
   "source": [
    "# Let's try some examples of arithmetic operations in Python\n",
    "# We will create and use the variables x and y:\n",
    "x = 5\n",
    "y = 2\n",
    "\n",
    "# Let's print out the results of some arithmetic operations.  Here we will use the %f format,\n",
    "# which is a placeholder for a float.  We will discuss this below.\n",
    "print('x plus y = %f'%(x + y))\n",
    "print('x minus y = %f'%(x - y))\n",
    "print('y minus x = %f'%(y - x))\n",
    "print('x times y = %f'%(x * y))\n",
    "print('x divided y = %f'%(x / y))\n",
    "\n",
    "# CAUTION -- the command '^' is bitwise XOR not the exponent!\n",
    "# To calculate the exponent, use '**' as follows:\n",
    "print('y to the power x = %f'%(y**x))\n",
    "\n",
    "# Floor division '//' automatically rounds the decimal down\n",
    "print('x floor division by y = %f'%(x // y))\n",
    "\n",
    "# Modulo '%' is an operator for the \"remainder\" of division\n",
    "# For example 5 % 2 = 1, 5/2 = 2 + 1/2 = 1 remainder\n",
    "print('x modulo y = %f'%(x % y))\n",
    "\n",
    "# There're other special arithmetic operators, such as Bitwise XOR ^, that\n",
    "# we are not going to be using in the class here, but who knows, you may need \n",
    "# them some day!"
   ]
  },
  {
   "cell_type": "code",
   "execution_count": null,
   "metadata": {
    "colab": {
     "base_uri": "https://localhost:8080/"
    },
    "id": "KiXQU_B-1WCg",
    "outputId": "37aafff1-5602-451e-dcfb-0f9c15e9917c",
    "tags": []
   },
   "outputs": [],
   "source": [
    "print('this is the output of x divided by y:',  x / y )\n",
    "\n",
    "# As of python 3.0+, python will return the division solution as a floating point.\n",
    "# In previous versions, python would round down to the closest integer, for example\n",
    "# 5/2 would = 2 instead of 2.5. This is something to be aware of if you are on python 2.XX"
   ]
  },
  {
   "cell_type": "markdown",
   "metadata": {},
   "source": [
    "### Quiz on simple mathematical operations"
   ]
  },
  {
   "cell_type": "code",
   "execution_count": 42,
   "metadata": {},
   "outputs": [
    {
     "name": "stdout",
     "output_type": "stream",
     "text": [
      "Which command would you use to perform the following operation on the numbers X and Y:\n",
      " check if the number X is less than or equal to the number Y ?\n",
      "0: round(X,1)\n",
      "1: if X<=Y\n",
      "2: round(X)\n",
      "3: if X==Y\n",
      "4: if X<Y\n",
      "Yay - good job! You have 5 correct answers. Get 10 correct answers to win the game.\n",
      "Goodbye!\n"
     ]
    }
   ],
   "source": [
    "# Run the following quiz to practice your understanding of simple math operations\n",
    "multiple_choice_quiz('math_operations')"
   ]
  },
  {
   "cell_type": "markdown",
   "metadata": {
    "id": "IHrd_MTej3Ui"
   },
   "source": [
    "## 2.C.  Strings\n",
    "\n",
    "A string is denoted by single or double quotes ('text' or \"text\") in Python. Python has some built in convenience methods for handling strings or large blocks of text.\n",
    "\n",
    "```Reading: Kinder, Nelson Section 2.3```\n",
    "\n",
    "---\n",
    "\n",
    "``` test_string = 'im a test string'```\n",
    "\n",
    "| Method    | Description | Example\n",
    "| ----------- | ----------- | ------------ |\n",
    "| .split()      | splits a string by blank spaces or by a given character, | ```test_string.split() = ['im','a','test','string']``` |\n",
    "| .join() | joins an iterable with the string | ```','.join(['1','2','3']) = '1,2,3'``` |\n",
    "| list(string)   | splits a string by individual characters into a list   | ```list(test_string) = ['t','e','s'... 'n','g']```  |\n",
    "| str1 + str2 | appends str2 onto str1| ```test_string + ' and more' = 'im a test string and more'```|\n",
    "| .index() | returns the first index of a matching character | ```test_string.index('t') = 5``` |\n",
    "| .upper() | returns the uppercase of a string | ```test_string.upper() = 'IM A TEST STRING'``` |\n",
    "| .lower() | returns the lowercase version of the string | ```test_string.upper() = 'im a test string'``` |\n",
    "\n",
    "-----\n",
    "\n",
    "more complex handling of strings and matching is handled via ``re`` regular expressions (regex). [Here's the documentation on regex](https://docs.python.org/3/howto/regex.html) if you are inclined. Regular expressions are typically computationally heavy, so keep this in mind if you are using them for trivial tasks.\n"
   ]
  },
  {
   "cell_type": "code",
   "execution_count": 12,
   "metadata": {
    "colab": {
     "base_uri": "https://localhost:8080/"
    },
    "id": "LuXW9e_-ktyS",
    "outputId": "73351a98-7eba-4b5f-82e0-a1db082ac9c8",
    "tags": []
   },
   "outputs": [
    {
     "name": "stdout",
     "output_type": "stream",
     "text": [
      "Original string: im a test string\n",
      "______________________\n"
     ]
    }
   ],
   "source": [
    "# Let's start with a lowercase string.\n",
    "test_string = 'im a test string'\n",
    "\n",
    "# Let's print out the original string.  Here, we use the %s format, which is a placeholder \n",
    "# for a string.\n",
    "print('Original string: %s'%test_string)\n",
    "print('______________________')"
   ]
  },
  {
   "cell_type": "code",
   "execution_count": 13,
   "metadata": {},
   "outputs": [
    {
     "name": "stdout",
     "output_type": "stream",
     "text": [
      "Split string into list of words based on spaces:\n",
      "['im', 'a', 'test', 'string']\n",
      "Split string into list of segments based on the letter t:\n",
      "['im a ', 'es', ' s', 'ring']\n"
     ]
    }
   ],
   "source": [
    "# Let's split the string into a list of words and print out the list. Here, we split\n",
    "# the string based on spaces, which is the default behavior of the split function.\n",
    "print('Split string into list of words based on spaces:')\n",
    "print(test_string.split()) #split based on spaces\n",
    "\n",
    "# We can also split the string based on a specific character, such as 't'.\n",
    "print('Split string into list of segments based on the letter t:')\n",
    "print(test_string.split('t')) #split based on letter t"
   ]
  },
  {
   "cell_type": "code",
   "execution_count": 14,
   "metadata": {},
   "outputs": [
    {
     "name": "stdout",
     "output_type": "stream",
     "text": [
      "1,2,3\n",
      "['i', 'm', ' ', 'a', ' ', 't', 'e', 's', 't', ' ', 's', 't', 'r', 'i', 'n', 'g']\n",
      "im a test string and more\n"
     ]
    }
   ],
   "source": [
    "# We can also join a list of strings into a single string, using a specific character\n",
    "# as a separator.  Here, we join the list of strings using a comma.\n",
    "comma_string = ','.join(['1','2','3']) #join this list of strings by a comma ','\n",
    "print(comma_string)\n",
    "\n",
    "# We can split a string into individual characters and print out the list of characters.\n",
    "individual_characters = list(test_string)  #split the string into individual characters\n",
    "print(individual_characters)\n",
    "\n",
    "# To concatenate two strings, we can use the '+' operator.\n",
    "newstr = test_string + ' and more' #append a string onto a string\n",
    "print(newstr)"
   ]
  },
  {
   "cell_type": "code",
   "execution_count": 15,
   "metadata": {},
   "outputs": [
    {
     "name": "stdout",
     "output_type": "stream",
     "text": [
      "the index of the first t in the string is:\n",
      "5\n"
     ]
    }
   ],
   "source": [
    "# The 'index' function can be used to find the index of a specific character in a string.\n",
    "# Here, we find the index of the first 't' in the string.\n",
    "print('the index of the first t in the string is:')\n",
    "print(test_string.index('t'))  #get the index of the first t in the string"
   ]
  },
  {
   "cell_type": "code",
   "execution_count": 16,
   "metadata": {},
   "outputs": [
    {
     "data": {
      "text/plain": [
       "['__add__',\n",
       " '__class__',\n",
       " '__contains__',\n",
       " '__delattr__',\n",
       " '__dir__',\n",
       " '__doc__',\n",
       " '__eq__',\n",
       " '__format__',\n",
       " '__ge__',\n",
       " '__getattribute__',\n",
       " '__getitem__',\n",
       " '__getnewargs__',\n",
       " '__gt__',\n",
       " '__hash__',\n",
       " '__init__',\n",
       " '__init_subclass__',\n",
       " '__iter__',\n",
       " '__le__',\n",
       " '__len__',\n",
       " '__lt__',\n",
       " '__mod__',\n",
       " '__mul__',\n",
       " '__ne__',\n",
       " '__new__',\n",
       " '__reduce__',\n",
       " '__reduce_ex__',\n",
       " '__repr__',\n",
       " '__rmod__',\n",
       " '__rmul__',\n",
       " '__setattr__',\n",
       " '__sizeof__',\n",
       " '__str__',\n",
       " '__subclasshook__',\n",
       " 'capitalize',\n",
       " 'casefold',\n",
       " 'center',\n",
       " 'count',\n",
       " 'encode',\n",
       " 'endswith',\n",
       " 'expandtabs',\n",
       " 'find',\n",
       " 'format',\n",
       " 'format_map',\n",
       " 'index',\n",
       " 'isalnum',\n",
       " 'isalpha',\n",
       " 'isascii',\n",
       " 'isdecimal',\n",
       " 'isdigit',\n",
       " 'isidentifier',\n",
       " 'islower',\n",
       " 'isnumeric',\n",
       " 'isprintable',\n",
       " 'isspace',\n",
       " 'istitle',\n",
       " 'isupper',\n",
       " 'join',\n",
       " 'ljust',\n",
       " 'lower',\n",
       " 'lstrip',\n",
       " 'maketrans',\n",
       " 'partition',\n",
       " 'removeprefix',\n",
       " 'removesuffix',\n",
       " 'replace',\n",
       " 'rfind',\n",
       " 'rindex',\n",
       " 'rjust',\n",
       " 'rpartition',\n",
       " 'rsplit',\n",
       " 'rstrip',\n",
       " 'split',\n",
       " 'splitlines',\n",
       " 'startswith',\n",
       " 'strip',\n",
       " 'swapcase',\n",
       " 'title',\n",
       " 'translate',\n",
       " 'upper',\n",
       " 'zfill']"
      ]
     },
     "execution_count": 16,
     "metadata": {},
     "output_type": "execute_result"
    }
   ],
   "source": [
    "# Let's explore some other functions that can be used with strings. To see a list of all\n",
    "# functions that can be used with strings, type 'dir(str)' in a code cell and run it.\n",
    "# This will print out a list of all functions that can be used with strings.\n",
    "dir(str)"
   ]
  },
  {
   "cell_type": "code",
   "execution_count": 17,
   "metadata": {},
   "outputs": [
    {
     "name": "stdout",
     "output_type": "stream",
     "text": [
      "\u001b[0;31mDocstring:\u001b[0m\n",
      "S.find(sub[, start[, end]]) -> int\n",
      "\n",
      "Return the lowest index in S where substring sub is found,\n",
      "such that sub is contained within S[start:end].  Optional\n",
      "arguments start and end are interpreted as in slice notation.\n",
      "\n",
      "Return -1 on failure.\n",
      "\u001b[0;31mType:\u001b[0m      method_descriptor"
     ]
    }
   ],
   "source": [
    "# You can also use the '?' command to get more information about a specific function.\n",
    "# For example, to get more information about the 'find' function, type 'str.find?' in a code cell\n",
    "# and run it.  This will print out more information about the 'find' function.\n",
    "str.find?"
   ]
  },
  {
   "cell_type": "code",
   "execution_count": 18,
   "metadata": {},
   "outputs": [
    {
     "data": {
      "text/plain": [
       "2"
      ]
     },
     "execution_count": 18,
     "metadata": {},
     "output_type": "execute_result"
    }
   ],
   "source": [
    "S = 'shifhkjghlakjf'\n",
    "S.find('i')"
   ]
  },
  {
   "cell_type": "code",
   "execution_count": 19,
   "metadata": {},
   "outputs": [
    {
     "name": "stdout",
     "output_type": "stream",
     "text": [
      "IM A TEST STRING\n",
      "im a test string\n"
     ]
    }
   ],
   "source": [
    "# To change a string to uppercase or lowercase, we can use the 'upper' and 'lower' functions.\n",
    "uppercase_string = test_string.upper()\n",
    "print(uppercase_string) # uppercase string\n",
    "\n",
    "lowercase_string = test_string.lower()\n",
    "print(lowercase_string) # uppercase string\n"
   ]
  },
  {
   "cell_type": "markdown",
   "metadata": {},
   "source": [
    "### Quiz on strings."
   ]
  },
  {
   "cell_type": "code",
   "execution_count": 43,
   "metadata": {},
   "outputs": [
    {
     "name": "stdout",
     "output_type": "stream",
     "text": [
      "Which command would you use to perform the following operation on the strings X and/or Y:\n",
      " get a list of all unique words in the string X ?\n",
      "0: X[0]\n",
      "1: X.count(\"a\")\n",
      "2: int(x)\n",
      "3: if X==Y\n",
      "4: list(set(X.split()))\n",
      "Yay - good job! You have 5 correct answers. Get 15 correct answers to win the game.\n",
      "Goodbye!\n"
     ]
    }
   ],
   "source": [
    "# Run the following quiz to practice your understanding of strings.\n",
    "multiple_choice_quiz('string_operations')"
   ]
  },
  {
   "cell_type": "markdown",
   "metadata": {
    "id": "DGPRtay1wrCl"
   },
   "source": [
    "## 2.D.  Multiline strings\n",
    "\n",
    "Multiline strings can be defined by either using the character ```\\``` at the end of a string or bracketing a string with three apostrophes ```` ''' ````. If you bracket a string with 3 comments then the string WILL include the new line character ```\\n``` to represent any enters/returns.\n",
    "\n",
    "```python\n",
    "\"i am a string \\\n",
    " that is broken into multiple lines without \\\n",
    "new line characters\"\n",
    "```\n",
    "\n",
    "```python\n",
    "'''\n",
    "I am a giant\n",
    "multiline\n",
    "string with enters\n",
    "'''\n",
    "```"
   ]
  },
  {
   "cell_type": "code",
   "execution_count": 25,
   "metadata": {
    "colab": {
     "base_uri": "https://localhost:8080/"
    },
    "id": "tw4C9oaRwpsl",
    "outputId": "0da86bd8-df30-4900-b73d-412d96911d7e",
    "tags": []
   },
   "outputs": [
    {
     "name": "stdout",
     "output_type": "stream",
     "text": [
      "str1: \n",
      "i am a string that is broken into multiple lines without new line characters\n",
      "\n",
      "str2: \n",
      "\n",
      "I am a giant\n",
      "multiline\n",
      "string with enters\n",
      "\n"
     ]
    }
   ],
   "source": [
    "# Defien a multiline string using '\\'\n",
    "str1 = \"i am a string \\\n",
    "that is broken into multiple lines without \\\n",
    "new line characters\"\n",
    "\n",
    "# Define a multiline string using triple quotes\n",
    "str2 = '''\n",
    "I am a giant\n",
    "multiline\n",
    "string with enters\n",
    "'''\n",
    "# Print the strings\n",
    "print('str1: ')\n",
    "print(str1)\n",
    "print('')\n",
    "print('str2: ')\n",
    "print(str2)"
   ]
  },
  {
   "cell_type": "markdown",
   "metadata": {
    "id": "F2t8r6ErYrRE"
   },
   "source": [
    "## 2.E.  String Formatting\n",
    "---\n",
    "\n",
    "Python has several methods for formatting arbitrary inputs into a given string, this allows the user to construct a string or output based on a changing variable!\n",
    "\n",
    "---\n",
    "\n",
    "### % formatting\n",
    "---\n",
    "\n",
    "The ```%``` operator is the oldest and a still common way of formatting Python strings for arbitrary inputs.\n",
    "\n",
    "```'sample string inputs: %?, %?'% (value1, value2)```\n",
    "\n",
    "We wont go in-depth beyond some common ```%``` formatting options are as follows:\n",
    "\n",
    "| Method    | Description | Example | Result |\n",
    "| ----------- | ----------- | ------------ |  ------------ |\n",
    "| %s     | expects the input to be a string | ```'%s'%'hello'``` | ```hello``` |\n",
    "| %i / %d | expects the input to be an integer | ```'value: %i'%3``` |  ```value: 3``` |\n",
    "| %f |expects the input to be a float |  ```'value: %f'%2.5```| ```value: 2.5``` |\n",
    "| %0M.Nf | returns a float to N decimal points precision, and makes sure the string is M long by padding with zeros  |  ```'value: %06.3f'%2.5```|```value: 02.500``` |\n",
    "| %M.Nf  | returns a float to N decimal points precision, and makes sure the string is M long by padding with spaces |  ```'value: %06.3f'%2.5``` | ```value:  2.500``` |\n",
    "| %e | similar to the floating point but returns floats in exponential form | ```'value: %5.3e'%2.5``` | ```value: 2.500e+00```|\n",
    "\n",
    "\n",
    "For an extensive explanation see the Python documentation:\n",
    "\n",
    "https://docs.python.org/3/library/stdtypes.html#printf-style-string-formatting\n",
    "\n",
    "---\n",
    "### str.format\n",
    "---\n",
    "\n",
    "```str.format``` is now the standard way of formatting/constructing strings as of Python 3.6. It is more regular and readable compared to the ```%``` operator. It also allows you to format strings without respect to the order in which inputs are given to a string.\n",
    "\n",
    "```'sample string input: {}'.format(value)```\n",
    "\n",
    "```'i dont care about the input of my string formatting {var1}, {var2}, {var3}'.format(var3=3, var2=2, var1=1)```\n",
    "\n",
    "\n",
    "```str.format``` has further specification for how you want to display, convert, or specify a particular value, for cases like the following example: how do you print a decimal to some particular precision? To handle this each formatting bracket is broken in to 3 parts: {name | !conversion | :format_spec}\n",
    "\n",
    "name will specify the name of which variable to use for this part of the string. !conversion is either ```!s```, ```!r```, or ```!a``` which specifies to use ```str()```, ```repr()```, or ```ascii()```, these are not commonly talked about since in most cases they are equivalent. The most important argument is :format_spec.\n",
    "\n",
    "Format spec, in gory detail is editable by changing any of the following sections: ```[[fill]align][sign][\"z\"][\"#\"][\"0\"][width][grouping_option][\".\" precision][type]```\n",
    "\n",
    "```\n",
    "format_spec     ::=  [[fill]align][sign][\"z\"][\"#\"][\"0\"][width][grouping_option][\".\" precision][type]\n",
    "fill            ::=  <any character> ::= character to fill with if any\n",
    "align           ::=  \"<\" | \">\" | \"=\" | \"^\"  ::= Alignment, left right, padding after sign, center\n",
    "sign            ::=  \"+\" | \"-\" | \" \" ::= display sign, + = +/-, - = minus only, \" \" is a space for positive and minus for negative\n",
    "width           ::=  digit+ ::= minimum width of the output string\n",
    "grouping_option ::=  \"_\" | \",\" ::= group with spaces or commas, like 1,000,000\n",
    "precision       ::=  digit+ ::= precision to show decimals too\n",
    "type            ::=  \"b\" | \"c\" | \"d\" | \"e\" | \"E\" | \"f\" | \"F\" | \"g\" | \"G\" | \"n\" | \"o\" | \"s\" | \"x\" | \"X\" | \"%\" ::= type of string, binary, char, decimal, octal, hex, large hex, number\n",
    "```\n",
    "\n",
    "For example:\n",
    "\n",
    "```0<+_.3f``` would be asking the string to format input as \"a float left align padded with 0s to the left, signed +/-, group large numbers by spaces, and show precision to 3 decimals\"\n",
    "\n",
    "\n",
    "https://docs.python.org/3/library/string.html#format-string-syntax\n",
    "\n",
    "---\n",
    "### f-strings\n",
    "---\n",
    "\n",
    "f-strings, or formatted literal strings are very similar to the ```str.format``` with some minor limitations, but also use the same specification approach. They are denoted by adding an f to the front of your string.\n",
    "\n",
    "```\n",
    "name = 'Will'\n",
    "print(f'My name is {name}')\n",
    ">>> My Name is Will\n",
    "```\n",
    "\n",
    "\n",
    "---\n",
    "### Template Strings\n",
    "---\n",
    "\n",
    "Template Strings, we won't go into these because they are mainly used for security reasons when the user is inputting sequences into your code. Be aware that is their main usage! https://docs.python.org/3/library/string.html#template-strings"
   ]
  },
  {
   "cell_type": "markdown",
   "metadata": {},
   "source": [
    "### Examples for some string formatting"
   ]
  },
  {
   "cell_type": "code",
   "execution_count": 36,
   "metadata": {
    "colab": {
     "base_uri": "https://localhost:8080/"
    },
    "id": "UAit5V3aYpNM",
    "outputId": "92fbd6b9-adca-418a-bd26-d6961057f74a",
    "tags": []
   },
   "outputs": [
    {
     "name": "stdout",
     "output_type": "stream",
     "text": [
      "Please bring me 5 apples by 3 PM, get them from the Farmers Market International\n",
      "Please bring me 5 apples by 3 PM, get them from the Farmers Market International\n",
      "Please bring me 5 apples by 3 PM, get them from the Farmers Market International\n"
     ]
    }
   ],
   "source": [
    "# Let's do some string formatting.  We will start by defining some integer and string variables.\n",
    "number_of_apples = 5\n",
    "time_i_need_them_by = '3 PM'\n",
    "market_name = 'Farmers Market International'\n",
    "\n",
    "# The following all build the same string in three different ways!\n",
    "# First, we use the % operator to format the string.  We use %i for integers and %s for strings.\n",
    "printf_formatting_result = 'Please bring me %i apples by %s, get them from the %s'%(number_of_apples, time_i_need_them_by, market_name)\n",
    "print(printf_formatting_result)\n",
    "\n",
    "# Next, we use the format function to format the string.  We use {n} for integers and {s} for strings.\n",
    "str_formatting_result = 'Please bring me {n_apples} apples by {time}, get them from the {market}'.format(n_apples=number_of_apples,\n",
    "                                                                                                        time=time_i_need_them_by,\n",
    "                                                                                                        market=market_name)\n",
    "print(str_formatting_result)\n",
    "\n",
    "# Finally, we use f-string formatting to format the string.  We use {n} for integers and {s} for strings.\n",
    "fstr_formatting_result = f'Please bring me {number_of_apples} apples by {time_i_need_them_by}, get them from the {market_name}'\n",
    "print(fstr_formatting_result)\n",
    "\n",
    "# Try each of these and see which one you like best!\""
   ]
  },
  {
   "cell_type": "markdown",
   "metadata": {},
   "source": [
    "### Practice string operations\n",
    "Run the following quiz to practice working with strings."
   ]
  },
  {
   "cell_type": "code",
   "execution_count": null,
   "metadata": {},
   "outputs": [],
   "source": [
    "multiple_choice_quiz('string_operations')"
   ]
  },
  {
   "cell_type": "markdown",
   "metadata": {
    "id": "a4krYz0qmrD0"
   },
   "source": [
    "## 2.F.  Special String characters\n",
    "\n",
    "Some characters are reserved no matter what for strings. These are called **escape characters**.\n",
    "\n",
    "| Character    | Name | Usage | Example | Result |\n",
    "| ----------- | ----------- | ------------ |  ------------ | ------------ |\n",
    "| ```\\```    | backslash | denotes an escape character! |  | |\n",
    "| ```\\\\``` | double backslash | escapes to place a backslash | ```'\\\\'``` | ```\\``` |\n",
    "| ```'``` | single quote | cant be placed in a string defined w/ single quotes| ```\" it's\"``` | it's | it's\n",
    "| ```\"``` | double quote  |  cant be placed in a string defined w/ double quotes | ```'she said \"hello\"'``` |she said \"hello\"|\n",
    "| ```\\r``` | Carriage return | Denotes going to the beginning of the line | ```'test\\rhello'``` | hello |\n",
    "| ```\\n``` | newline | Denotes pressing enter | ```'test\\nhello'```| test -> enter -> hello|\n",
    "| ```\\t``` | tab | denotes hitting tab | ```'test\\thello'```| test _____ hello |"
   ]
  },
  {
   "cell_type": "code",
   "execution_count": null,
   "metadata": {
    "colab": {
     "base_uri": "https://localhost:8080/"
    },
    "id": "QEmiS7GznPlh",
    "outputId": "ff96aaae-1d1d-4724-f8d5-70fbe5f9fec7",
    "tags": []
   },
   "outputs": [],
   "source": [
    "# Example ussing the \\n character to create a new line\n",
    "print('She said \"hello\"\\nHe said \"hi\".') #this prints this string into two lines!"
   ]
  },
  {
   "cell_type": "code",
   "execution_count": null,
   "metadata": {
    "colab": {
     "base_uri": "https://localhost:8080/"
    },
    "id": "GKqmxdsXpV2F",
    "outputId": "19e98635-0df7-4acd-999a-26759a1ecb5c",
    "tags": []
   },
   "outputs": [],
   "source": [
    "# Example ussing the \\r character to overwrite the previous line\n",
    "print('She said \"hello\"\\rHe said \"hi\".') #this puts the \"cursor\" back to the beginning and overwrites the previous lines"
   ]
  },
  {
   "cell_type": "code",
   "execution_count": null,
   "metadata": {
    "colab": {
     "base_uri": "https://localhost:8080/"
    },
    "id": "fbnPC7l1p7H4",
    "outputId": "a88612dc-bffc-462e-add8-fba25da21022",
    "tags": []
   },
   "outputs": [],
   "source": [
    "# Example ussing the \\t character to create a tab space\n",
    "print('She said \"hello\"\\tHe said \"hi\" back.') #this puts a tab space before 'He'."
   ]
  },
  {
   "cell_type": "markdown",
   "metadata": {},
   "source": [
    "### Additional practice with string formatting\n",
    "Run the following quiz for more practice working with strings."
   ]
  },
  {
   "cell_type": "code",
   "execution_count": null,
   "metadata": {},
   "outputs": [],
   "source": [
    "multiple_choice_quiz('string_formatting')"
   ]
  },
  {
   "cell_type": "markdown",
   "metadata": {
    "id": "JO8ioFu3IVDs"
   },
   "source": [
    "### File path strings\n",
    "\n",
    "File paths are usually represented as strings, however, different operating systems use different slashes to separate directories. Unix and MacOSX use '/' while some windows systems use '\\\\'. You can manually change these when typing in file paths, or you could use the modules ```os``` or ```pathlib```, which we will explore in more detail later."
   ]
  },
  {
   "cell_type": "code",
   "execution_count": 17,
   "metadata": {
    "id": "VdorACF12Sv3",
    "tags": []
   },
   "outputs": [],
   "source": [
    "# Example of a file path as a string\n",
    "example_file_path = '/directory/my_file.py'"
   ]
  },
  {
   "cell_type": "code",
   "execution_count": null,
   "metadata": {
    "colab": {
     "base_uri": "https://localhost:8080/"
    },
    "id": "buTVoJHM2Ycf",
    "outputId": "201fdac2-88bc-4819-a7d6-e30fbb2815da",
    "tags": []
   },
   "outputs": [],
   "source": [
    "# Example of a file path as a collection of strings\n",
    "directory_1 = 'my_dir'\n",
    "separator = '/'\n",
    "file_1 = 'test_file.py'\n",
    "\n",
    "# We can concatenate the strings to create a file path\n",
    "path_to_file = directory_1 + separator + file_1\n",
    "print(path_to_file)\n",
    "\n",
    "# Now, let's use the os module to do the same thing\n",
    "# The os module is a part of the Python standard library and provides a way to interact \n",
    "# with the operating system.  Here, we use the os.path.join function to join the directory\n",
    "# and file strings into a file path.  This is a more robust way to create file paths, as it\n",
    "# automatically uses the correct separator for the operating system (e.g., '/' for Unix-based\n",
    "# systems and '\\' for Windows systems).\n",
    "import os\n",
    "path_to_file = os.path.join(directory_1, file_1)\n",
    "print('using the os module:')\n",
    "print(path_to_file)"
   ]
  },
  {
   "cell_type": "markdown",
   "metadata": {
    "id": "0VPbr92N-C6j"
   },
   "source": [
    "## Questions to study for this material\n",
    "To test your understanding of the material in this section, complete the first problem set in the notebook, \"Homework1_ProblemSet.ipynb\" "
   ]
  },
  {
   "cell_type": "markdown",
   "metadata": {
    "id": "vm9myGRJ90RN"
   },
   "source": [
    "# 3.  Iterable objects and slicing\n",
    "```Reading: Kinder, Nelson Section 2.2```"
   ]
  },
  {
   "cell_type": "markdown",
   "metadata": {
    "id": "p-P6pIzsrSUE"
   },
   "source": [
    "## 3.A.  Iterable objects\n",
    "\n",
    "**Iterable** objects are things such as sets, lists, tuples, and dictionaries.  Iterable means that these pbjects can be sequentially iterated over in a *for* loop.\n",
    "\n",
    "Lists are **mutable** -- meaning they can be changed index by index. \n",
    "\n",
    "Tuples are **immutable**, meaning they cannot be changed, and they will throw an error telling you it does not support item assignment."
   ]
  },
  {
   "cell_type": "code",
   "execution_count": 27,
   "metadata": {
    "colab": {
     "base_uri": "https://localhost:8080/",
     "height": 277
    },
    "id": "IkHfm4cTrSFY",
    "outputId": "9f01cb9b-bb1d-4b8c-efac-e9c2f0d5bf8d",
    "tags": []
   },
   "outputs": [
    {
     "name": "stdout",
     "output_type": "stream",
     "text": [
      "The first element of the list is: 1\n",
      "The first element of the tuple is: 4\n",
      "[33, 2, 4]\n"
     ]
    }
   ],
   "source": [
    "# Create an example list and tuple\n",
    "example_list = [1, 2, 4]\n",
    "example_tuple = (4,15,'3')\n",
    "\n",
    "# Print the first element of the list and tuple\n",
    "print(f'The first element of the list is: {example_list[0]}') \n",
    "print(f'The first element of the tuple is: {example_tuple[0]}')\n",
    "\n",
    "## We can change the list contents, but not a tuples:\n",
    "example_list[0] = 33\n",
    "print(example_list)\n"
   ]
  },
  {
   "cell_type": "code",
   "execution_count": 30,
   "metadata": {},
   "outputs": [
    {
     "name": "stdout",
     "output_type": "stream",
     "text": [
      "example_tuple[0] = 33 will return the following error:\n"
     ]
    },
    {
     "ename": "KeyboardInterrupt",
     "evalue": "",
     "output_type": "error",
     "traceback": [
      "\u001b[0;31m---------------------------------------------------------------------------\u001b[0m",
      "\u001b[0;31mKeyboardInterrupt\u001b[0m                         Traceback (most recent call last)",
      "Cell \u001b[0;32mIn[30], line 3\u001b[0m\n\u001b[1;32m      0\u001b[0m <Error retrieving source code with stack_data see ipython/ipython#13598>\n",
      "Cell \u001b[0;32mIn[30], line 3\u001b[0m\n\u001b[1;32m      0\u001b[0m <Error retrieving source code with stack_data see ipython/ipython#13598>\n",
      "File \u001b[0;32m_pydevd_bundle\\\\pydevd_cython.pyx:1697\u001b[0m, in \u001b[0;36m_pydevd_bundle.pydevd_cython.SafeCallWrapper.__call__\u001b[0;34m()\u001b[0m\n",
      "File \u001b[0;32m_pydevd_bundle\\\\pydevd_cython.pyx:634\u001b[0m, in \u001b[0;36m_pydevd_bundle.pydevd_cython.PyDBFrame.trace_dispatch\u001b[0;34m()\u001b[0m\n",
      "File \u001b[0;32m_pydevd_bundle\\\\pydevd_cython.pyx:1112\u001b[0m, in \u001b[0;36m_pydevd_bundle.pydevd_cython.PyDBFrame.trace_dispatch\u001b[0;34m()\u001b[0m\n",
      "File \u001b[0;32m_pydevd_bundle\\\\pydevd_cython.pyx:1090\u001b[0m, in \u001b[0;36m_pydevd_bundle.pydevd_cython.PyDBFrame.trace_dispatch\u001b[0;34m()\u001b[0m\n",
      "File \u001b[0;32m_pydevd_bundle\\\\pydevd_cython.pyx:494\u001b[0m, in \u001b[0;36m_pydevd_bundle.pydevd_cython.PyDBFrame.do_wait_suspend\u001b[0;34m()\u001b[0m\n",
      "File \u001b[0;32m/opt/anaconda3/envs/BIOM480A5/lib/python3.10/site-packages/debugpy/_vendored/pydevd/pydevd.py:2185\u001b[0m, in \u001b[0;36mPyDB.do_wait_suspend\u001b[0;34m(self, thread, frame, event, arg, exception_type)\u001b[0m\n\u001b[1;32m   2182\u001b[0m             from_this_thread\u001b[38;5;241m.\u001b[39mappend(frame_custom_thread_id)\n\u001b[1;32m   2184\u001b[0m     \u001b[38;5;28;01mwith\u001b[39;00m \u001b[38;5;28mself\u001b[39m\u001b[38;5;241m.\u001b[39m_threads_suspended_single_notification\u001b[38;5;241m.\u001b[39mnotify_thread_suspended(thread_id, thread, stop_reason):\n\u001b[0;32m-> 2185\u001b[0m         keep_suspended \u001b[38;5;241m=\u001b[39m \u001b[38;5;28;43mself\u001b[39;49m\u001b[38;5;241;43m.\u001b[39;49m\u001b[43m_do_wait_suspend\u001b[49m\u001b[43m(\u001b[49m\u001b[43mthread\u001b[49m\u001b[43m,\u001b[49m\u001b[43m \u001b[49m\u001b[43mframe\u001b[49m\u001b[43m,\u001b[49m\u001b[43m \u001b[49m\u001b[43mevent\u001b[49m\u001b[43m,\u001b[49m\u001b[43m \u001b[49m\u001b[43marg\u001b[49m\u001b[43m,\u001b[49m\u001b[43m \u001b[49m\u001b[43mtrace_suspend_type\u001b[49m\u001b[43m,\u001b[49m\u001b[43m \u001b[49m\u001b[43mfrom_this_thread\u001b[49m\u001b[43m,\u001b[49m\u001b[43m \u001b[49m\u001b[43mframes_tracker\u001b[49m\u001b[43m)\u001b[49m\n\u001b[1;32m   2187\u001b[0m frames_list \u001b[38;5;241m=\u001b[39m \u001b[38;5;28;01mNone\u001b[39;00m\n\u001b[1;32m   2189\u001b[0m \u001b[38;5;28;01mif\u001b[39;00m keep_suspended:\n\u001b[1;32m   2190\u001b[0m     \u001b[38;5;66;03m# This means that we should pause again after a set next statement.\u001b[39;00m\n",
      "File \u001b[0;32m/opt/anaconda3/envs/BIOM480A5/lib/python3.10/site-packages/debugpy/_vendored/pydevd/pydevd.py:2254\u001b[0m, in \u001b[0;36mPyDB._do_wait_suspend\u001b[0;34m(self, thread, frame, event, arg, trace_suspend_type, from_this_thread, frames_tracker)\u001b[0m\n\u001b[1;32m   2251\u001b[0m                 queue\u001b[38;5;241m.\u001b[39mput(internal_cmd)\n\u001b[1;32m   2252\u001b[0m                 wait_timeout \u001b[38;5;241m=\u001b[39m TIMEOUT_FAST\n\u001b[0;32m-> 2254\u001b[0m         \u001b[43mnotify_event\u001b[49m\u001b[38;5;241;43m.\u001b[39;49m\u001b[43mwait\u001b[49m\u001b[43m(\u001b[49m\u001b[43mwait_timeout\u001b[49m\u001b[43m)\u001b[49m\n\u001b[1;32m   2255\u001b[0m         notify_event\u001b[38;5;241m.\u001b[39mclear()\n\u001b[1;32m   2257\u001b[0m \u001b[38;5;28;01mfinally\u001b[39;00m:\n",
      "File \u001b[0;32m/opt/anaconda3/envs/BIOM480A5/lib/python3.10/threading.py:607\u001b[0m, in \u001b[0;36mEvent.wait\u001b[0;34m(self, timeout)\u001b[0m\n\u001b[1;32m    605\u001b[0m signaled \u001b[38;5;241m=\u001b[39m \u001b[38;5;28mself\u001b[39m\u001b[38;5;241m.\u001b[39m_flag\n\u001b[1;32m    606\u001b[0m \u001b[38;5;28;01mif\u001b[39;00m \u001b[38;5;129;01mnot\u001b[39;00m signaled:\n\u001b[0;32m--> 607\u001b[0m     signaled \u001b[38;5;241m=\u001b[39m \u001b[38;5;28;43mself\u001b[39;49m\u001b[38;5;241;43m.\u001b[39;49m\u001b[43m_cond\u001b[49m\u001b[38;5;241;43m.\u001b[39;49m\u001b[43mwait\u001b[49m\u001b[43m(\u001b[49m\u001b[43mtimeout\u001b[49m\u001b[43m)\u001b[49m\n\u001b[1;32m    608\u001b[0m \u001b[38;5;28;01mreturn\u001b[39;00m signaled\n",
      "File \u001b[0;32m/opt/anaconda3/envs/BIOM480A5/lib/python3.10/threading.py:324\u001b[0m, in \u001b[0;36mCondition.wait\u001b[0;34m(self, timeout)\u001b[0m\n\u001b[1;32m    322\u001b[0m \u001b[38;5;28;01melse\u001b[39;00m:\n\u001b[1;32m    323\u001b[0m     \u001b[38;5;28;01mif\u001b[39;00m timeout \u001b[38;5;241m>\u001b[39m \u001b[38;5;241m0\u001b[39m:\n\u001b[0;32m--> 324\u001b[0m         gotit \u001b[38;5;241m=\u001b[39m \u001b[43mwaiter\u001b[49m\u001b[38;5;241;43m.\u001b[39;49m\u001b[43macquire\u001b[49m\u001b[43m(\u001b[49m\u001b[38;5;28;43;01mTrue\u001b[39;49;00m\u001b[43m,\u001b[49m\u001b[43m \u001b[49m\u001b[43mtimeout\u001b[49m\u001b[43m)\u001b[49m\n\u001b[1;32m    325\u001b[0m     \u001b[38;5;28;01melse\u001b[39;00m:\n\u001b[1;32m    326\u001b[0m         gotit \u001b[38;5;241m=\u001b[39m waiter\u001b[38;5;241m.\u001b[39macquire(\u001b[38;5;28;01mFalse\u001b[39;00m)\n",
      "\u001b[0;31mKeyboardInterrupt\u001b[0m: "
     ]
    }
   ],
   "source": [
    "\n",
    "print('example_tuple[0] = 33 will return the following error:')\n",
    "example_tuple[0] = 33  #this throws an error saying the tuple does not support item assignment"
   ]
  },
  {
   "cell_type": "markdown",
   "metadata": {},
   "source": [
    "**A Brief Aside...**\n",
    "\n",
    "**Oh no, I got an error.  What should I do?**\n",
    "\n",
    "Don't panic.  This will happen again and again in this course.\n",
    "\n",
    "When working with Jupyter Notebooks in VS Code, Python error messages can help you diagnose and fix issues in your code. Here are key elements to look for in an error message.\n",
    "\n",
    "* *Error Type*: The type of error (e.g., SyntaxError, TypeError, ValueError) provides a clue about what went wrong. In this particular case, we had a **TypeError**.\n",
    "* *Error Message*: A description of the error, often indicating what the problem is (e.g., \"unexpected EOF while parsing\"). In this case, we got the error message, **'tuple' object does not support item assignment**.\n",
    "* *Traceback*: A stack trace showing the sequence of function calls leading to the error. This helps identify where the error occurred. In this case, the trace is simple, and the error occurred right here in our cell.\n",
    "* *Line Number*: The specific line in the code where the error was detected. This helps you quickly locate the problematic code. In this case, the error occurred in **line 14** of our current cell. If you click the blue link on that number, it will take you to it in your code.\n",
    "* *Code Snippet*: Sometimes, the error message includes a snippet of the code around the error, providing additional context. In this case, it shows us the last three lines above the error.\n",
    "\n",
    "By carefully examining these elements, you can better understand the cause of the error and how to fix it.  In this case, we already knew what the error was going to be."
   ]
  },
  {
   "cell_type": "markdown",
   "metadata": {},
   "source": [
    "### Attributes of variables, lists, etc."
   ]
  },
  {
   "cell_type": "code",
   "execution_count": 31,
   "metadata": {
    "id": "-WfBkWrnr_eL",
    "tags": []
   },
   "outputs": [
    {
     "name": "stdout",
     "output_type": "stream",
     "text": [
      "List of attributes a list object has:\n",
      "['__add__', '__class__', '__class_getitem__', '__contains__', '__delattr__', '__delitem__', '__dir__', '__doc__', '__eq__', '__format__', '__ge__', '__getattribute__', '__getitem__', '__gt__', '__hash__', '__iadd__', '__imul__', '__init__', '__init_subclass__', '__iter__', '__le__', '__len__', '__lt__', '__mul__', '__ne__', '__new__', '__reduce__', '__reduce_ex__', '__repr__', '__reversed__', '__rmul__', '__setattr__', '__setitem__', '__sizeof__', '__str__', '__subclasshook__', 'append', 'clear', 'copy', 'count', 'extend', 'index', 'insert', 'pop', 'remove', 'reverse', 'sort']\n"
     ]
    }
   ],
   "source": [
    "# Now, let's explore some functions that can be used with lists and tuples. To see a list of all\n",
    "# functions that can be used with lists, type 'dir(list)' in a code cell and run it. This will\n",
    "# print out a list of all functions that can be used with lists.\n",
    "print ('List of attributes a list object has:')\n",
    "print(dir(list)) #what attributes (including functions) does a list object have?\n",
    "# The different types of atritbutes are: functions, variables, and internal functions (denoted by __xx__).\n",
    "# When we run the 'dir' command, we see all of these attributes in the order they are stored in the object.\n",
    "# Here the internal functions are at the top, followed by the functions, and then the variables.\n"
   ]
  },
  {
   "cell_type": "code",
   "execution_count": 32,
   "metadata": {},
   "outputs": [
    {
     "name": "stdout",
     "output_type": "stream",
     "text": [
      "List of functions a list object has:\n",
      "['append', 'clear', 'copy', 'count', 'extend', 'index', 'insert', 'pop', 'remove', 'reverse', 'sort']\n",
      "List of functions a tuple object has:\n",
      "['count', 'index']\n"
     ]
    }
   ],
   "source": [
    "\n",
    "# If you only want to see the FUNCTIONS (excluding internal functions, denoted by __xx__), you can use:\n",
    "print('List of functions a list object has:')\n",
    "print([x for x in dir(list) if '__' not in x] ) #what functions (excluding internal functions, denoted by __xx__) does a list object have?\n",
    "\n",
    "# To see the functions that can be used with tuples, we can run:\n",
    "print('List of functions a tuple object has:')\n",
    "print([x for x in dir(tuple) if '__' not in x] ) #what functions (excluding internal functions, denoted by __xx__) does a list object have?"
   ]
  },
  {
   "cell_type": "markdown",
   "metadata": {
    "id": "u2gM5HaCgBrp"
   },
   "source": [
    "### built in list() commands\n",
    "\n",
    "Here is a brief description of the various functions for a list:\n",
    "\n",
    "| Command    | Description | Example\n",
    "| ----------- | ----------- | ------------ |\n",
    "| append      | add an element to the end of a list | example_list.append(1) |\n",
    "| clear | delete everything in the list| example_list.clear()  |\n",
    "| copy   | returns a copy (shallow copy) of the list     | example_list.copy()  |\n",
    "| extend | appends multiple items (iterable) to the end of the list |example_list.extend([1,2,3,4]) |\n",
    "| index | returns the index of the first matching value | example_list.index(3) |\n",
    "| insert | inserts an object at the given index | example_list(index, object)|\n",
    "| pop | deletes the object at index and returns it | example_list.pop(3) |\n",
    "| remove | deletes the object at given index and returns None | example_list.remove(3) |\n",
    "| reverse | returns a reversed list | example_list.reverse() |\n",
    "|  sort | sorts a list with a key or defaults alphabetical or numerical | example_list.sort() |\n",
    "\n",
    "\n",
    "Lists also support using a \"+\" or \"*\" operations for combining or duplicating lists:\n",
    "\n",
    "```\n",
    "[0,] + [1,2,3,4] = [0,1,2,3,4]\n",
    "[0,] * 3 = [0,0,0,]\n",
    " ```\n"
   ]
  },
  {
   "cell_type": "code",
   "execution_count": 33,
   "metadata": {
    "id": "d4Eq5FOU-5iB",
    "tags": []
   },
   "outputs": [
    {
     "name": "stdout",
     "output_type": "stream",
     "text": [
      "The reverse of the list [91, 11, 22, 31, 41, 15] is [15, 41, 31, 22, 11, 91]\n"
     ]
    }
   ],
   "source": [
    "# Let's do an example using the 'reverse' function, which reverses the order of the elements in a list.\n",
    "example_list = [91,11,22,31,41,15]\n",
    "\n",
    "# Let's make a copy of the list before we reverse it.\n",
    "# We have to make a copy of the list because the reverse function will modify the list in place!\n",
    "# This is one of the tricky things about Python, that some functions modify the object in place\n",
    "# and some do not.  It is always a good idea to make a copy of the object before you modify it,\n",
    "# so that you do not lose the original object.\n",
    "example_list_reversed = example_list.copy()\n",
    "\n",
    "# Now, let's reverse the list and print out the original and reversed lists.\n",
    "example_list_reversed.reverse()\n",
    "\n",
    "# Print out the original and reversed lists\n",
    "print(f'The reverse of the list {example_list} is {example_list_reversed}')"
   ]
  },
  {
   "cell_type": "code",
   "execution_count": null,
   "metadata": {
    "id": "pvmG_PEac7LX",
    "tags": []
   },
   "outputs": [],
   "source": [
    "# Let's do some examples using the 'append' and 'extend' functions.\n",
    "example_list = [0,1,2,3,4,5]\n",
    "print('list before appending: %s'% str(example_list))\n",
    "\n",
    "# The 'append' function adds a single element to the end of a list.\n",
    "example_list.append(6)\n",
    "print('list after appending: %s'% str(example_list))\n",
    "\n",
    "example_list = [0,1,2,3,4,5]\n",
    "print('list before extending: %s'% str(example_list))\n",
    "\n",
    "# The 'extend' function adds multiple elements to the end of a list.\n",
    "example_list.extend([6,7,8])\n",
    "print('list after extending: %s'% str(example_list))"
   ]
  },
  {
   "cell_type": "code",
   "execution_count": null,
   "metadata": {},
   "outputs": [],
   "source": [
    "# Example of using the 'clear' function to clear a list\n",
    "example_list = [0,1,2,3,4,5]\n",
    "print('list before clearing: %s'% str(example_list))\n",
    "example_list.clear()\n",
    "print('list after clearing: %s'% str(example_list))"
   ]
  },
  {
   "cell_type": "code",
   "execution_count": 34,
   "metadata": {},
   "outputs": [
    {
     "name": "stdout",
     "output_type": "stream",
     "text": [
      "list: [0, 1, 5, 3, 4, 5]\n",
      "how many 5s are in the list? 2\n"
     ]
    }
   ],
   "source": [
    "# Example of using the 'count' function to count the number of times an element appears in a list\n",
    "example_list = [0,1,5,3,4,5]\n",
    "number_of_5s = example_list.count(5)\n",
    "print('list: %s'% str(example_list))\n",
    "print('how many 5s are in the list? %s'% str(number_of_5s))"
   ]
  },
  {
   "cell_type": "markdown",
   "metadata": {
    "id": "7HX7wEdlOqCc"
   },
   "source": [
    "### 3.B.  Common functions that are used on iterables\n",
    "\n",
    "\n",
    "| Command    | Description | Example\n",
    "| ----------- | ----------- | ------------ |\n",
    "| len      | how large is an iterable | len(list1) |\n",
    "| sum | add everything in a list of numerical values | sum([1,2,3,4])  |\n",
    "| zip   | aggregates two same length iterables into one list, with the values being placed into tuples    | zip([1,2,3,4],[5,6,7,8]) |"
   ]
  },
  {
   "cell_type": "code",
   "execution_count": 37,
   "metadata": {
    "colab": {
     "base_uri": "https://localhost:8080/"
    },
    "id": "pRFHRwkdPwGG",
    "outputId": "0463bc87-a3cd-4222-8782-632e70707e71",
    "tags": []
   },
   "outputs": [
    {
     "name": "stdout",
     "output_type": "stream",
     "text": [
      "how long are these lists: \n",
      "4\n",
      "Whats the sum of list one: \n",
      "10\n",
      "Whats the zip of both of these lists: \n",
      "[(1, 4), (2, 5), (3, 6), (4, 7)]\n"
     ]
    }
   ],
   "source": [
    "# Let's try out the len, sum, and zip functions on lists\n",
    "example_list_1 = [1,2,3,4]\n",
    "example_list_2 = [4,5,6,7]\n",
    "\n",
    "print('how long are these lists: ')\n",
    "print(len(example_list_1))\n",
    "\n",
    "print('Whats the sum of list one: ')\n",
    "print(sum(example_list_1))\n",
    "\n",
    "print('Whats the zip of both of these lists: ')\n",
    "print(list(zip(example_list_1,example_list_2)))"
   ]
  },
  {
   "cell_type": "markdown",
   "metadata": {
    "id": "ZaPQNGZ5qNuN"
   },
   "source": [
    "#### An aside about iterator objects (zip)\n",
    "\n",
    "Any object that has a ```.__iter__()``` and ```.next()``` method is considered an **iterator**. To put it simply, these are objects that map a given bit of memory and return the desired values one at a time when iterated over. ```zip``` is an example of an iterator. If we call the zip object itself, it doesn't give us the list of tuples we expect, this is because the zip object hasn't been \"exhausted\" by being iterated over. The iterator object has to be called for its length to obtain all its values, hence why we have to convert it to a new list if we want to view it. Until it's exhausted it's effectively just a pointer to some location in memory.\n",
    "\n",
    "Why does it do this? Well it's saving memory in the background! Calling zip on two objects logically means those objects are already in memory, to make a new object combining them means we are at least doubling the amount of memory right away, instead, zip makes a \"map\" of how to combine these two objects and only really MAKES the new object requested when it is used."
   ]
  },
  {
   "cell_type": "code",
   "execution_count": null,
   "metadata": {
    "colab": {
     "base_uri": "https://localhost:8080/"
    },
    "id": "4WAosadkroFl",
    "outputId": "151b25ef-e863-4520-fc5e-fae27a6f1155",
    "tags": []
   },
   "outputs": [],
   "source": [
    "# Example showing that the zip function returns a zip object, not a list!\n",
    "zipobj = zip(example_list_1,example_list_2)\n",
    "print('The zip object: ')\n",
    "print(zipobj)\n",
    "\n",
    "# To convert the zip object to a list, we can use the list function.\n",
    "print('The zip object as a list: ')\n",
    "print(list(zipobj))\n",
    "\n",
    "# The zip object is a one-time use object, so once you convert it to a list, it is empty.\n",
    "# If you try to convert it to a list again, it will be empty:\n",
    "print('If we try to convert the zip object to a list again, it will be empty: ')\n",
    "print(list(zipobj))"
   ]
  },
  {
   "cell_type": "code",
   "execution_count": null,
   "metadata": {
    "colab": {
     "base_uri": "https://localhost:8080/",
     "height": 172
    },
    "id": "aeI0m4j1sPfJ",
    "outputId": "057a5ad5-4193-4164-c3c5-4806f542be02",
    "tags": []
   },
   "outputs": [],
   "source": [
    "# The internal function __next__ can be used to iterate through the zip object.\n",
    "zipobj = zip(example_list_1,example_list_2)\n",
    "\n",
    "# Let's iterate through the zip object using the __next__ function.\n",
    "print('The first element of the zip object: ')\n",
    "print(zipobj.__next__())\n",
    "\n",
    "print('The second element of the zip object: ')\n",
    "print(zipobj.__next__())\n",
    "\n",
    "print('The third element of the zip object: ')\n",
    "print(zipobj.__next__())\n",
    "\n",
    "print('The fourth element of the zip object: ')\n",
    "print(zipobj.__next__())\n",
    "\n",
    "# If we try to iterate through the zip object again, we will get a StopIteration error.\n",
    "print('If we try to iterate through the zip object again, we will get a StopIteration error: ')\n",
    "print(zipobj.__next__())"
   ]
  },
  {
   "cell_type": "markdown",
   "metadata": {},
   "source": [
    "**Oh no, another error!  What should I do?**\n",
    "\n",
    "Don't panic.  This will happen again and again in this course.\n",
    "\n",
    "When working with Jupyter Notebooks in VS Code, Python error messages can help you diagnose and fix issues in your code. Here are key elements to look for in an error message.\n",
    "\n",
    "* *Error Type*: The type of error (e.g., SyntaxError, TypeError, ValueError) provides a clue about what went wrong. In this particular case, we had a **StopIteration**.\n",
    "* *Error Message*: A description of the error, often indicating what the problem is (e.g., \"unexpected EOF while parsing\"). In this case, the error message is blank.\n",
    "* *Traceback*: A stack trace showing the sequence of function calls leading to the error. This helps identify where the error occurred. In this case, the trace is simple, and the error occurred right here in our cell.\n",
    "* *Line Number*: The specific line in the code where the error was detected. This helps you quickly locate the problematic code. In this case, the error occurred in **line 19** of our current cell.  If you click the blue link on that number, it will take you to it in your code.\n",
    "* *Code Snippet*: Sometimes, the error message includes a snippet of the code around the error, providing additional context. In this case, it shows us the last three lines above the error.\n",
    "\n",
    "By carefully examining these elements, you can better understand the cause of the error and how to fix it.  In this case, we already knew what the error was going to be."
   ]
  },
  {
   "cell_type": "markdown",
   "metadata": {
    "id": "aRNeMrkiukcW"
   },
   "source": [
    "# 4.  Slicing and Indexing\n",
    "\n",
    "With the introduction of strings we now need to go over the concepts of  **indexing** and **slicing** within python as these will be relevant to both strings and iterable objects. **Indexing** and **slicing** are techniques used to access elements of sequences like lists, tuples, and strings in Python.\n",
    "\n",
    "**Indexing**\n",
    "* *Definition*: Accessing a single element from a sequence using its position (index).\n",
    "* *Syntax*: sequence[index]\n",
    "\n",
    "**Slicing**\n",
    "* *Definition*: Accessing a subset of elements from a sequence by specifying a range of indices.\n",
    "* *Syntax*: sequence[start:stop:step]\n",
    "* *start*: The starting index (inclusive).\n",
    "* *stop*: The ending index (exclusive).\n",
    "* *step*: The step size (optional, default is one).\n",
    "\n",
    "Indexing retrieves individual elements, while slicing retrieves a range of elements.\n",
    "\n",
    "```test_string = 'hello im a string to slice'```\n",
    "\n",
    "**Slicing** and **indexing** works as follows:\n",
    "\n",
    "``` iterable[x:y:z] ```\n",
    "\n",
    "return every zth element in range x to y **not including y**\n",
    "\n",
    "0:10 is equivalent to\n",
    "```i = 0 to i < 10 for i ++ 1```\n",
    "\n",
    "**indexing starts at zero!!**\n",
    "\n",
    "**reverse indexing starts at -1**\n",
    "\n",
    "You can also leave out some of the elements if you are starting from the front or back:\n",
    "\n",
    "| Example    | Equivalent to | Description |\n",
    "| ----------- | ----------- | ------------ |\n",
    "| ```iterable[5]``` | ```iterable[5:6:1]```      | get the 5th element |\n",
    "| ```iterable[0]``` | ```iterable[0:1:1]```      | get the first element |\n",
    "| ```iterable[-1]``` | ```iterable[-1:-2:-1]```      | get the last element |\n",
    "| ```iterable[:5]``` | ```iterable[0:5:1]```      | get the first 5 elements |\n",
    "| ```iterable[::5]``` | ```iterable[0:-1:5]```      | get every 5th element starting at index 0 of the whole iterable |\n",
    "| ```iterable[3::-1]``` | ```iterable[3:-1:-1]```      | get all elements past index 3 and reverse them |\n",
    "\n",
    "\n",
    "And slicing can also be used to reverse or get elements from the back of an iterable:\n",
    "\n",
    "```iterable[:-3]``` would return the last 3 elements of the iterable\n",
    "\n"
   ]
  },
  {
   "cell_type": "code",
   "execution_count": null,
   "metadata": {
    "id": "LEWFrrKtu4GC",
    "tags": []
   },
   "outputs": [],
   "source": [
    "# Let's do some examples of indexing and slicing with strings.  We will start with a string:\n",
    "test_string = 'hello im a string to slice'\n",
    "print('Original string: %s'%test_string)\n",
    "\n",
    "# Let's get the first and third elements of the string.\n",
    "first_element = test_string[0]\n",
    "print(f'first element: {first_element}')\n",
    "third_element = test_string[2]\n",
    "print(f'third element: {third_element}')\n",
    "\n",
    "# Now, let's slice the string to get the first 5 elements or to remove the last 3 elements.\n",
    "first5_elements = test_string[0:5]\n",
    "print(f'first 5 elements: {first5_elements}')\n",
    "\n",
    "removed_the_last_3_elements = test_string[0:-3]\n",
    "print(f'string with the last 3 elements removed: {removed_the_last_3_elements}')\n",
    "\n",
    "# Let's reverse the string\n",
    "reversed_string = test_string[::-1] #reversed string\n",
    "print(reversed_string)\n",
    "\n",
    "# Let's get every 2nd element of the string\n",
    "sliced_string = test_string[:2] #get every 2nd element starting at index 0\n",
    "print(sliced_string)\n",
    "\n",
    "# Some more examples to demonstrate the default values of the slice function.\n",
    "print('These are some examples of equivalent indexing:')\n",
    "iterable = test_string  #examples of equivalent indexing\n",
    "print('%s == %s'% (iterable[2],iterable[2:3:1]))\n",
    "print('%s == %s'% (iterable[-1],iterable[-1:-2:-1]))\n",
    "print('%s == %s'% (iterable[:5],iterable[0:5:1]))"
   ]
  },
  {
   "cell_type": "markdown",
   "metadata": {},
   "source": [
    "### Practice with Lists and Indexing/Slicing\n",
    "\n",
    "Try the following two quizzes to build your confidence with lists and slicing. "
   ]
  },
  {
   "cell_type": "code",
   "execution_count": null,
   "metadata": {},
   "outputs": [],
   "source": [
    "multiple_choice_quiz('list_operations')"
   ]
  },
  {
   "cell_type": "code",
   "execution_count": null,
   "metadata": {},
   "outputs": [],
   "source": [
    "multiple_choice_quiz('slicing')"
   ]
  },
  {
   "cell_type": "markdown",
   "metadata": {
    "id": "JRMngmRXnK0W"
   },
   "source": [
    "## 4.A.  Dictionaries\n",
    "\n",
    "Dictionaries are a very powerful way to provide a nonordered method to store information. Dictionaries are \"keyed\" with an object key that goes to some other object. Since its object oriented, a user can match particular objects to other objects. In Python they are denoted by curly brackets in python with pairs of keys and values separated by a colon \":\"\n",
    "\n",
    "Dictionaries cannot be sliced over, since they have no inherent order. Python stores dictionaries in memory in any order.\n",
    "\n",
    "```\n",
    "example_dict = {'key1': 0, 1:'1'}\n",
    "example_dict2 = {'key1': [1,2,3,4], 1:'1'}\n",
    "```"
   ]
  },
  {
   "cell_type": "code",
   "execution_count": 39,
   "metadata": {
    "colab": {
     "base_uri": "https://localhost:8080/"
    },
    "id": "MXHTUAEQckc4",
    "outputId": "7d32499b-95af-4967-86e3-a0d4f3188e05",
    "tags": []
   },
   "outputs": [
    {
     "name": "stdout",
     "output_type": "stream",
     "text": [
      "The dictionary:\n",
      "{'atg': 25, 'key2': 1}\n",
      "The keys of the dictionary:\n",
      "dict_keys(['atg', 'key2'])\n",
      "The values of the dictionary:\n",
      "dict_values([25, 1])\n"
     ]
    }
   ],
   "source": [
    "# Create an example dictionary\n",
    "example_dict = {'atg': 25, 'key2':1} \n",
    "\n",
    "# Print out the dictionary\n",
    "print('The dictionary:')\n",
    "print(example_dict)\n",
    "\n",
    "# Print out the keys and values of the dictionary separately:\n",
    "print('The keys of the dictionary:')\n",
    "print(example_dict.keys())\n",
    "\n",
    "print('The values of the dictionary:')\n",
    "print(example_dict.values())\n"
   ]
  },
  {
   "cell_type": "code",
   "execution_count": 40,
   "metadata": {
    "colab": {
     "base_uri": "https://localhost:8080/"
    },
    "id": "Ixn83rOXkTY0",
    "outputId": "1f8202dc-cfc7-4d95-d323-f17792ddea5f",
    "tags": []
   },
   "outputs": [
    {
     "name": "stdout",
     "output_type": "stream",
     "text": [
      "The dictionary after adding a new key-value pair:\n",
      "{'atg': 25, 'key2': 1, 'newkey': 'newvalue'}\n"
     ]
    }
   ],
   "source": [
    "# Let's add a new key-value pair to the dictionary\n",
    "example_dict['newkey'] = 'newvalue'  #adding a new value to a dictionary\n",
    "\n",
    "# Print out the dictionary\n",
    "print('The dictionary after adding a new key-value pair:')\n",
    "print(example_dict)"
   ]
  },
  {
   "cell_type": "code",
   "execution_count": 41,
   "metadata": {
    "id": "7CrCvIqtdHYa",
    "tags": []
   },
   "outputs": [
    {
     "name": "stdout",
     "output_type": "stream",
     "text": [
      "The dictionary after adding a new key-value pair:\n",
      "{'atg': 25, 'key2': 1, 'newkey': 'newvalue', 'newkey2': 'newvalue2'}\n",
      "The dictionary after replacing the value of a key:\n",
      "{'atg': 25, 'key2': 1, 'newkey': 'newvalue', 'newkey2': 'overwritten'}\n"
     ]
    }
   ],
   "source": [
    "# Add another key-value pair to the dictionary\n",
    "example_dict['newkey2'] = 'newvalue2'\n",
    "print('The dictionary after adding a new key-value pair:')\n",
    "print(example_dict)\n",
    "\n",
    "# If we use the same key, this will  overwrite what is in that value, not add a new value\n",
    "example_dict['newkey2'] = 'overwritten'\n",
    "print('The dictionary after replacing the value of a key:')\n",
    "print(example_dict)"
   ]
  },
  {
   "cell_type": "markdown",
   "metadata": {
    "id": "5Iyb78mYnMho"
   },
   "source": [
    "## 4.B.  Sets\n",
    "\n",
    "Sets are a useful way to compare the objects stored within containers. Comparisons between sets are very useful and include methods such as an intersection of objects within two containers, or the non-intersection of objects. Sets are denoted by curly brackets without any key value pairs like a dictionary. Values in sets are **unique** meaning you cant store multiple of the same value within a set.\n",
    "\n",
    "```\n",
    "example_set = {1,2,3}\n",
    "```"
   ]
  },
  {
   "cell_type": "code",
   "execution_count": 38,
   "metadata": {
    "id": "vbDRIYKyihJL",
    "tags": []
   },
   "outputs": [
    {
     "name": "stdout",
     "output_type": "stream",
     "text": [
      "The first set:\n",
      "{'c', 'a', 'b'}\n",
      "The second set:\n",
      "{'c', '2', 'a'}\n",
      "The intersection of the two sets:\n",
      "{'c', 'a'}\n",
      "The union of the two sets:\n",
      "{'c', 'a', '2', 'b'}\n",
      "The difference of the two sets (set1 - set2):\n",
      "{'b'}\n",
      "The difference of the two sets (set2 - set1):\n",
      "{'2'}\n",
      "The symmetric difference of the two sets:\n",
      "{'2', 'b'}\n"
     ]
    }
   ],
   "source": [
    "# Create two example sets:\n",
    "set1 = {\"a\",\"b\",\"c\"}\n",
    "set2 = {\"a\",\"c\",\"2\"}\n",
    "\n",
    "# Print out the original sets\n",
    "print('The first set:')\n",
    "print(set1)\n",
    "print('The second set:')\n",
    "print(set2)\n",
    "\n",
    "# Print out the intersection of the two sets\n",
    "print('The intersection of the two sets:')\n",
    "print(set1.intersection(set2))\n",
    "\n",
    "# Print out the union of the two sets\n",
    "print('The union of the two sets:')\n",
    "print(set1.union(set2))\n",
    "\n",
    "# Print out the difference of the two sets\n",
    "print('The difference of the two sets (set1 - set2):')\n",
    "print(set1.difference(set2))\n",
    "print('The difference of the two sets (set2 - set1):')\n",
    "print(set2.difference(set1))\n",
    "\n",
    "# Print out the symmetric difference of the two sets\n",
    "print('The symmetric difference of the two sets:')\n",
    "print(set1.symmetric_difference(set2))"
   ]
  },
  {
   "cell_type": "code",
   "execution_count": null,
   "metadata": {},
   "outputs": [],
   "source": [
    "# Let's see what functions can be used with sets.  To see a list of all functions that can be used with sets,\n",
    "# type 'dir(set)' in a code cell and run it. This will print out a list of all functions that can be used with sets.\n",
    "# Or, if we only want to see the functions, we can use:\n",
    "print([x for x in dir(set) if '__' not in x] ) "
   ]
  },
  {
   "cell_type": "code",
   "execution_count": null,
   "metadata": {
    "id": "5cZHQS6oi_vz",
    "tags": []
   },
   "outputs": [],
   "source": [
    "# We can use the property of a set being unique to remove unique entries from a list:\n",
    "\n",
    "# Create a list with duplicates\n",
    "list_with_duplicates = [1,2,3,4,5,6,6,6,6,7,7,7,8,9,10,10]\n",
    "print(f'Original list with duplicates: {list_with_duplicates}')\n",
    "\n",
    "# Convert the list to a set and back to remove duplicates\n",
    "unique_list = list(set(list_with_duplicates))#convert the list to a set and back to remove duplicates\n",
    "print(f'List with duplicates removed: {unique_list}')"
   ]
  },
  {
   "cell_type": "markdown",
   "metadata": {},
   "source": [
    "### Practice with Dictionaries\n",
    "\n",
    "Try the folloiwng quiz to build confidence in using dictionaries"
   ]
  },
  {
   "cell_type": "code",
   "execution_count": null,
   "metadata": {},
   "outputs": [],
   "source": [
    "multiple_choice_quiz('dictionary_operations')"
   ]
  },
  {
   "cell_type": "markdown",
   "metadata": {
    "id": "j_SWDCYXYxao"
   },
   "source": [
    "# Study Questions and Homework\n",
    "\n",
    "Test your understanding of this notebook by completing the second set of problems in the notebook \"Homework1_ProblemSet\"."
   ]
  },
  {
   "cell_type": "markdown",
   "metadata": {
    "id": "Fl51NvzBFgbu"
   },
   "source": [
    "Additional study questions:\n",
    "\n",
    "Lists:\n",
    "\n",
    "* What happens when you sort() a list of both numerals and strings?\n",
    "* What's the difference between a dictkeys object, a list, and a tuple?\n",
    "\n",
    "Dictionaries:\n",
    "* Which bracket defines a dictionary? How is a dictionary differently defined compared to a set?\n",
    "\n",
    "\n"
   ]
  },
  {
   "cell_type": "markdown",
   "metadata": {
    "id": "yM50KRNmN3Mm"
   },
   "source": [
    "# Additional Reading\n",
    "\n",
    "https://docs.python.org/3/library/stdtypes.html"
   ]
  }
 ],
 "metadata": {
  "colab": {
   "provenance": [],
   "toc_visible": true
  },
  "kernelspec": {
   "display_name": "BIOM480A5",
   "language": "python",
   "name": "python3"
  },
  "language_info": {
   "codemirror_mode": {
    "name": "ipython",
    "version": 3
   },
   "file_extension": ".py",
   "mimetype": "text/x-python",
   "name": "python",
   "nbconvert_exporter": "python",
   "pygments_lexer": "ipython3",
   "version": "3.10.16"
  }
 },
 "nbformat": 4,
 "nbformat_minor": 4
}
