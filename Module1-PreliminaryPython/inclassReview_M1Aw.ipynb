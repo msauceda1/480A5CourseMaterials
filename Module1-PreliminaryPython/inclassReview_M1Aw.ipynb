{
 "cells": [
  {
   "cell_type": "code",
   "execution_count": 1,
   "metadata": {},
   "outputs": [],
   "source": [
    "import sys\n",
    "import os\n",
    "# add the path ../BIOM480A5 to the system path\n",
    "sys.path.append(os.path.abspath('BIOM480A5'))\n",
    "from BIOM480A5_Quizzes import multiple_choice_quiz\n",
    "from BIOM480A5_codes import spring2025Students, geneRegulationTopics \n",
    "import textwrap\n",
    "\n",
    "import random"
   ]
  },
  {
   "cell_type": "markdown",
   "metadata": {},
   "source": [
    "# Types"
   ]
  },
  {
   "cell_type": "code",
   "execution_count": null,
   "metadata": {},
   "outputs": [],
   "source": [
    "multiple_choice_quiz('types')"
   ]
  },
  {
   "cell_type": "markdown",
   "metadata": {},
   "source": [
    "# Slicing"
   ]
  },
  {
   "cell_type": "code",
   "execution_count": null,
   "metadata": {},
   "outputs": [],
   "source": [
    "multiple_choice_quiz('slicing')"
   ]
  },
  {
   "cell_type": "markdown",
   "metadata": {},
   "source": [
    "# Operations on Lists"
   ]
  },
  {
   "cell_type": "code",
   "execution_count": null,
   "metadata": {},
   "outputs": [],
   "source": [
    "multiple_choice_quiz('list_operations')"
   ]
  },
  {
   "cell_type": "markdown",
   "metadata": {},
   "source": [
    "# Dictionaries"
   ]
  },
  {
   "cell_type": "code",
   "execution_count": null,
   "metadata": {},
   "outputs": [],
   "source": [
    "multiple_choice_quiz('dictionary_operations')"
   ]
  },
  {
   "cell_type": "code",
   "execution_count": null,
   "metadata": {},
   "outputs": [],
   "source": [
    "# Consider the dictionary:\n",
    "Dict1 = {'a':1, 'b':2, 'c':3}\n",
    "\n",
    "# How do I fix this for loop to print the keys and values in Dict1?\n",
    "for blah in blahs:\n",
    "    print(f'The value of {blah} is {blahblah}.')"
   ]
  },
  {
   "cell_type": "markdown",
   "metadata": {},
   "source": [
    "# Strings"
   ]
  },
  {
   "cell_type": "code",
   "execution_count": null,
   "metadata": {},
   "outputs": [],
   "source": [
    "multiple_choice_quiz('string_operations')"
   ]
  },
  {
   "cell_type": "markdown",
   "metadata": {},
   "source": [
    "# Gene Regulation Assignments"
   ]
  },
  {
   "cell_type": "code",
   "execution_count": null,
   "metadata": {},
   "outputs": [],
   "source": [
    "# set rng seed for reproducibility\n",
    "random.seed(0)\n",
    "students = spring2025Students()\n",
    "topics = geneRegulationTopics()\n",
    "random.shuffle(topics)\n"
   ]
  },
  {
   "cell_type": "code",
   "execution_count": 4,
   "metadata": {},
   "outputs": [
    {
     "name": "stdout",
     "output_type": "stream",
     "text": [
      "['Hormonal Regulation - Peptide Hormones: Signaling cascades activated by peptide hormones.', 'Signal Transduction and Cellular Signaling - Intracellular Signaling Cascades: Series of molecular events triggered by signaling molecules.', 'Post-Translational Modification - Acetylation/Deacetylation: Addition or removal of acetyl groups to regulate protein function.', 'Transcription Elongation and Termination - Elongation Factors: Proteins facilitating RNA polymerase movement along the DNA.', 'Feedback Regulation and Feedback Inhibition - miRNA-mediated Regulation: Post-transcriptional regulation by microRNAs.', 'Promoter Activation and Transcription Initiation - RNA Polymerase Recruitment: Binding of RNA polymerase to gene promoters.', 'Signal Transduction and Cellular Signaling - Receptor-Mediated Signaling: Activation of gene expression in response to extracellular signals.', 'Post-Translational Modification - Ubiquitination: Addition of ubiquitin molecules for protein degradation.', 'Cell Cycle Regulation - Cyclins and Cyclin-Dependent Kinases (CDKs): Regulate gene expression during the cell cycle.', 'Chromatin Remodeling and Epigenetic Regulation - Chromatin Remodeling Complexes: Alteration of chromatin structure to allow or restrict transcription.', 'Cellular Localization - Mitochondrial Targeting Signals: Sequences directing proteins to mitochondria.', 'Cellular Localization - Endoplasmic Reticulum (ER) Targeting Signals: Sequences directing proteins to the ER.', 'mRNA Transport and Localization - Nuclear Export: Transport of mature mRNA from the nucleus to the cytoplasm.', 'Cell Signaling Gradients - Gradients of signaling molecules influencing gene expression patterns.', 'Chromatin Remodeling and Epigenetic Regulation - Histone Modification: Acetylation, methylation, phosphorylation of histone proteins.', 'Environmental and Metabolic Regulation - Oxygen and Redox Regulation: Cellular oxygen levels affecting gene expression.', 'Promoter Activation and Transcription Initiation - Transcriptional Coactivators/Co-repressors: Proteins that enhance or inhibit transcriptional activity.', 'Translation Initiation and Elongation - Initiator tRNA: tRNA carrying the first amino acid in translation.', 'Stress Response - Heat Shock Proteins (HSPs): Induction in response to cellular stress.', 'Transcription Elongation and Termination - Pausing and Anti-Pausing Factors: Regulation of RNA polymerase pausing and elongation.', 'Promoter Activation and Transcription Initiation - Enhancers and Silencers: DNA elements influencing transcription positively (enhancers) or negatively (silencers).', 'mRNA Transport and Localization - mRNA Localization Signals: Sequences directing mRNA to specific cellular locations.', 'Non-Genetic Inheritance - Transgenerational Epigenetic Inheritance: Inheritance of epigenetic marks across generations.', 'Signal Transduction and Cellular Signaling - Phosphorylation/Dephosphorylation: Post-translational modification of proteins to activate or deactivate signaling pathways.', 'Promoter Activation and Transcription Initiation - Promoter Binding Proteins: Transcription factors binding to gene promoters.', 'Signal Transduction and Cellular Signaling - G-protein Coupled Receptors (GPCRs): Activation of gene expression through GPCR-mediated pathways.', 'Stress Response - DNA Damage Response: Activation of repair mechanisms in response to DNA damage.', 'Hormonal Regulation - Steroid Hormones: Influence gene expression through nuclear receptors.', 'Environmental and Metabolic Regulation - Metabolite Sensing: Cellular metabolite levels impacting gene regulation.', 'RNA Processing and Modification - RNA Splicing: Removal of introns and joining of exons.', 'Post-Translational Modification - Glycosylation: Addition of sugar moieties to proteins.', 'Epistasis and Genetic Interaction - Epistasis: Gene interaction where the effect of one gene depends on the presence of another.', 'Chromatin Remodeling and Epigenetic Regulation - DNA Methylation: Addition of methyl groups to DNA, influencing gene expression.', 'Feedback Regulation and Feedback Inhibition - Negative Feedback Loops: Mechanisms to dampen excessive gene expression.', 'RNA Processing and Modification - Polyadenylation: Addition of poly-A tail to mRNA.', 'Chromatin Remodeling and Epigenetic Regulation - Non-Coding RNAs (ncRNAs): Involvement of microRNAs (miRNAs) and long non-coding RNAs (lncRNAs).', 'Epistasis and Genetic Interaction - Genetic Interactions: Interaction between genes influencing expression patterns.', 'Promoter Activation and Transcription Initiation - Mediator Complex: Bridges between transcription factors and RNA polymerase.', 'Environmental and Metabolic Regulation - Nutrient Availability: Availability of nutrients influencing gene expression.', 'Translation Initiation and Elongation - Ribosome Binding Sites: Recognition of mRNA by ribosomes.', 'Protein Folding and Stability - Chaperone Proteins: Assist in proper protein folding.', 'RNA Processing and Modification - RNA Editing: Alteration of nucleotide sequence in RNA transcripts.', 'Translation Initiation and Elongation - Termination Factors: Proteins involved in translation termination.', 'Protein Folding and Stability - Proteasomal Degradation: Targeted degradation of proteins by the proteasome.', 'Cellular Localization - Nuclear Localization Signals (NLS): Sequences directing proteins to the nucleus.', 'Transcription Elongation and Termination - Terminator Sequences: Signals marking the end of transcription.', 'Signal Transduction and Cellular Signaling - Second Messenger Systems: Involvement of molecules like cAMP, cGMP, and calcium ions.', 'Post-Translational Modification - Protein Phosphorylation: Addition of phosphate groups to proteins.', 'Cellular Differentiation - Master Regulator Genes: Genes controlling cell fate determination and differentiation.', 'Translation Initiation and Elongation - eIFs (Eukaryotic Initiation Factors): Proteins facilitating translation initiation.']\n"
     ]
    }
   ],
   "source": [
    "\n",
    "print(topics)"
   ]
  },
  {
   "cell_type": "code",
   "execution_count": 5,
   "metadata": {},
   "outputs": [
    {
     "name": "stdout",
     "output_type": "stream",
     "text": [
      "Assignment for Spring 2025 students\n",
      "Becca B will present on the topic of Translation Initiation and Elongation -\n",
      "eIFs (Eukaryotic Initiation Factors): Proteins facilitating translation\n",
      "initiation.\n",
      "\n",
      "\n",
      "Ella B will present on the topic of Cellular Differentiation - Master Regulator\n",
      "Genes: Genes controlling cell fate determination and differentiation.\n",
      "\n",
      "\n",
      "Lauren B will present on the topic of Post-Translational Modification - Protein\n",
      "Phosphorylation: Addition of phosphate groups to proteins.\n",
      "\n",
      "\n",
      "James B will present on the topic of Signal Transduction and Cellular Signaling\n",
      "- Second Messenger Systems: Involvement of molecules like cAMP, cGMP, and\n",
      "calcium ions.\n",
      "\n",
      "\n",
      "Chayanee C will present on the topic of Transcription Elongation and Termination\n",
      "- Terminator Sequences: Signals marking the end of transcription.\n",
      "\n",
      "\n",
      "Deven D will present on the topic of Cellular Localization - Nuclear\n",
      "Localization Signals (NLS): Sequences directing proteins to the nucleus.\n",
      "\n",
      "\n",
      "Jackson E will present on the topic of Protein Folding and Stability -\n",
      "Proteasomal Degradation: Targeted degradation of proteins by the proteasome.\n",
      "\n",
      "\n",
      "Delaney E will present on the topic of Translation Initiation and Elongation -\n",
      "Termination Factors: Proteins involved in translation termination.\n",
      "\n",
      "\n",
      "Christian F will present on the topic of RNA Processing and Modification - RNA\n",
      "Editing: Alteration of nucleotide sequence in RNA transcripts.\n",
      "\n",
      "\n",
      "Lillian G will present on the topic of Protein Folding and Stability - Chaperone\n",
      "Proteins: Assist in proper protein folding.\n",
      "\n",
      "\n",
      "Andy G will present on the topic of Translation Initiation and Elongation -\n",
      "Ribosome Binding Sites: Recognition of mRNA by ribosomes.\n",
      "\n",
      "\n",
      "Emma G will present on the topic of Environmental and Metabolic Regulation -\n",
      "Nutrient Availability: Availability of nutrients influencing gene expression.\n",
      "\n",
      "\n",
      "Nick G will present on the topic of Promoter Activation and Transcription\n",
      "Initiation - Mediator Complex: Bridges between transcription factors and RNA\n",
      "polymerase.\n",
      "\n",
      "\n",
      "Joshua H will present on the topic of Epistasis and Genetic Interaction -\n",
      "Genetic Interactions: Interaction between genes influencing expression patterns.\n",
      "\n",
      "\n",
      "Paycen H will present on the topic of Chromatin Remodeling and Epigenetic\n",
      "Regulation - Non-Coding RNAs (ncRNAs): Involvement of microRNAs (miRNAs) and\n",
      "long non-coding RNAs (lncRNAs).\n",
      "\n",
      "\n",
      "Kyle H will present on the topic of RNA Processing and Modification -\n",
      "Polyadenylation: Addition of poly-A tail to mRNA.\n",
      "\n",
      "\n",
      "Emma H will present on the topic of Feedback Regulation and Feedback Inhibition\n",
      "- Negative Feedback Loops: Mechanisms to dampen excessive gene expression.\n",
      "\n",
      "\n",
      "Elijah J will present on the topic of Chromatin Remodeling and Epigenetic\n",
      "Regulation - DNA Methylation: Addition of methyl groups to DNA, influencing gene\n",
      "expression.\n",
      "\n",
      "\n",
      "Gabriela J will present on the topic of Epistasis and Genetic Interaction -\n",
      "Epistasis: Gene interaction where the effect of one gene depends on the presence\n",
      "of another.\n",
      "\n",
      "\n",
      "Addison L will present on the topic of Post-Translational Modification -\n",
      "Glycosylation: Addition of sugar moieties to proteins.\n",
      "\n",
      "\n",
      "Matthew L will present on the topic of RNA Processing and Modification - RNA\n",
      "Splicing: Removal of introns and joining of exons.\n",
      "\n",
      "\n",
      "Hassan M will present on the topic of Environmental and Metabolic Regulation -\n",
      "Metabolite Sensing: Cellular metabolite levels impacting gene regulation.\n",
      "\n",
      "\n",
      "Bella P will present on the topic of Hormonal Regulation - Steroid Hormones:\n",
      "Influence gene expression through nuclear receptors.\n",
      "\n",
      "\n",
      "Chris RT will present on the topic of Stress Response - DNA Damage Response:\n",
      "Activation of repair mechanisms in response to DNA damage.\n",
      "\n",
      "\n",
      "Mariana S will present on the topic of Signal Transduction and Cellular\n",
      "Signaling - G-protein Coupled Receptors (GPCRs): Activation of gene expression\n",
      "through GPCR-mediated pathways.\n",
      "\n",
      "\n",
      "Dylan S will present on the topic of Promoter Activation and Transcription\n",
      "Initiation - Promoter Binding Proteins: Transcription factors binding to gene\n",
      "promoters.\n",
      "\n",
      "\n",
      "Jacob S will present on the topic of Signal Transduction and Cellular Signaling\n",
      "- Phosphorylation/Dephosphorylation: Post-translational modification of proteins\n",
      "to activate or deactivate signaling pathways.\n",
      "\n",
      "\n",
      "Hayley S will present on the topic of Non-Genetic Inheritance -\n",
      "Transgenerational Epigenetic Inheritance: Inheritance of epigenetic marks across\n",
      "generations.\n",
      "\n",
      "\n",
      "Kayla T will present on the topic of mRNA Transport and Localization - mRNA\n",
      "Localization Signals: Sequences directing mRNA to specific cellular locations.\n",
      "\n",
      "\n",
      "Vivia VDM will present on the topic of Promoter Activation and Transcription\n",
      "Initiation - Enhancers and Silencers: DNA elements influencing transcription\n",
      "positively (enhancers) or negatively (silencers).\n",
      "\n",
      "\n",
      "Fig V will present on the topic of Transcription Elongation and Termination -\n",
      "Pausing and Anti-Pausing Factors: Regulation of RNA polymerase pausing and\n",
      "elongation.\n",
      "\n",
      "\n",
      "AbbyMae W will present on the topic of Stress Response - Heat Shock Proteins\n",
      "(HSPs): Induction in response to cellular stress.\n",
      "\n",
      "\n",
      "Alvina Y will present on the topic of Translation Initiation and Elongation -\n",
      "Initiator tRNA: tRNA carrying the first amino acid in translation.\n",
      "\n",
      "\n",
      "Polina Z will present on the topic of Promoter Activation and Transcription\n",
      "Initiation - Transcriptional Coactivators/Co-repressors: Proteins that enhance\n",
      "or inhibit transcriptional activity.\n",
      "\n",
      "\n"
     ]
    }
   ],
   "source": [
    "assignmentDict = {}\n",
    "for student in students:\n",
    "    assignmentDict[student] = topics.pop()\n",
    "\n",
    "print(\"Assignment for Spring 2025 students\")\n",
    "for student, topic in assignmentDict.items():\n",
    "    # Print the folllowing string, wrap the output at 80 characters\n",
    "    string2print = f\"{student} will present on the topic of {topic}\"\n",
    "    print(textwrap.fill(string2print, width=80))\n",
    "    print('\\n')\n",
    "        \n",
    "    input(\"Press Enter to continue...\")\n"
   ]
  },
  {
   "cell_type": "code",
   "execution_count": 6,
   "metadata": {},
   "outputs": [
    {
     "name": "stdout",
     "output_type": "stream",
     "text": [
      "['Hormonal Regulation - Peptide Hormones: Signaling cascades activated by peptide hormones.', 'Signal Transduction and Cellular Signaling - Intracellular Signaling Cascades: Series of molecular events triggered by signaling molecules.', 'Post-Translational Modification - Acetylation/Deacetylation: Addition or removal of acetyl groups to regulate protein function.', 'Transcription Elongation and Termination - Elongation Factors: Proteins facilitating RNA polymerase movement along the DNA.', 'Feedback Regulation and Feedback Inhibition - miRNA-mediated Regulation: Post-transcriptional regulation by microRNAs.', 'Promoter Activation and Transcription Initiation - RNA Polymerase Recruitment: Binding of RNA polymerase to gene promoters.', 'Signal Transduction and Cellular Signaling - Receptor-Mediated Signaling: Activation of gene expression in response to extracellular signals.', 'Post-Translational Modification - Ubiquitination: Addition of ubiquitin molecules for protein degradation.', 'Cell Cycle Regulation - Cyclins and Cyclin-Dependent Kinases (CDKs): Regulate gene expression during the cell cycle.', 'Chromatin Remodeling and Epigenetic Regulation - Chromatin Remodeling Complexes: Alteration of chromatin structure to allow or restrict transcription.', 'Cellular Localization - Mitochondrial Targeting Signals: Sequences directing proteins to mitochondria.', 'Cellular Localization - Endoplasmic Reticulum (ER) Targeting Signals: Sequences directing proteins to the ER.', 'mRNA Transport and Localization - Nuclear Export: Transport of mature mRNA from the nucleus to the cytoplasm.', 'Cell Signaling Gradients - Gradients of signaling molecules influencing gene expression patterns.', 'Chromatin Remodeling and Epigenetic Regulation - Histone Modification: Acetylation, methylation, phosphorylation of histone proteins.', 'Environmental and Metabolic Regulation - Oxygen and Redox Regulation: Cellular oxygen levels affecting gene expression.']\n"
     ]
    }
   ],
   "source": [
    "print(topics)"
   ]
  },
  {
   "cell_type": "code",
   "execution_count": null,
   "metadata": {},
   "outputs": [],
   "source": []
  }
 ],
 "metadata": {
  "kernelspec": {
   "display_name": "Python 3",
   "language": "python",
   "name": "python3"
  },
  "language_info": {
   "codemirror_mode": {
    "name": "ipython",
    "version": 3
   },
   "file_extension": ".py",
   "mimetype": "text/x-python",
   "name": "python",
   "nbconvert_exporter": "python",
   "pygments_lexer": "ipython3",
   "version": "3.10.16"
  }
 },
 "nbformat": 4,
 "nbformat_minor": 2
}
