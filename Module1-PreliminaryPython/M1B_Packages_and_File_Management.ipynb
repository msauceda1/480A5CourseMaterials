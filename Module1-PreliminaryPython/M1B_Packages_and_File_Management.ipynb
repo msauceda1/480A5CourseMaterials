{
 "cells": [
  {
   "cell_type": "markdown",
   "metadata": {},
   "source": [
    "<html>\n",
    "    <summary></summary>\n",
    "    <p float=\"left\">\n",
    "         <div> <p></p> </div>\n",
    "         <div style=\"font-size: 20px; width: 800px;\">\n",
    "              <h1>\n",
    "               <left>Importing packages, classes/modules, os navigation, reading files </left>\n",
    "              </h1>\n",
    "              <p><left>============================================================================</left> </p>              \n",
    "             <pre>Course: BIOM/CBE 480A5, Spring 2025\n",
    "Instructor: Dr. Brian Munsky\n",
    "Contact Info: munsky@colostate.edu\n",
    "Authors: Will Raymond, Dr. Brian Munsky\n",
    "</pre>\n",
    "         </div>\n",
    "    </p>\n",
    "\n",
    "</html>\n",
    "\n",
    "\n",
    "\n",
    "<details>\n",
    "  <summary>Copyright info</summary>\n",
    "\n",
    "```\n",
    "Copyright 2023 Brian Munsky\n",
    "\n",
    "Redistribution and use in source and binary forms, with or without modification, are permitted provided that the following conditions are met:\n",
    "\n",
    "1. Redistributions of source code must retain the above copyright notice, this list of conditions and the following disclaimer.\n",
    "\n",
    "2. Redistributions in binary form must reproduce the above copyright notice, this list of conditions and the following disclaimer in the documentation and/or other materials provided with the distribution.\n",
    "\n",
    "3. Neither the name of the copyright holder nor the names of its contributors may be used to endorse or promote products derived from this software without specific prior written permission.\n",
    "\n",
    "THIS SOFTWARE IS PROVIDED BY THE COPYRIGHT HOLDERS AND CONTRIBUTORS \"AS IS\" AND ANY EXPRESS OR IMPLIED WARRANTIES, INCLUDING, BUT NOT LIMITED TO, THE IMPLIED WARRANTIES OF MERCHANTABILITY AND FITNESS FOR A PARTICULAR PURPOSE ARE DISCLAIMED. IN NO EVENT SHALL THE COPYRIGHT HOLDER OR CONTRIBUTORS BE LIABLE FOR ANY DIRECT, INDIRECT, INCIDENTAL, SPECIAL, EXEMPLARY, OR CONSEQUENTIAL DAMAGES (INCLUDING, BUT NOT LIMITED TO, PROCUREMENT OF SUBSTITUTE GOODS OR SERVICES; LOSS OF USE, DATA, OR PROFITS; OR BUSINESS INTERRUPTION) HOWEVER CAUSED AND ON ANY THEORY OF LIABILITY, WHETHER IN CONTRACT, STRICT LIABILITY, OR TORT (INCLUDING NEGLIGENCE OR OTHERWISE) ARISING IN ANY WAY OUT OF THE USE OF THIS SOFTWARE, EVEN IF ADVISED OF THE POSSIBILITY OF SUCH DAMAGE.\n",
    "```\n",
    "<details>"
   ]
  },
  {
   "cell_type": "markdown",
   "metadata": {
    "id": "_YPwTneNwC64"
   },
   "source": [
    "# **Learning Objectives**\n",
    "In this notebook, we will learn about one of the nicest things about python -- the modular nature of object oriented programming. After completing this notebook, you will be able to:\n",
    "* ```import``` packages or modules to use in your codes or notebooks\n",
    "* find and ```install``` new packages\n",
    "* run simple ```os``` (operating system) tasks to control your computer\n",
    "* ```open``` and ```read/write``` to files\n",
    "* work with ```pandas``` to manage files and data\n",
    "* save data using ```numpy``` arrays and files\n"
   ]
  },
  {
   "cell_type": "markdown",
   "metadata": {},
   "source": [
    "## **1) Importing, Using, and Installing packages**\n",
    "\n",
    "```Reading: Kinder, Nelson Section 4 and Appendix B```\n",
    "\n",
    "Importing modules lets you load particular code into your instance of Python and use only the ones needed.  \n",
    "\n",
    "For example, we can import one section or function of a given code instead of loading the entire package. Available modules are based on your current path / environment variables and your current instillation of python.\n",
    "\n",
    "You can import the package ```sys``` (system) and take a glance at what paths (folders/directories) python has access to when importing:"
   ]
  },
  {
   "cell_type": "code",
   "execution_count": null,
   "metadata": {
    "colab": {
     "base_uri": "https://localhost:8080/"
    },
    "id": "-g7iivNAb5Q7",
    "outputId": "afe14cb2-9884-432f-f19e-09c6881455f6",
    "tags": []
   },
   "outputs": [],
   "source": [
    "# import the modules os and sys\n",
    "import os, sys\n",
    "\n",
    "# Print the current path using the function path from the module sys.  The result of this function\n",
    "# is a list of strings, each string representing a path.  The first path is the current path, which\n",
    "# is the path where the script is being executed. The other paths are the paths where python will\n",
    "# look for modules to import.  If you are trying to import a module and you get an error, you can\n",
    "# check to make sure that the path to the module is in this list.\n",
    "sys.path  #current paths python has"
   ]
  },
  {
   "cell_type": "markdown",
   "metadata": {
    "id": "0L49iqF6J3gI"
   },
   "source": [
    "Let's take a glance at what we have installed already (when we created our environment). To do this we are going to call ```pip```, ```pip``` is the main package manager for Python and comes included since Python 3. ```pip```connects to [PyPI](https://pypi.org/), the python package index where people are free to release code and modules that they have developed.\n",
    "\n",
    "**Tip - The % symbol below tells VS Code to run this command in the background unix kernel, as if this were a terminal or command prompt input.** By calling ```!pip list``` or ```%pip list``` we are telling the terminal to list every package.  Alternatively, try just running the command ```pip list''' in your terminal, and you will get the same result."
   ]
  },
  {
   "cell_type": "code",
   "execution_count": null,
   "metadata": {
    "colab": {
     "base_uri": "https://localhost:8080/"
    },
    "id": "U9pWqC3qKG94",
    "outputId": "6b622281-dd29-4494-d4fb-38b5ac066793",
    "tags": []
   },
   "outputs": [],
   "source": [
    "# Run a \"magic\" command to list the modules that are currently installed in the python environment.\n",
    "# Here the symbol \"%\" is used to indicate that the command is a magic command.  The command \"pip\"\n",
    "# is used to install python packages.  The command \"list\" is used to list the packages that are\n",
    "# currently installed.  The result of this command is a list of strings, each string representing\n",
    "# a package that is installed.  If you are trying to import a module and you get an error, you can\n",
    "# check to make sure that the package is in this list.\n",
    "%pip list"
   ]
  },
  {
   "cell_type": "markdown",
   "metadata": {
    "id": "Ac061_wIM64K"
   },
   "source": [
    "To get information about any of these modules, we need to import it and then use ```!module?``` or ```help(module)``` to get additional information about the package. What is displayed is from a specifically formatted comment called a ```docstring``` (documentation string) that comes along with the package."
   ]
  },
  {
   "cell_type": "code",
   "execution_count": null,
   "metadata": {
    "id": "MOBgOvXAMt9x",
    "tags": []
   },
   "outputs": [],
   "source": [
    "# Let's get some help on the numpy module.  We can import the module and then use the help command\n",
    "import numpy\n",
    "# If we want to learn more about a module, we can use the help command !(name)?\n",
    "!numpy?"
   ]
  },
  {
   "cell_type": "code",
   "execution_count": null,
   "metadata": {},
   "outputs": [],
   "source": [
    "# Or we can use the help function:\n",
    "help(numpy)"
   ]
  },
  {
   "cell_type": "code",
   "execution_count": null,
   "metadata": {},
   "outputs": [],
   "source": [
    "numpy?"
   ]
  },
  {
   "cell_type": "markdown",
   "metadata": {
    "id": "_gTByrOwWrD8"
   },
   "source": [
    "### **1.A) importing different packages or sub-modules**\n",
    "\n",
    "```import``` in Python is the command to load in a particular ```package``` (large collection of code with several submodules) or ```module``` (single files up to medium sized classes).\n",
    "\n",
    "When you import you have several options:\n",
    "\n",
    "```python\n",
    "# import the entire package all at once\n",
    "import numpy\n",
    "\n",
    "# import the package and use a (simpler) variable name, \"np\" to refer to it\n",
    "import numpy as np\n",
    "\n",
    "# import a specific submodule or function from the package\n",
    "from numpy import linalg as la\n",
    "\n",
    "# importing one function only from the sub - module linear algebra contained in numpy\n",
    "from numpy.linalg import svd as svd\n",
    "```"
   ]
  },
  {
   "cell_type": "code",
   "execution_count": null,
   "metadata": {
    "colab": {
     "base_uri": "https://localhost:8080/",
     "height": 36
    },
    "id": "bXXO_iNVvbqP",
    "outputId": "9ae649ce-6979-4a5f-c02f-8728eb4a3790",
    "tags": []
   },
   "outputs": [],
   "source": [
    "# It is very common when using numpy to import it with an alias.  The alias is a shorter name that\n",
    "# can be used to refer to the module.  The alias is specified using the \"as\" keyword.  Here we import\n",
    "# numpy with the alias \"np\".  This is a very common alias for numpy.\n",
    "import numpy as np\n",
    "\n",
    "# if we want to know the version:\n",
    "np.__version__"
   ]
  },
  {
   "cell_type": "code",
   "execution_count": null,
   "metadata": {
    "colab": {
     "base_uri": "https://localhost:8080/",
     "height": 36
    },
    "id": "TNCoa_yYWqdz",
    "outputId": "8ad54838-fd35-4c74-90f3-65eaf4a71c1a",
    "tags": []
   },
   "outputs": [],
   "source": [
    "# If we only want to import a specific function from a module, we can do that.  Here we import the\n",
    "# function \"linalg\" from the module \"numpy\".  This is useful if we only need a specific function\n",
    "# from a module and we don't want to import the entire module.\n",
    "from numpy import linalg as la #import only the linear algebra file\n",
    "# or if we want to know where a specific file is:\n",
    "la.__file__"
   ]
  },
  {
   "cell_type": "code",
   "execution_count": null,
   "metadata": {
    "tags": []
   },
   "outputs": [],
   "source": [
    "# or if we want just the docstring:\n",
    "la.__doc__"
   ]
  },
  {
   "cell_type": "code",
   "execution_count": null,
   "metadata": {
    "id": "FT5tUqRVYAOl",
    "tags": []
   },
   "outputs": [],
   "source": [
    "# Let's import the SVD function from the numpy module and use the help command to learn more about it.\n",
    "from numpy.linalg import svd as svd\n",
    "svd?"
   ]
  },
  {
   "cell_type": "markdown",
   "metadata": {
    "id": "Zhfov8rCmBan",
    "jp-MarkdownHeadingCollapsed": true,
    "tags": []
   },
   "source": [
    "#### **Importing local packages**\n",
    "You can also write your own packages and then import them, but the folders need to be written in the right format, and the folders need to be in the search path.\n",
    "\n",
    "To learn more, see the page \"Writing your own callable functions and packages\" on canvas, but here is an example that we have used already. Let's look at what is in the folder \"../BIOM480A5\". "
   ]
  },
  {
   "cell_type": "code",
   "execution_count": 21,
   "metadata": {},
   "outputs": [],
   "source": [
    "# Let's look at the contents of the directory \"../BIOM480A5\".  We can use the listdir function from\n",
    "# the os module to list the contents of a directory.  The argument to the listdir function is the\n",
    "# path to the directory.  Here we use the function path from the os module to get the absolute path\n",
    "# to the directory \"../BIOM480A5\".  The result of the listdir function is a list of strings, each\n",
    "# string representing a file or directory in the directory.\n",
    "try:\n",
    "    os.listdir(os.path.abspath('../BIOM480A5'))\n",
    "    BIOM480A5_path = os.path.abspath('../BIOM480A5')\n",
    "except:\n",
    "    os.listdir(os.path.abspath('BIOM480A5'))\n",
    "    BIOM480A5_path = os.path.abspath('BIOM480A5')\n",
    "# Note: The try and except statements are used to catch errors.  If an error occurs in the try block,\n",
    "# then the except block is executed.  This is useful for catching errors that may occur when running\n",
    "# code.  Here we use the try and except statements to catch an error that may occur if the path\n",
    "# \"../BIOM480A5\" does not exist because we open the notebook from a different directory."
   ]
  },
  {
   "cell_type": "markdown",
   "metadata": {},
   "source": [
    "Notice, the file ```\"__init__.py ``` in the folder.  This is an empty file that is used to indicate that the directory is a python package.\n",
    "\n",
    "To import the module BIOM480A5, we need to make sure that this folder is in the search path."
   ]
  },
  {
   "cell_type": "code",
   "execution_count": 22,
   "metadata": {},
   "outputs": [],
   "source": [
    "# Add the path to the directory \"../BIOM480A5\" to the list of paths that python will look for modules\n",
    "# to import.  This is useful if you want to import a module from a directory that is not in the default\n",
    "# list of paths.\n",
    "sys.path.append(BIOM480A5_path)\n",
    "\n",
    "# now we can import the module \"BIOM480A5_Quizzes\" from the directory \"../BIOM480A5\". \n",
    "import BIOM480A5_Quizzes\n",
    "\n",
    "# Or we can import a specific function from the module\n",
    "from BIOM480A5_Quizzes import multiple_choice_quiz"
   ]
  },
  {
   "cell_type": "markdown",
   "metadata": {},
   "source": [
    "### **Refreshing import to get changes to local libraries**\n",
    "\n",
    "If you make changes to a local library, you will need to reload your imported functions in order to use the new codes.  Here is an example for how to do this: "
   ]
  },
  {
   "cell_type": "code",
   "execution_count": null,
   "metadata": {},
   "outputs": [],
   "source": [
    "import importlib\n",
    "\n",
    "# If we make changes to the module \"BIOM480A5_Quizzes\" and we want to reload the module, we can use\n",
    "importlib.reload(BIOM480A5_Quizzes)"
   ]
  },
  {
   "cell_type": "markdown",
   "metadata": {
    "id": "F3BLTyKhlX7l",
    "tags": []
   },
   "source": [
    "### **1.B) Using packages**\n",
    "\n",
    "Once we have imported a package, you can call any ```submodules``` or functions by ```module.function()```"
   ]
  },
  {
   "cell_type": "code",
   "execution_count": null,
   "metadata": {
    "colab": {
     "base_uri": "https://localhost:8080/"
    },
    "id": "kXotxOskV2TO",
    "outputId": "14037dc8-6096-46c6-8ca5-ad6d4d5bb5c8",
    "tags": []
   },
   "outputs": [],
   "source": [
    "# Let's use the numpy and SVD functions that we imported to calculate the SVD of a matrix.  We will\n",
    "# create a matrix using the numpy function \"ones\" and then use the SVD function to calculate the\n",
    "# singular value decomposition of the matrix.\n",
    "arr = np.ones([10,100])\n",
    "svd_results = la.svd(arr)\n",
    "\n",
    "# The result of the SVD function is a tuple of three arrays.  The first array is the U matrix, the\n",
    "# second array is the singular values, and the third array is the V matrix.  We can access these\n",
    "# arrays by indexing the tuple.\n",
    "U = svd_results[0]\n",
    "S = svd_results[1]\n",
    "V = svd_results[2]\n",
    "\n",
    "# Let's print the shapes (i.e., sizes) of the U, S, and V arrays.\n",
    "print(U.shape)\n",
    "print(S.shape)\n",
    "print(V.shape)"
   ]
  },
  {
   "cell_type": "markdown",
   "metadata": {
    "id": "PKdiuk7rlSUJ"
   },
   "source": [
    "### **1.C) Installing new packages**"
   ]
  },
  {
   "cell_type": "markdown",
   "metadata": {
    "id": "64Q6SW3jNZmp"
   },
   "source": [
    "To find more packages to install, usually they are stored on [PyPI](https://pypi.org/) - Python Package Index. \n",
    "\n",
    "Because there are so many user supplied packages, searching for specific modules can be difficult difficult within PyPI, so we recommend finding packages via searching academic papers or Google scholar for your specific purposes and using the authors' particular Githubs!\n",
    "\n",
    "From there, you can install a package into your environment by using ```!pip``` according to the package's instructions."
   ]
  },
  {
   "cell_type": "code",
   "execution_count": null,
   "metadata": {
    "colab": {
     "base_uri": "https://localhost:8080/"
    },
    "id": "-5hjsl9LNyvV",
    "outputId": "b1cb29da-bffe-4d94-c543-25888ce4febe",
    "tags": []
   },
   "outputs": [],
   "source": [
    "# Let's try to install the package scikit-bio.  This package is not installed by default in the\n",
    "# python environment, so we will need to install it.  We can use the pip command to install the\n",
    "# package.  The command is \"pip install\" followed by the name of the package.  The exclamation\n",
    "# point is used to indicate that the command is a shell command.  \n",
    "# https://scikit.bio\n",
    "\n",
    "!pip install scikit-bio\n",
    "import skbio\n",
    "print('')\n",
    "print('The version of scikit-bio installed:')\n",
    "print(skbio.__version__)\n",
    "\n",
    "# Note that this could take several minutes.  We are not going to use the package in this notebook,\n",
    "# so you can skip this cell if it takes too long. To interrupt the installation, you can click on the\n",
    "# stop button in the toolbar above."
   ]
  },
  {
   "cell_type": "markdown",
   "metadata": {
    "id": "PafXp9PlKfXO"
   },
   "source": [
    "### **1.D) os - \"operating system\"**\n",
    "\n",
    "```os```  is the main package that lets you navigate and change directories for various purposes, similar to how you move around in a command prompt or terminal. ```os``` also performs miscellaneous operating system functions such as changing directories or checking process ids.\n",
    "\n",
    "https://docs.python.org/3/library/os.html\n",
    "\n",
    "\n",
    "Another popular file path manager is ```pathlib```.\n",
    "\n",
    "https://docs.python.org/3/library/pathlib.html"
   ]
  },
  {
   "cell_type": "code",
   "execution_count": null,
   "metadata": {
    "colab": {
     "base_uri": "https://localhost:8080/"
    },
    "id": "QdBoojYxKQCp",
    "outputId": "29d7b573-9b8c-497d-a4fe-7c38b8d79eaf",
    "tags": []
   },
   "outputs": [],
   "source": [
    "# Let's use the os module to print the current working directory\n",
    "import os\n",
    "print(os.getcwd())  #what is our current working directory (cwd)?"
   ]
  },
  {
   "cell_type": "markdown",
   "metadata": {
    "id": "cTqlun-uliFG"
   },
   "source": [
    "Once again, for us to import ```os```, the ```os``` module must exist in our system path so Python can \"see\" it.\n",
    "\n"
   ]
  },
  {
   "cell_type": "code",
   "execution_count": null,
   "metadata": {
    "colab": {
     "base_uri": "https://localhost:8080/"
    },
    "id": "7iP1fyEAlsay",
    "outputId": "a26ee17f-04e4-4ec4-889d-f3949d51e3d1",
    "tags": []
   },
   "outputs": [],
   "source": [
    "print('We are using the following file as the package os:')\n",
    "print(os.__file__) # Print the actual file that we imported the os packages from\n",
    "print('')\n",
    "print('Here is our current sys.path:')\n",
    "print(sys.path)\n",
    "# Note how this file we just imported from is inside our path!"
   ]
  },
  {
   "cell_type": "markdown",
   "metadata": {},
   "source": [
    "Let's take a look at our current directory and its files using the ```os``` module:"
   ]
  },
  {
   "cell_type": "code",
   "execution_count": null,
   "metadata": {
    "colab": {
     "base_uri": "https://localhost:8080/"
    },
    "id": "3-f8NhJbLH1e",
    "outputId": "fb03cf7c-bda6-4c18-a929-e5ae232e5a9d",
    "tags": []
   },
   "outputs": [],
   "source": [
    "#list all files in a directory, '.' denotes our current working directory\n",
    "os.listdir('.')"
   ]
  },
  {
   "cell_type": "markdown",
   "metadata": {
    "id": "H_s-6Nz_XrhJ"
   },
   "source": [
    "```os``` uses Unix-like paths:\n",
    "\n",
    "``` .``` a single period denotes my current working directory\n",
    "\n",
    "``` ..``` a single period denotes one parent folder above my current working directory\n",
    "\n",
    "``` ~``` a tilde represents the current users home directory"
   ]
  },
  {
   "cell_type": "code",
   "execution_count": null,
   "metadata": {
    "colab": {
     "base_uri": "https://localhost:8080/"
    },
    "id": "za-SJ9P6YbxV",
    "outputId": "58144aaf-73ff-416f-c7d7-9186f931c2bb",
    "tags": []
   },
   "outputs": [],
   "source": [
    "print('Files and folders in my current directory')\n",
    "print(os.listdir('.'))\n",
    "print('')\n",
    "print('Files and folders one directory above my current directory')\n",
    "print(os.listdir('..'))"
   ]
  },
  {
   "cell_type": "code",
   "execution_count": null,
   "metadata": {
    "colab": {
     "base_uri": "https://localhost:8080/"
    },
    "id": "QBcoaAM2Yw6N",
    "outputId": "f19c6ea1-ac40-4d80-9104-61de3a4fd8f3",
    "tags": []
   },
   "outputs": [],
   "source": [
    "# Use os to show the current user's home directory\n",
    "print(os.path.expanduser('~'))"
   ]
  },
  {
   "cell_type": "markdown",
   "metadata": {},
   "source": [
    "### **Quiz to practice importing packages**"
   ]
  },
  {
   "cell_type": "code",
   "execution_count": 20,
   "metadata": {},
   "outputs": [],
   "source": [
    "# Set path and load quiz functions.\n",
    "sys.path.append(os.path.abspath('../BIOM480A5'))\n",
    "from BIOM480A5_Quizzes import multiple_choice_quiz"
   ]
  },
  {
   "cell_type": "code",
   "execution_count": null,
   "metadata": {},
   "outputs": [],
   "source": [
    "multiple_choice_quiz('importing_and_using_modules')"
   ]
  },
  {
   "cell_type": "markdown",
   "metadata": {},
   "source": [
    "Now might also be a good time to practice your **command line functions** using the following quiz."
   ]
  },
  {
   "cell_type": "code",
   "execution_count": null,
   "metadata": {},
   "outputs": [],
   "source": [
    "# refresh import of BIOM480A5_Quizzes to get the updated version\n",
    "importlib.reload(BIOM480A5_Quizzes)\n",
    "from BIOM480A5_Quizzes import multiple_choice_quiz\n",
    "multiple_choice_quiz('command_line_tools')"
   ]
  },
  {
   "cell_type": "markdown",
   "metadata": {
    "id": "XntLwYNAGan2"
   },
   "source": [
    "## **2) Reading and Writing files**\n",
    "\n",
    "Opening a file is done with \"open\" and opens a buffer to a particular file on your hard drive. It's best practice to use ``` with open() as object:``` so the buffer closes on its own after the execution of code within the ``` with ``` is over. Typically you may see people use ```f``` to denote their file buffer object.\n",
    "\n",
    " ```python\n",
    "with open('example.txt', 'r') as f:\n",
    "    print(f.readlines)\n",
    "    \n",
    " ```\n",
    "\n",
    " ```open``` takes an additional flag to denote whether you are reading, ```'r'```, writing, ```'w'```, or appending ```'a'``` a file.\n",
    "\n",
    "Additonally, if you are not reading a text file, you may have to read / write a file in binary mode, ```'b'```, by appending b to your flag (```'wb'``` would mean write in binary mode)."
   ]
  },
  {
   "cell_type": "code",
   "execution_count": null,
   "metadata": {
    "colab": {
     "base_uri": "https://localhost:8080/"
    },
    "id": "KKXaUdW_Gkbd",
    "outputId": "8e8d90c7-fe19-4184-cab9-fd28ba9fde41",
    "tags": []
   },
   "outputs": [],
   "source": [
    "text_lines = [\"hi i'm some lines to write to a file \\n\", \"1kjjkl\\n\",\"2\\n\",\"3\\n\"]\n",
    "# \\n is a newline character, i.e., pressing enter\n",
    "\n",
    "# im writing a regular text file, 'w'\n",
    "with open('test.txt','w') as f:\n",
    "  f.writelines(text_lines)\n",
    "\n",
    "# im opening a file to read it, 'r'\n",
    "with open('test.txt','r') as f:\n",
    "  read_in_lines = f.readlines()\n",
    "\n",
    "read_in_lines"
   ]
  },
  {
   "cell_type": "markdown",
   "metadata": {
    "id": "ANovnKhdPwnA"
   },
   "source": [
    "Try opening the file we just made.  In VS Code, you can see this file on the right, just under the folder icon!\n",
    "\n",
    "We can also write in binary mode and see what that looks like:"
   ]
  },
  {
   "cell_type": "code",
   "execution_count": null,
   "metadata": {
    "colab": {
     "base_uri": "https://localhost:8080/"
    },
    "id": "PI5MVzT4Hq6E",
    "outputId": "8c452080-d12a-46f7-9196-2c7f53f44a95",
    "tags": []
   },
   "outputs": [],
   "source": [
    "# import the numpy package\n",
    "import numpy as np\n",
    "\n",
    "# lets write some arbitrary array to a file as a binary file\n",
    "print('writing array to bin file:')\n",
    "array = np.array([5,1,4,2,3,6])\n",
    "print(array)\n",
    "\n",
    "# open a file called 'test.bin' in write binary mode\n",
    "with open('test.bin','wb') as f:\n",
    "  for i in array:\n",
    "    f.write(i)\n",
    "\n",
    "# lets use the kernel to print out what is stored in the binary file\n",
    "print('')\n",
    "print('here is what was stored in file:')\n",
    "!hexdump -C test.bin\n",
    "print('')\n",
    "\n",
    "# lets read that back into python\n",
    "with open('test.bin','rb') as f:\n",
    "  bitarray = []\n",
    "  byte = f.read(1)\n",
    "  bitarray.append(byte)\n",
    "  while byte != b\"\":\n",
    "    byte = f.read(1)\n",
    "    bitarray.append(byte)\n",
    "\n",
    "# now let's convert back from a byte array to a usable numpy array\n",
    "print('')\n",
    "read_array = []\n",
    "for i in range(int(len(bitarray)/8) ):\n",
    "  read_array.append(b''.join(bitarray[i*8:8 + i*8]))\n",
    "read_array = [int.from_bytes(x,byteorder='little') for x in read_array]\n",
    "\n",
    "print('array after read back in:')\n",
    "print(read_array)"
   ]
  },
  {
   "cell_type": "markdown",
   "metadata": {
    "id": "gGUrc4qghP3E"
   },
   "source": [
    "We will see more about numpy later, but for now you can also save a numpy array to its own file format using ```np.save(file, array)```"
   ]
  },
  {
   "cell_type": "code",
   "execution_count": null,
   "metadata": {
    "colab": {
     "base_uri": "https://localhost:8080/"
    },
    "id": "LUrrhOXShNuw",
    "outputId": "9082a5b3-a0c7-4cd6-9895-ee97d111000c",
    "tags": []
   },
   "outputs": [],
   "source": [
    "np.save('test.npy', array)\n",
    "# print out this new file\n",
    "!head test.npy"
   ]
  },
  {
   "cell_type": "markdown",
   "metadata": {},
   "source": [
    "### **Quiz to practice File Operations**"
   ]
  },
  {
   "cell_type": "code",
   "execution_count": null,
   "metadata": {},
   "outputs": [],
   "source": [
    "multiple_choice_quiz('file_operations')"
   ]
  },
  {
   "cell_type": "markdown",
   "metadata": {
    "id": "K84SSQMcGj22"
   },
   "source": [
    "## **3) Pandas file management**\n",
    "\n",
    "```pandas``` is a library that extends NumPy by adding row and column headers. The primary data format it uses is called a \"DataFrame.\" Pandas will read a plethora of file formats into the dataframe format for easy object oriented manipulation within python. When you are done with the manipulation, you can write the file back out or return the underlying NumPy array. We wont go into great detail with ```pandas``` in this course, however it is a very powerful tool for manipulating data just as ```numpy``` is for numerical analyses.\n",
    "\n",
    "https://pandas.pydata.org/docs/getting_started/index.html#getting-started\n"
   ]
  },
  {
   "cell_type": "markdown",
   "metadata": {
    "id": "jzphOCQVM3AT"
   },
   "source": [
    "### **3.A) Opening a file with Pandas**\n",
    "\n",
    "Let's open some example data into Jupyter."
   ]
  },
  {
   "cell_type": "code",
   "execution_count": 38,
   "metadata": {
    "id": "ilUoElr2Lk8K",
    "tags": []
   },
   "outputs": [],
   "source": [
    "import pandas as pd\n",
    "\n",
    "#Let's read some pre-generated data that was included for you in the CourseMaterials repository.\n",
    "housing_dataframe = pd.read_csv('./Module1-PreliminaryPython/sampleData/california_housing_test.csv')"
   ]
  },
  {
   "cell_type": "code",
   "execution_count": null,
   "metadata": {
    "colab": {
     "base_uri": "https://localhost:8080/",
     "height": 487
    },
    "id": "jq-G_oXf5EgI",
    "outputId": "7d79cd46-5d9b-4389-83e0-5b84df195d3a",
    "tags": []
   },
   "outputs": [],
   "source": [
    "# If we just execute the variable housing_dataframe, we will see the first and last few rows of the dataframe.\n",
    "housing_dataframe "
   ]
  },
  {
   "cell_type": "markdown",
   "metadata": {
    "id": "S1yKWhMaM-Y7"
   },
   "source": [
    "Getting columns and Logicals\n",
    "\n",
    "The (dis)advantage of pandas is that the slicing that you would do with numpy can be done with strings instead of indexes.\n",
    "\n",
    "Pros:\n",
    "\n",
    "* Comprehension\n",
    "\n",
    "It's clear which column you are using at a time since you can use text label headers.\n",
    "\n",
    "Cons:\n",
    "* Readability\n",
    "\n",
    "When stringing together long logicals slicing dataframes, the readability can quickly become incomprehensible.\n"
   ]
  },
  {
   "cell_type": "code",
   "execution_count": null,
   "metadata": {
    "colab": {
     "base_uri": "https://localhost:8080/",
     "height": 487
    },
    "id": "tyYS_GY95_z7",
    "outputId": "548ccb22-f7b7-4959-a74a-293bc6927534",
    "tags": []
   },
   "outputs": [],
   "source": [
    "# lets get only the housing data from those with an household age of > 50\n",
    "housing_dataframe[housing_dataframe['housing_median_age'  ] > 50]\n",
    "# This shows the first and last few rows of the dataframe that meet the condition. Note that the\n",
    "# age of the house is greater than 50 for all of the rows that are displayed.  Also note that the\n",
    "# index of the rows is not continuous.  This is because the rows that do not meet the condition are\n",
    "# not displayed."
   ]
  },
  {
   "cell_type": "code",
   "execution_count": null,
   "metadata": {
    "colab": {
     "base_uri": "https://localhost:8080/"
    },
    "id": "9zKWs4pFLyZ1",
    "outputId": "c6bce7e3-4de4-45de-f39b-5fbfa6b9bece",
    "tags": []
   },
   "outputs": [],
   "source": [
    "# Suppose that we only want to look at a singel column, such as the housing median age\n",
    "all_median_ages = housing_dataframe['housing_median_age']\n",
    "all_median_ages"
   ]
  },
  {
   "cell_type": "code",
   "execution_count": null,
   "metadata": {},
   "outputs": [],
   "source": [
    "# Or if we only want to look at the rows that have a housing median age greater than 25\n",
    "ages_above_25 = housing_dataframe[housing_dataframe['housing_median_age'] > 25]\n",
    "ages_above_25\n",
    "\n",
    "print(f'the lenght of the original dataframe is {len(housing_dataframe)}')\n",
    "print(f'the lenght of the dataframe with ages above 25 is {len(ages_above_25)}')"
   ]
  },
  {
   "cell_type": "code",
   "execution_count": null,
   "metadata": {
    "colab": {
     "base_uri": "https://localhost:8080/",
     "height": 296
    },
    "id": "l-S55RtEL3x9",
    "outputId": "bd7162eb-3fe9-4047-a52a-23dada632274",
    "tags": []
   },
   "outputs": [],
   "source": [
    "# Lets plot some of that data with a module called matplotlib. We will learn more about this module\n",
    "# later in the course.  Here we are just using it to plot a histogram of the housing median age.\n",
    "\n",
    "# First, we need to import the module, and here we are using the alias \"plt\" for the function \"pyplot\"\n",
    "# from the module \"matplotlib\". \n",
    "import matplotlib.pyplot as plt\n",
    "\n",
    "#pull the values out of the pandas array (stored as a numpy array)\n",
    "housing_data_array = housing_dataframe['housing_median_age'].values\n",
    "\n",
    "# Now to make the histogram and add labels.\n",
    "plt.hist(housing_data_array,50,density=True)\n",
    "plt.xlabel('age')\n",
    "plt.ylabel('probability')"
   ]
  },
  {
   "cell_type": "code",
   "execution_count": null,
   "metadata": {},
   "outputs": [],
   "source": [
    "# What are the atributes of the a pandas dataframe?\n",
    "# There are a lot!  We can see them by using the dir command.\n",
    "print('The attributes of the pandas dataframe are:')\n",
    "print(dir(housing_dataframe))"
   ]
  },
  {
   "cell_type": "code",
   "execution_count": null,
   "metadata": {},
   "outputs": [],
   "source": [
    "# Let's just look at the functions we can use on the dataframe.\n",
    "print('')\n",
    "print('The callable functions of the pandas dataframe are:')\n",
    "print([x for x in dir(housing_dataframe) if '__' not in x and x[0] != '_' and callable(getattr(housing_dataframe, x))])\n",
    "# What was that list comprehension doing?  It was looking at all of the attributes of the dataframe\n",
    "# and only selecting the ones that are callable (i.e., functions) and that do not start with an\n",
    "# underscore.  The ones that start with an underscore are private functions that are not meant to be\n",
    "# used by the user."
   ]
  },
  {
   "cell_type": "markdown",
   "metadata": {
    "id": "8rvGU7XjOKlE"
   },
   "source": [
    "Here are a few common Pandas functions and what they do.\n",
    "| Attribute    | Description |\n",
    "| ----------- | ------------ |\n",
    "| .values()|  get a numpy array of all values within the dataframe    |  \n",
    "| .head()|  print out the top 5 rows    |  \n",
    "| .tail()|  print out the bottom 5 rows    |  \n",
    "| .iloc()|  lets you use indexes like the dataframe is numpy    |  \n",
    "| .columns()|  return out all the headers of the columns in the dataframe |  "
   ]
  },
  {
   "cell_type": "code",
   "execution_count": null,
   "metadata": {
    "colab": {
     "base_uri": "https://localhost:8080/"
    },
    "id": "5ZFozGpmOrAp",
    "outputId": "cd5784e0-7714-49bb-c4d4-60eef6771ed8",
    "tags": []
   },
   "outputs": [],
   "source": [
    "# Try out some of these on the dataframe\n",
    "housing_dataframe.columns"
   ]
  },
  {
   "cell_type": "code",
   "execution_count": null,
   "metadata": {},
   "outputs": [],
   "source": [
    "# if you want to know what another function does, you can use the help function\n",
    "help(housing_dataframe.aggregate)"
   ]
  },
  {
   "cell_type": "markdown",
   "metadata": {
    "id": "IpMOTILBMzU7"
   },
   "source": [
    "### **3.B) Writing a csv file with Pandas**\n",
    "\n",
    "Lets write some simple CSVs using pandas. Pandas accepts multiple formats as long as indexes are provided."
   ]
  },
  {
   "cell_type": "code",
   "execution_count": null,
   "metadata": {
    "colab": {
     "base_uri": "https://localhost:8080/"
    },
    "id": "C6WqFeNUMm0I",
    "outputId": "850fe68a-da77-4540-f1e4-83e3510a2e75",
    "tags": []
   },
   "outputs": [],
   "source": [
    "# The easiest way to write a new dataframe is to generate a dictionary of your data\n",
    "# data keyed by its column header\n",
    "new_dataframe_dict = {'column 1': [1,2,3,4],\n",
    "                      'column 2': ['1','2','3','4'],\n",
    "                      'last col': ['a','b','c','d']}\n",
    "\n",
    "# optional row labels, we have 4 entries for each column, so we need 4 labels\n",
    "row_labels = ['row 1', 'row 2', 'row 3', 'row 4']\n",
    "\n",
    "# Generate our new pandas dataframe\n",
    "new_df = pd.DataFrame(new_dataframe_dict, index=row_labels)\n",
    "print('in memory:')\n",
    "print(new_df.head())\n",
    "\n",
    "# We can write this data frame to a .csv for easy of access in multiple softwares\n",
    "print('')\n",
    "new_df.to_csv('test_csv.csv',  index_label='blank')\n",
    "print('on disk:')\n",
    "!head test_csv.csv"
   ]
  },
  {
   "cell_type": "markdown",
   "metadata": {
    "id": "o2gOEScwRMdi"
   },
   "source": [
    "### **3.C) Creating a dataframe from a numpy array**\n",
    "\n",
    "This is as simple as passing the array and the correct number of column headers into DataFrame"
   ]
  },
  {
   "cell_type": "code",
   "execution_count": 52,
   "metadata": {
    "id": "isUXp7hjPm-L",
    "tags": []
   },
   "outputs": [],
   "source": [
    "import numpy as np\n",
    "random_array = np.random.randint(0,1000,size=(5,100)).T\n",
    "headers = ['col'+str(x) for x in range(0,5)]\n",
    "\n",
    "new_df = pd.DataFrame(random_array,columns=headers)"
   ]
  },
  {
   "cell_type": "code",
   "execution_count": null,
   "metadata": {
    "colab": {
     "base_uri": "https://localhost:8080/",
     "height": 206
    },
    "id": "Tvdr21iVQ1bw",
    "outputId": "27ae1765-96fc-4347-9dce-2206c2d72495",
    "tags": []
   },
   "outputs": [],
   "source": [
    "# Let's use the head function to see the first few rows of the dataframe\n",
    "new_df.head()"
   ]
  },
  {
   "cell_type": "markdown",
   "metadata": {},
   "source": [
    "### **Quiz to practice commands for dataframes**"
   ]
  },
  {
   "cell_type": "code",
   "execution_count": null,
   "metadata": {},
   "outputs": [],
   "source": [
    "multiple_choice_quiz('pandas_operations')"
   ]
  },
  {
   "cell_type": "markdown",
   "metadata": {
    "id": "zUi7SNbCiKNI"
   },
   "source": [
    "## **4) Saving numpy arrays with npy files**\n",
    "\n",
    " ```numpy``` aslo has a built in file format for you to save n-dimensional arrays and read them back in as needed."
   ]
  },
  {
   "cell_type": "code",
   "execution_count": null,
   "metadata": {
    "colab": {
     "base_uri": "https://localhost:8080/"
    },
    "id": "n8gptMhNiZ8h",
    "outputId": "87f30f1c-2fb2-434a-8ecb-5b08f1be91ef",
    "tags": []
   },
   "outputs": [],
   "source": [
    "# Here is an exaple for creating npy files\n",
    "import numpy as np\n",
    "\n",
    "my_array = np.ones((3,100,100))\n",
    "for i in range(3):\n",
    "  my_array[i] = my_array[i]*i\n",
    "\n",
    "print(my_array)\n",
    "\n",
    "print('')\n",
    "print('file on the disk:')\n",
    "np.save('test_save',my_array, )\n",
    "\n",
    "!head test_save.npy\n",
    "\n",
    "loaded_array = np.load('test_save.npy')\n",
    "\n",
    "print('')\n",
    "print('')\n",
    "print('loaded array:')\n",
    "print(loaded_array)"
   ]
  },
  {
   "cell_type": "markdown",
   "metadata": {
    "id": "AYysquQfRWTP"
   },
   "source": [
    "A note about memory sizes and datatypes:\n",
    "\n",
    "Numpy arrays can get large fast when you are working in multiple dimensions. When saving you can save disk space by making sure you are saving in the smallest datatype you can, keep in mind the maximum possible integers for different data types!\n",
    "\n",
    "| dtype | min | max | hex |\n",
    "| --- | --- | --- | --- |\n",
    "| int8 | -128 |127|  (-0x80, 0x7F)|\n",
    "| uint8 | 0 |255|  (0x00, 0xFF)|\n",
    "| int16 | -32768 |32767|  (-0x8000, 0x7FFF)|\n",
    "| uint16 | 0 |65535|  (0x0, 0xFFFF)|\n",
    "| int32 | -2147483648 | 2147483647 | (-0x80000000, 0x7FFFFFFF)\n",
    "| uint32 | 0 |4294967295|  (0x0, 0xFFFFFFFF)|\n",
    "| int64| -9223372036854775808 | 9223372036854775807 | (-0x8000000000000000, 0x7FFFFFFFFFFFFFFF)\n",
    "| uint64 | 0 |18446744073709551615|  (0x0, 0xFFFFFFFFFFFFFFFF)|\n",
    "\n",
    "----\n",
    "\n",
    "Note that these are maximums for **integer** values, representing floating point values is complicated and beyond the scope of this course, but 99% of the time they will use 32 or 64 bits of memory just like the larger integer data types. If you are interested check out the Wikipedia page on double precision floating points:\n",
    "https://en.wikipedia.org/wiki/Double-precision_floating-point_format\n",
    "\n",
    "\n",
    "\n"
   ]
  },
  {
   "cell_type": "code",
   "execution_count": null,
   "metadata": {
    "colab": {
     "base_uri": "https://localhost:8080/"
    },
    "id": "XxDExd8lR0a8",
    "outputId": "f0a9ceb8-f3a3-4879-f2a0-187c6a200303",
    "tags": []
   },
   "outputs": [],
   "source": [
    "# here are the dtypes that numpy can handle.\n",
    "dtypes = {'int16': np.int16,\n",
    "          'int32': np.int32,\n",
    "          'float32':np.float32,\n",
    "          'float64':np.float64,\n",
    "          'bool':bool}\n",
    "\n",
    "# Let's see how much memory a 300x300x300 array would take up in different data types\n",
    "data_type = 'int16' # try with  [\"int16\",\"int32\",\"float32\", 'float64','bool']\n",
    "data_length = (100,100,200)\n",
    "dtype = dtypes[data_type]\n",
    "array = np.ones(data_length).astype(dtype)\n",
    "totalbytes = array.itemsize*array.size\n",
    "\n",
    "print(f'total mb of a {data_length} array in {data_type} is {totalbytes/1e6} MB')"
   ]
  },
  {
   "cell_type": "markdown",
   "metadata": {
    "id": "lRq21AN7lNjx"
   },
   "source": [
    "## **Questions**"
   ]
  },
  {
   "cell_type": "code",
   "execution_count": 30,
   "metadata": {
    "id": "PlZcd6_YlNOx"
   },
   "outputs": [],
   "source": [
    "## Print the current working directory using the module os"
   ]
  },
  {
   "cell_type": "code",
   "execution_count": 31,
   "metadata": {
    "id": "0BYik57jwckx"
   },
   "outputs": [],
   "source": [
    "## Open a file and write a short message in text, save the file as 'example_file.txt'"
   ]
  },
  {
   "cell_type": "code",
   "execution_count": 32,
   "metadata": {
    "id": "c2BM84Tpwxif"
   },
   "outputs": [],
   "source": [
    "## List out the default packages installed in your current python environment,\n",
    "## pick one, and view its docstring / documentation"
   ]
  }
 ],
 "metadata": {
  "colab": {
   "provenance": [],
   "toc_visible": true
  },
  "kernelspec": {
   "display_name": "Python 3",
   "language": "python",
   "name": "python3"
  },
  "language_info": {
   "codemirror_mode": {
    "name": "ipython",
    "version": 3
   },
   "file_extension": ".py",
   "mimetype": "text/x-python",
   "name": "python",
   "nbconvert_exporter": "python",
   "pygments_lexer": "ipython3",
   "version": "3.10.16"
  }
 },
 "nbformat": 4,
 "nbformat_minor": 4
}
