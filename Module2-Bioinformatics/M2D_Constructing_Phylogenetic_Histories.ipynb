{
 "cells": [
  {
   "cell_type": "markdown",
   "id": "90c32b4b-abb4-431a-90c2-4ab0bcb71d3d",
   "metadata": {},
   "source": [
    "<html>\n",
    "    <summary></summary>\n",
    "         <div> <p></p> </div>\n",
    "         <div style=\"font-size: 20px; width: 800px;\"> \n",
    "              <h1>\n",
    "               <left>Intro to Bioinformatics in Python: Downloading and Annotating Genomic Sequences.</left>\n",
    "              </h1>\n",
    "              <p><left>============================================================================</left> </p>\n",
    "<pre>Course: BIOM/CBE 480A5, Spring 2025\n",
    "Instructor: Brian Munsky\n",
    "Contact Info: munsky@colostate.edu\n",
    "</pre>\n",
    "         </div>\n",
    "    </p>\n",
    "\n",
    "</html>\n",
    "\n",
    "<details>\n",
    "  <summary>Copyright info</summary>\n",
    "\n",
    "```\n",
    "Copyright 2024 Brian Munsky\n",
    "\n",
    "Redistribution and use in source and binary forms, with or without modification, are permitted provided that the following conditions are met:\n",
    "\n",
    "1. Redistributions of source code must retain the above copyright notice, this list of conditions and the following disclaimer.\n",
    "\n",
    "2. Redistributions in binary form must reproduce the above copyright notice, this list of conditions and the following disclaimer in the documentation and/or other materials provided with the distribution.\n",
    "\n",
    "3. Neither the name of the copyright holder nor the names of its contributors may be used to endorse or promote products derived from this software without specific prior written permission.\n",
    "\n",
    "THIS SOFTWARE IS PROVIDED BY THE COPYRIGHT HOLDERS AND CONTRIBUTORS \"AS IS\" AND ANY EXPRESS OR IMPLIED WARRANTIES, INCLUDING, BUT NOT LIMITED TO, THE IMPLIED WARRANTIES OF MERCHANTABILITY AND FITNESS FOR A PARTICULAR PURPOSE ARE DISCLAIMED. IN NO EVENT SHALL THE COPYRIGHT HOLDER OR CONTRIBUTORS BE LIABLE FOR ANY DIRECT, INDIRECT, INCIDENTAL, SPECIAL, EXEMPLARY, OR CONSEQUENTIAL DAMAGES (INCLUDING, BUT NOT LIMITED TO, PROCUREMENT OF SUBSTITUTE GOODS OR SERVICES; LOSS OF USE, DATA, OR PROFITS; OR BUSINESS INTERRUPTION) HOWEVER CAUSED AND ON ANY THEORY OF LIABILITY, WHETHER IN CONTRACT, STRICT LIABILITY, OR TORT (INCLUDING NEGLIGENCE OR OTHERWISE) ARISING IN ANY WAY OUT OF THE USE OF THIS SOFTWARE, EVEN IF ADVISED OF THE POSSIBILITY OF SUCH DAMAGE.\n",
    "```\n",
    "<details>\n",
    "\n"
   ]
  },
  {
   "cell_type": "code",
   "execution_count": null,
   "id": "33813934",
   "metadata": {},
   "outputs": [
    {
     "name": "stdout",
     "output_type": "stream",
     "text": [
      "Collecting git+https://github.com/neherlab/treetime.git\n",
      "  Cloning https://github.com/neherlab/treetime.git to /private/var/folders/j4/84htt57j6qjdy_x8m6q7c8140000gn/T/pip-req-build-t4f10j2n\n",
      "  Running command git clone --filter=blob:none --quiet https://github.com/neherlab/treetime.git /private/var/folders/j4/84htt57j6qjdy_x8m6q7c8140000gn/T/pip-req-build-t4f10j2n\n",
      "  Resolved https://github.com/neherlab/treetime.git to commit 531f776bcad3b8b11fd470a403a9c06c78b07e36\n",
      "  Preparing metadata (setup.py) ... \u001b[?25ldone\n",
      "\u001b[?25hRequirement already satisfied: biopython!=1.77,!=1.78,>=1.67 in /opt/anaconda3/envs/BIOM480A5/lib/python3.10/site-packages (from phylo-treetime==0.11.4) (1.85)\n",
      "Requirement already satisfied: numpy>=1.10.4 in /opt/anaconda3/envs/BIOM480A5/lib/python3.10/site-packages (from phylo-treetime==0.11.4) (1.26.4)\n",
      "Requirement already satisfied: pandas>=0.17.1 in /opt/anaconda3/envs/BIOM480A5/lib/python3.10/site-packages (from phylo-treetime==0.11.4) (2.2.3)\n",
      "Requirement already satisfied: scipy>=0.16.1 in /opt/anaconda3/envs/BIOM480A5/lib/python3.10/site-packages (from phylo-treetime==0.11.4) (1.15.1)\n",
      "Requirement already satisfied: matplotlib>=2.0 in /opt/anaconda3/envs/BIOM480A5/lib/python3.10/site-packages (from phylo-treetime==0.11.4) (3.10.0)\n",
      "Requirement already satisfied: contourpy>=1.0.1 in /opt/anaconda3/envs/BIOM480A5/lib/python3.10/site-packages (from matplotlib>=2.0->phylo-treetime==0.11.4) (1.3.1)\n",
      "Requirement already satisfied: cycler>=0.10 in /opt/anaconda3/envs/BIOM480A5/lib/python3.10/site-packages (from matplotlib>=2.0->phylo-treetime==0.11.4) (0.11.0)\n",
      "Requirement already satisfied: fonttools>=4.22.0 in /opt/anaconda3/envs/BIOM480A5/lib/python3.10/site-packages (from matplotlib>=2.0->phylo-treetime==0.11.4) (4.55.3)\n",
      "Requirement already satisfied: kiwisolver>=1.3.1 in /opt/anaconda3/envs/BIOM480A5/lib/python3.10/site-packages (from matplotlib>=2.0->phylo-treetime==0.11.4) (1.4.8)\n",
      "Requirement already satisfied: packaging>=20.0 in /opt/anaconda3/envs/BIOM480A5/lib/python3.10/site-packages (from matplotlib>=2.0->phylo-treetime==0.11.4) (24.2)\n",
      "Requirement already satisfied: pillow>=8 in /opt/anaconda3/envs/BIOM480A5/lib/python3.10/site-packages (from matplotlib>=2.0->phylo-treetime==0.11.4) (11.0.0)\n",
      "Requirement already satisfied: pyparsing>=2.3.1 in /opt/anaconda3/envs/BIOM480A5/lib/python3.10/site-packages (from matplotlib>=2.0->phylo-treetime==0.11.4) (3.2.0)\n",
      "Requirement already satisfied: python-dateutil>=2.7 in /opt/anaconda3/envs/BIOM480A5/lib/python3.10/site-packages (from matplotlib>=2.0->phylo-treetime==0.11.4) (2.9.0.post0)\n",
      "Requirement already satisfied: pytz>=2020.1 in /opt/anaconda3/envs/BIOM480A5/lib/python3.10/site-packages (from pandas>=0.17.1->phylo-treetime==0.11.4) (2024.1)\n",
      "Requirement already satisfied: tzdata>=2022.7 in /opt/anaconda3/envs/BIOM480A5/lib/python3.10/site-packages (from pandas>=0.17.1->phylo-treetime==0.11.4) (2023.3)\n",
      "Requirement already satisfied: six>=1.5 in /opt/anaconda3/envs/BIOM480A5/lib/python3.10/site-packages (from python-dateutil>=2.7->matplotlib>=2.0->phylo-treetime==0.11.4) (1.16.0)\n",
      "Building wheels for collected packages: phylo-treetime\n",
      "  Building wheel for phylo-treetime (setup.py) ... \u001b[?25ldone\n",
      "\u001b[?25h  Created wheel for phylo-treetime: filename=phylo_treetime-0.11.4-py3-none-any.whl size=148449 sha256=c9e08403f1aa0b51a5538cfd58d8ce15e48e13f1610a004e0f5a46ff5828a79f\n",
      "  Stored in directory: /private/var/folders/j4/84htt57j6qjdy_x8m6q7c8140000gn/T/pip-ephem-wheel-cache-wm1ep1jt/wheels/d4/e5/1f/d11df07139ff91f18886430ef2fb603c313aa00ed6b96b79e4\n",
      "Successfully built phylo-treetime\n",
      "Installing collected packages: phylo-treetime\n",
      "  Attempting uninstall: phylo-treetime\n",
      "    Found existing installation: phylo-treetime 0.9.2\n",
      "    Uninstalling phylo-treetime-0.9.2:\n",
      "      Successfully uninstalled phylo-treetime-0.9.2\n",
      "Successfully installed phylo-treetime-0.11.4\n",
      "Note: you may need to restart the kernel to use updated packages.\n"
     ]
    },
    {
     "name": "stderr",
     "output_type": "stream",
     "text": [
      "/opt/anaconda3/envs/BIOM480A5/lib/python3.10/site-packages/Bio/pairwise2.py:278: BiopythonDeprecationWarning: Bio.pairwise2 has been deprecated, and we intend to remove it in a future release of Biopython. As an alternative, please consider using Bio.Align.PairwiseAligner as a replacement, and contact the Biopython developers if you still need the Bio.pairwise2 module.\n",
      "  warnings.warn(\n"
     ]
    }
   ],
   "source": [
    "# %pip install biopython\n",
    "# %pip install Bio\n",
    "# %pip install git+https://github.com/neherlab/treetime.git\n",
    "# conda install -c bioconda -c conda-forge treetime\n",
    "\n",
    "import Bio\n",
    "from Bio import Entrez, SeqIO, pairwise2, AlignIO, Phylo\n",
    "from Bio.Blast import NCBIWWW, NCBIXML\n",
    "from Bio.Seq import Seq\n",
    "from Bio.SeqRecord import SeqRecord\n",
    "from Bio.SeqUtils import ProtParam\n",
    "from Bio.Phylo.TreeConstruction import DistanceCalculator, DistanceTreeConstructor\n",
    "\n",
    "import matplotlib.pyplot as plt\n",
    "import matplotlib.image as mpimg\n",
    "import webbrowser\n",
    "import os\n",
    "import threading\n",
    "\n",
    "from Bio import Align\n",
    "from Bio.Align import Alignment\n",
    "from pymsaviz import MsaViz\n",
    "\n",
    "# Function to find ORFs in all frames of a sequence\n",
    "def find_all_orfs(sequence):\n",
    "    orf_list = []           # List of all the ORF we find\n",
    "    for frame in range(3):  # Check each of the three reading frames\n",
    "        orfs = []           # List of ORFs for the current frame   \n",
    "        lastStop = frame    # Position of last stop codon.\n",
    "        for orf in sequence[frame:].translate(to_stop=False).split('*'):     # Translate the curent frame sequence into AA and break up by stop codons\n",
    "            if len(orf) > 30:                                                # Consider ORFs longer than 50 amino acids\n",
    "                start = lastStop + orf.find('M') * 3 if 'M' in orf else None # Update start codon position to next M, \n",
    "                stop = lastStop + (len(orf))*3 if 'M' in orf else None       # Update stop codon to next '*'\n",
    "                if start is not None and stop is not None:                   # In the coding region is >30AA\n",
    "                    orfs.append((start, stop))                                      # Append the start and stop positions for that ORF\n",
    "            lastStop += len(orf)*3 + 3           # Update the position of the last stop codon\n",
    "        orf_list.append(orfs)                    # Append the list of ORFs for the current frame\n",
    "    return orf_list\n",
    "\n",
    "def pickNLargestORF(orfs,N=5):\n",
    "    Lengths = []\n",
    "    Bounds = []\n",
    "    for frame, orf in enumerate(orfs):\n",
    "        for start, stop in orf:\n",
    "            Lengths.append(stop-start)\n",
    "            Bounds.append([start,stop])\n",
    "    enumerated_list = list(enumerate(Lengths))\n",
    "    sortedLengths = sorted(enumerated_list, key=lambda x: abs(x[1]), reverse=True)\n",
    "    Bounds = [Bounds[index] for index, _ in sortedLengths[:N]]\n",
    "    return Bounds\n",
    "\n",
    "# Next, let's find the amino acid sequence for the largest open reading frame from each vaccine\n",
    "def pickLargestORF(orfs):\n",
    "    maxLength = 0;\n",
    "    for frame, orfs in enumerate(orfs):\n",
    "        for start, stop in orfs:\n",
    "            if (stop-start)>maxLength:\n",
    "                largestStart = start\n",
    "                largestStop = stop\n",
    "                maxLength = stop-start\n",
    "            \n",
    "    return largestStart, largestStop"
   ]
  },
  {
   "cell_type": "code",
   "execution_count": 18,
   "id": "6d378e52",
   "metadata": {},
   "outputs": [],
   "source": [
    "# (ALIGNMENT) Lets try to align the virus sequence with the BioNTech/Phizer and Moderna vaccines\n",
    "#      First, lets create the sequences for the two vacines from the following paper: \n",
    "#      https://github.com/NAalytics/Assemblies-of-putative-SARS-CoV2-spike-encoding-mRNA-sequences-for-\n",
    "#          vaccines-BNT-162b2-and-mRNA-1273/blob/main/Assemblies%20of%20putative%20SARS-CoV2-spike-encoding\n",
    "#          %20mRNA%20sequences%20for%20vaccines%20BNT-162b2%20and%20mRNA-1273.docx.pdf\n",
    "BNT_Phizer = '''GAGAATAAACTAGTATTCTTCTGGTCCCCACAGACTCAGAGAGAACCCGCCACCATGTTCGTGTTCCTGGTGCTGCTGCCTCTGGTGTCCA\n",
    "GCCAGTGTGTGAACCTGACCACCAGAACACAGCTGCCTCCAGCCTACACCAACAGCTTTACCAGAGGCGTGTACTACCCCGACAAGGTGTT\n",
    "CAGATCCAGCGTGCTGCACTCTACCCAGGACCTGTTCCTGCCTTTCTTCAGCAACGTGACCTGGTTCCACGCCATCCACGTGTCCGGCACC\n",
    "AATGGCACCAAGAGATTCGACAACCCCGTGCTGCCCTTCAACGACGGGGTGTACTTTGCCAGCACCGAGAAGTCCAACATCATCAGAGGCT\n",
    "GGATCTTCGGCACCACACTGGACAGCAAGACCCAGAGCCTGCTGATCGTGAACAACGCCACCAACGTGGTCATCAAAGTGTGCGAGTTCCA\n",
    "GTTCTGCAACGACCCCTTCCTGGGCGTCTACTACCACAAGAACAACAAGAGCTGGATGGAAAGCGAGTTCCGGGTGTACAGCAGCGCCAAC\n",
    "AACTGCACCTTCGAGTACGTGTCCCAGCCTTTCCTGATGGACCTGGAAGGCAAGCAGGGCAACTTCAAGAACCTGCGCGAGTTCGTGTTTA\n",
    "AGAACATCGACGGCTACTTCAAGATCTACAGCAAGCACACCCCTATCAACCTCGTGCGGGATCTGCCTCAGGGCTTCTCTGCTCTGGAACC\n",
    "CCTGGTGGATCTGCCCATCGGCATCAACATCACCCGGTTTCAGACACTGCTGGCCCTGCACAGAAGCTACCTGACACCTGGCGATAGCAGC\n",
    "AGCGGATGGACAGCTGGTGCCGCCGCTTACTATGTGGGCTACCTGCAGCCTAGAACCTTCCTGCTGAAGTACAACGAGAACGGCACCATCA\n",
    "CCGACGCCGTGGATTGTGCTCTGGATCCTCTGAGCGAGACAAAGTGCACCCTGAAGTCCTTCACCGTGGAAAAGGGCATCTACCAGACCAG\n",
    "CAACTTCCGGGTGCAGCCCACCGAATCCATCGTGCGGTTCCCCAATATCACCAATCTGTGCCCCTTCGGCGAGGTGTTCAATGCCACCAGA\n",
    "TTCGCCTCTGTGTACGCCTGGAACCGGAAGCGGATCAGCAATTGCGTGGCCGACTACTCCGTGCTGTACAACTCCGCCAGCTTCAGCACCT\n",
    "TCAAGTGCTACGGCGTGTCCCCTACCAAGCTGAACGACCTGTGCTTCACAAACGTGTACGCCGACAGCTTCGTGATCCGGGGAGATGAAGT\n",
    "GCGGCAGATTGCCCCTGGACAGACAGGCAAGATCGCCGACTACAACTACAAGCTGCCCGACGACTTCACCGGCTGTGTGATTGCCTGGAAC\n",
    "AGCAACAACCTGGACTCCAAAGTCGGCGGCAACTACAATTACCTGTACCGGCTGTTCCGGAAGTCCAATCTGAAGCCCTTCGAGCGGGACA\n",
    "TCTCCACCGAGATCTATCAGGCCGGCAGCACCCCTTGTAACGGCGTGGAAGGCTTCAACTGCTACTTCCCACTGCAGTCCTACGGCTTTCA\n",
    "GCCCACAAATGGCGTGGGCTATCAGCCCTACAGAGTGGTGGTGCTGAGCTTCGAACTGCTGCATGCCCCTGCCACAGTGTGCGGCCCTAAG\n",
    "AAAAGCACCAATCTCGTGAAGAACAAATGCGTGAACTTCAACTTCAACGGCCTGACCGGCACCGGCGTGCTGACAGAGAGCAACAAGAAGT\n",
    "TCCTGCCATTCCAGCAGTTTGGCCGGGATATCGCCGATACCACAGACGCCGTTAGAGATCCCCAGACACTGGAAATCCTGGACATCACCCC\n",
    "TTGCAGCTTCGGCGGAGTGTCTGTGATCACCCCTGGCACCAACACCAGCAATCAGGTGGCAGTGCTGTACCAGGACGTGAACTGTACCGAA\n",
    "GTGCCCGTGGCCATTCACGCCGATCAGCTGACACCTACATGGCGGGTGTACTCCACCGGCAGCAATGTGTTTCAGACCAGAGCCGGCTGTC\n",
    "TGATCGGAGCCGAGCACGTGAACAATAGCTACGAGTGCGACATCCCCATCGGCGCTGGAATCTGCGCCAGCTACCAGACACAGACAAACAG\n",
    "CCCTCGGAGAGCCAGAAGCGTGGCCAGCCAGAGCATCATTGCCTACACAATGTCTCTGGGCGCCGAGAACAGCGTGGCCTACTCCAACAAC\n",
    "TCTATCGCTATCCCCACCAACTTCACCATCAGCGTGACCACAGAGATCCTGCCTGTGTCCATGACCAAGACCAGCGTGGACTGCACCATGT\n",
    "ACATCTGCGGCGATTCCACCGAGTGCTCCAACCTGCTGCTGCAGTACGGCAGCTTCTGCACCCAGCTGAATAGAGCCCTGACAGGGATCGC\n",
    "CGTGGAACAGGACAAGAACACCCAAGAGGTGTTCGCCCAAGTGAAGCAGATCTACAAGACCCCTCCTATCAAGGACTTCGGCGGCTTCAAT\n",
    "TTCAGCCAGATTCTGCCCGATCCTAGCAAGCCCAGCAAGCGGAGCTTCATCGAGGACCTGCTGTTCAACAAAGTGACACTGGCCGACGCCG\n",
    "GCTTCATCAAGCAGTATGGCGATTGTCTGGGCGACATTGCCGCCAGGGATCTGATTTGCGCCCAGAAGTTTAACGGACTGACAGTGCTGCC\n",
    "TCCTCTGCTGACCGATGAGATGATCGCCCAGTACACATCTGCCCTGCTGGCCGGCACAATCACAAGCGGCTGGACATTTGGAGCAGGCGCC\n",
    "GCTCTGCAGATCCCCTTTGCTATGCAGATGGCCTACCGGTTCAACGGCATCGGAGTGACCCAGAATGTGCTGTACGAGAACCAGAAGCTGA\n",
    "TCGCCAACCAGTTCAACAGCGCCATCGGCAAGATCCAGGACAGCCTGAGCAGCACAGCAAGCGCCCTGGGAAAGCTGCAGGACGTGGTCAA\n",
    "CCAGAATGCCCAGGCACTGAACACCCTGGTCAAGCAGCTGTCCTCCAACTTCGGCGCCATCAGCTCTGTGCTGAACGATATCCTGAGCAGA\n",
    "CTGGACCCTCCTGAGGCCGAGGTGCAGATCGACAGACTGATCACAGGCAGACTGCAGAGCCTCCAGACATACGTGACCCAGCAGCTGATCA\n",
    "GAGCCGCCGAGATTAGAGCCTCTGCCAATCTGGCCGCCACCAAGATGTCTGAGTGTGTGCTGGGCCAGAGCAAGAGAGTGGACTTTTGCGG\n",
    "CAAGGGCTACCACCTGATGAGCTTCCCTCAGTCTGCCCCTCACGGCGTGGTGTTTCTGCACGTGACATATGTGCCCGCTCAAGAGAAGAAT\n",
    "TTCACCACCGCTCCAGCCATCTGCCACGACGGCAAAGCCCACTTTCCTAGAGAAGGCGTGTTCGTGTCCAACGGCACCCATTGGTTCGTGA\n",
    "CACAGCGGAACTTCTACGAGCCCCAGATCATCACCACCGACAACACCTTCGTGTCTGGCAACTGCGACGTCGTGATCGGCATTGTGAACAA\n",
    "TACCGTGTACGACCCTCTGCAGCCCGAGCTGGACAGCTTCAAAGAGGAACTGGACAAGTACTTTAAGAACCACACAAGCCCCGACGTGGAC\n",
    "CTGGGCGATATCAGCGGAATCAATGCCAGCGTCGTGAACATCCAGAAAGAGATCGACCGGCTGAACGAGGTGGCCAAGAATCTGAACGAGA\n",
    "GCCTGATCGACCTGCAAGAACTGGGGAAGTACGAGCAGTACATCAAGTGGCCCTGGTACATCTGGCTGGGCTTTATCGCCGGACTGATTGC\n",
    "CATCGTGATGGTCACAATCATGCTGTGTTGCATGACCAGCTGCTGTAGCTGCCTGAAGGGCTGTTGTAGCTGTGGCAGCTGCTGCAAGTTC\n",
    "GACGAGGACGATTCTGAGCCCGTGCTGAAGGGCGTGAAACTGCACTACACATGATGACTCGAGCTGGTACTGCATGCACGCAATGCTAGCT\n",
    "GCCCCTTTCCCGTCCTGGGTACCCCGAGTCTCCCCCGACCTCGGGTCCCAGGTATGCTCCCACCTCCACCTGCCCCACTCACCACCTCTGC\n",
    "TAGTTCCAGACACCTCCCAAGCACGCAGCAATGCAGCTCAAAACGCTTAGCCTAGCCACACCCCCACGGGAAACAGCAGTGATTAACCTTT\n",
    "AGCAATAAACGAAAGTTTAACTAAGCTATACTAACCCCAGGGTTGGTCAATTTCGTGCCAGCCACACCCTGGAGCTAGCA'''\n",
    "BNT_Phizer = BNT_Phizer.replace(\"\\n\", \"\")\n",
    "\n",
    "Moderna = '''GGGAAATAAGAGAGAAAAGAAGAGTAAGAAGAAATATAAGACCCCGGCGCCGCCACCATGTTCGTGTTCCTGGTGCTGCTGCCCCTGGTGA\n",
    "GCAGCCAGTGCGTGAACCTGACCACCCGGACCCAGCTGCCACCAGCCTACACCAACAGCTTCACCCGGGGCGTCTACTACCCCGACAAGGT\n",
    "GTTCCGGAGCAGCGTCCTGCACAGCACCCAGGACCTGTTCCTGCCCTTCTTCAGCAACGTGACCTGGTTCCACGCCATCCACGTGAGCGGC\n",
    "ACCAACGGCACCAAGCGGTTCGACAACCCCGTGCTGCCCTTCAACGACGGCGTGTACTTCGCCAGCACCGAGAAGAGCAACATCATCCGGG\n",
    "GCTGGATCTTCGGCACCACCCTGGACAGCAAGACCCAGAGCCTGCTGATCGTGAATAACGCCACCAACGTGGTGATCAAGGTGTGCGAGTT\n",
    "CCAGTTCTGCAACGACCCCTTCCTGGGCGTGTACTACCACAAGAACAACAAGAGCTGGATGGAGAGCGAGTTCCGGGTGTACAGCAGCGCC\n",
    "AACAACTGCACCTTCGAGTACGTGAGCCAGCCCTTCCTGATGGACCTGGAGGGCAAGCAGGGCAACTTCAAGAACCTGCGGGAGTTCGTGT\n",
    "TCAAGAACATCGACGGCTACTTCAAGATCTACAGCAAGCACACCCCAATCAACCTGGTGCGGGATCTGCCCCAGGGCTTCTCAGCCCTGGA\n",
    "GCCCCTGGTGGACCTGCCCATCGGCATCAACATCACCCGGTTCCAGACCCTGCTGGCCCTGCACCGGAGCTACCTGACCCCAGGCGACAGC\n",
    "AGCAGCGGGTGGACAGCAGGCGCGGCTGCTTACTACGTGGGCTACCTGCAGCCCCGGACCTTCCTGCTGAAGTACAACGAGAACGGCACCA\n",
    "TCACCGACGCCGTGGACTGCGCCCTGGACCCTCTGAGCGAGACCAAGTGCACCCTGAAGAGCTTCACCGTGGAGAAGGGCATCTACCAGAC\n",
    "CAGCAACTTCCGGGTGCAGCCCACCGAGAGCATCGTGCGGTTCCCCAACATCACCAACCTGTGCCCCTTCGGCGAGGTGTTCAACGCCACC\n",
    "CGGTTCGCCAGCGTGTACGCCTGGAACCGGAAGCGGATCAGCAACTGCGTGGCCGACTACAGCGTGCTGTACAACAGCGCCAGCTTCAGCA\n",
    "CCTTCAAGTGCTACGGCGTGAGCCCCACCAAGCTGAACGACCTGTGCTTCACCAACGTGTACGCCGACAGCTTCGTGATCCGTGGCGACGA\n",
    "GGTGCGGCAGATCGCACCCGGCCAGACAGGCAAGATCGCCGACTACAACTACAAGCTGCCCGACGACTTCACCGGCTGCGTGATCGCCTGG\n",
    "AACAGCAACAACCTCGACAGCAAGGTGGGCGGCAACTACAACTACCTGTACCGGCTGTTCCGGAAGAGCAACCTGAAGCCCTTCGAGCGGG\n",
    "ACATCAGCACCGAGATCTACCAAGCCGGCTCCACCCCTTGCAACGGCGTGGAGGGCTTCAACTGCTACTTCCCTCTGCAGAGCTACGGCTT\n",
    "CCAGCCCACCAACGGCGTGGGCTACCAGCCCTACCGGGTGGTGGTGCTGAGCTTCGAGCTGCTGCACGCCCCAGCCACCGTGTGTGGCCCC\n",
    "AAGAAGAGCACCAACCTGGTGAAGAACAAGTGCGTGAACTTCAACTTCAACGGCCTTACCGGCACCGGCGTGCTGACCGAGAGCAACAAGA\n",
    "AATTCCTGCCCTTTCAGCAGTTCGGCCGGGACATCGCCGACACCACCGACGCTGTGCGGGATCCCCAGACCCTGGAGATCCTGGACATCAC\n",
    "CCCTTGCAGCTTCGGCGGCGTGAGCGTGATCACCCCAGGCACCAACACCAGCAACCAGGTGGCCGTGCTGTACCAGGACGTGAACTGCACC\n",
    "GAGGTGCCCGTGGCCATCCACGCCGACCAGCTGACACCCACCTGGCGGGTCTACAGCACCGGCAGCAACGTGTTCCAGACCCGGGCCGGTT\n",
    "GCCTGATCGGCGCCGAGCACGTGAACAACAGCTACGAGTGCGACATCCCCATCGGCGCCGGCATCTGTGCCAGCTACCAGACCCAGACCAA\n",
    "TTCACCCCGGAGGGCAAGGAGCGTGGCCAGCCAGAGCATCATCGCCTACACCATGAGCCTGGGCGCCGAGAACAGCGTGGCCTACAGCAAC\n",
    "AACAGCATCGCCATCCCCACCAACTTCACCATCAGCGTGACCACCGAGATTCTGCCCGTGAGCATGACCAAGACCAGCGTGGACTGCACCA\n",
    "TGTACATCTGCGGCGACAGCACCGAGTGCAGCAACCTGCTGCTGCAGTACGGCAGCTTCTGCACCCAGCTGAACCGGGCCCTGACCGGCAT\n",
    "CGCCGTGGAGCAGGACAAGAACACCCAGGAGGTGTTCGCCCAGGTGAAGCAGATCTACAAGACCCCTCCCATCAAGGACTTCGGCGGCTTC\n",
    "AACTTCAGCCAGATCCTGCCCGACCCCAGCAAGCCCAGCAAGCGGAGCTTCATCGAGGACCTGCTGTTCAACAAGGTGACCCTAGCCGACG\n",
    "CCGGCTTCATCAAGCAGTACGGCGACTGCCTCGGCGACATAGCCGCCCGGGACCTGATCTGCGCCCAGAAGTTCAACGGCCTGACCGTGCT\n",
    "GCCTCCCCTGCTGACCGACGAGATGATCGCCCAGTACACCAGCGCCCTGTTAGCCGGAACCATCACCAGCGGCTGGACTTTCGGCGCTGGA\n",
    "GCCGCTCTGCAGATCCCCTTCGCCATGCAGATGGCCTACCGGTTCAACGGCATCGGCGTGACCCAGAACGTGCTGTACGAGAACCAGAAGC\n",
    "TGATCGCCAACCAGTTCAACAGCGCCATCGGCAAGATCCAGGACAGCCTGAGCAGCACCGCTAGCGCCCTGGGCAAGCTGCAGGACGTGGT\n",
    "GAACCAGAACGCCCAGGCCCTGAACACCCTGGTGAAGCAGCTGAGCAGCAACTTCGGCGCCATCAGCAGCGTGCTGAACGACATCCTGAGC\n",
    "CGGCTGGACCCTCCCGAGGCCGAGGTGCAGATCGACCGGCTGATCACTGGCCGGCTGCAGAGCCTGCAGACCTACGTGACCCAGCAGCTGA\n",
    "TCCGGGCCGCCGAGATTCGGGCCAGCGCCAACCTGGCCGCCACCAAGATGAGCGAGTGCGTGCTGGGCCAGAGCAAGCGGGTGGACTTCTG\n",
    "CGGCAAGGGCTACCACCTGATGAGCTTTCCCCAGAGCGCACCCCACGGAGTGGTGTTCCTGCACGTGACCTACGTGCCCGCCCAGGAGAAG\n",
    "AACTTCACCACCGCCCCAGCCATCTGCCACGACGGCAAGGCCCACTTTCCCCGGGAGGGCGTGTTCGTGAGCAACGGCACCCACTGGTTCG\n",
    "TGACCCAGCGGAACTTCTACGAGCCCCAGATCATCACCACCGACAACACCTTCGTGAGCGGCAACTGCGACGTGGTGATCGGCATCGTGAA\n",
    "CAACACCGTGTACGATCCCCTGCAGCCCGAGCTGGACAGCTTCAAGGAGGAGCTGGACAAGTACTTCAAGAATCACACCAGCCCCGACGTG\n",
    "GACCTGGGCGACATCAGCGGCATCAACGCCAGCGTGGTGAACATCCAGAAGGAGATCGATCGGCTGAACGAGGTGGCCAAGAACCTGAACG\n",
    "AGAGCCTGATCGACCTGCAGGAGCTGGGCAAGTACGAGCAGTACATCAAGTGGCCCTGGTACATCTGGCTGGGCTTCATCGCCGGCCTGAT\n",
    "CGCCATCGTGATGGTGACCATCATGCTGTGCTGCATGACCAGCTGCTGCAGCTGCCTGAAGGGCTGTTGCAGCTGCGGCAGCTGCTGCAAG\n",
    "TTCGACGAGGACGACAGCGAGCCCGTGCTGAAGGGCGTGAAGCTGCACTACACCTGATAATAGGCTGGAGCCTCGGTGGCCTAGCTTCTTG\n",
    "CCCCTTGGGCCTCCCCCCAGCCCCTCCTCCCCTTCCTGCACCCGTACCCCCGTGGTCTTTGAATAAAGTCTGAGTGGGCGGCAAAAAAAAA'''\n",
    "\n",
    "Moderna = Moderna.replace(\"\\n\", \"\")"
   ]
  },
  {
   "cell_type": "code",
   "execution_count": 11,
   "id": "a750f91b-5d63-4be6-a627-2864fd3d56e8",
   "metadata": {},
   "outputs": [],
   "source": [
    "#(PRELIMINARIES) Let's download the COVID19 virus sequence from NCBI\n",
    "# Provide your email for accessing NCBI\n",
    "Entrez.email = \"brian.munsky@colostate.edu\"  # Insert your email here\n",
    "\n",
    "def get_genbank(accession_number):\n",
    "    handle = Entrez.efetch(db=\"nucleotide\", id=accession_number, rettype=\"gb\", retmode=\"text\")\n",
    "    record = SeqIO.read(handle, \"genbank\")\n",
    "    handle.close()\n",
    "    return record\n",
    "\n",
    "corona_virus = get_genbank(\"MN908947\")"
   ]
  },
  {
   "cell_type": "markdown",
   "id": "b271519d-c368-4570-a437-2f002f11d8f3",
   "metadata": {},
   "source": [
    "# Exploring Evolutionary History of Multiple Sequences\n",
    "To understand the evolutionary history of sequences, we can make phylogenetic trees. Let's try that with our BLAST results from before."
   ]
  },
  {
   "cell_type": "code",
   "execution_count": 12,
   "id": "e8f82b46-b673-4697-a858-58e9e84080dc",
   "metadata": {},
   "outputs": [],
   "source": [
    "def makeTree(alignedFile):\n",
    "    # read our alignment file.\n",
    "    align = AlignIO.read(alignedFile, 'fasta')\n",
    "\n",
    "    # define sequence distance metric\n",
    "    calculator = DistanceCalculator('identity')\n",
    "    dm  = calculator.get_distance(align)\n",
    "\n",
    "    # construct tree\n",
    "    constructor = DistanceTreeConstructor()\n",
    "    return constructor.upgma(dm), dm"
   ]
  },
  {
   "cell_type": "code",
   "execution_count": null,
   "id": "a273669a",
   "metadata": {},
   "outputs": [],
   "source": [
    "# We will use the alignment file that we found in the last lesson:\n",
    "alignedFile = \"blast_file_aligned.afa\"\n",
    "\n",
    "tree, dm = makeTree(alignedFile)\n",
    "\n",
    "# plot tree\n",
    "fig, ax = plt.subplots(figsize=(8, 30))  # Adjust size as needed\n",
    "Phylo.draw(tree,axes=ax)\n",
    "Phylo.draw_ascii(tree)"
   ]
  },
  {
   "cell_type": "code",
   "execution_count": null,
   "id": "5b7fb287-6066-4752-9232-f6e4b3ccd08a",
   "metadata": {
    "tags": []
   },
   "outputs": [],
   "source": [
    "# The numerical distances can be found in the distance matrix \"dm\"\n",
    "print(dm)\n",
    "\n",
    "print(f'The phylogenetic distance between {dm.names[0]} and {dm.names[4]} is {dm[0,4]}')\n",
    "print(f'The phylogenetic distance between {dm.names[1]} and {dm.names[4]} is {dm[1,4]}')"
   ]
  },
  {
   "cell_type": "markdown",
   "id": "838cb70c-3c14-49d7-9072-060f66842b15",
   "metadata": {},
   "source": [
    "### 3.A) Explore different Covid variants.\n",
    "\n",
    "Let's focus our analysis a little more closely onto some famous variants that were in the news during the early stages of the COVID19 pandemic:"
   ]
  },
  {
   "cell_type": "code",
   "execution_count": null,
   "id": "aaeefcd5-822e-4021-9125-2e7cd357d784",
   "metadata": {
    "tags": []
   },
   "outputs": [],
   "source": [
    "# Create a dictionary to map the sequence IDs to the sequence names\n",
    "variantDict = {\"wuhan\":'MN908947',\n",
    "            \"delta\":'OK091006',\n",
    "            \"beta\":'MZ433432',\n",
    "            \"alpha\":'MZ773928',\n",
    "            \"omicron\":'PP028445',\n",
    "            \"OP208953\":'OP208953',\n",
    "            \"MT628218\":'MT628218'}\n",
    "\n",
    "sequenceEntry = {}\n",
    "for variant in variantDict:\n",
    "    print(f\"Downloading {variant} variant using accession number {variantDict[variant]}\")\n",
    "    sequenceEntry[variant] = get_genbank(variantDict[variant])\n",
    "    # sequenceEntry.append(get_genbank(variantDict[variant]))"
   ]
  },
  {
   "cell_type": "markdown",
   "id": "6eee4b34",
   "metadata": {},
   "source": [
    "Let's also add the original Moderna vaccine to the mix so we can see what sequence it was most similar to."
   ]
  },
  {
   "cell_type": "code",
   "execution_count": 20,
   "id": "4c8bb744",
   "metadata": {},
   "outputs": [],
   "source": [
    "Moderna_orf_positions = find_all_orfs(Seq(Moderna))\n"
   ]
  },
  {
   "cell_type": "markdown",
   "id": "9b7bad1c",
   "metadata": {},
   "source": [
    "Next, we will use a loop to write the protein sequences of all the different variants into a single FASTA file.  Note how we are including both the name and accession number varantDict[variant] and the translated sequence in each entry. "
   ]
  },
  {
   "cell_type": "code",
   "execution_count": 26,
   "id": "dcfadb6e-ff4e-4fc2-bf10-fc5db6ff9374",
   "metadata": {
    "tags": []
   },
   "outputs": [],
   "source": [
    "variant_file_fasta = \"covid_variants.fa\"\n",
    "with open(variant_file_fasta, \"w\") as handle:\n",
    "    for variant in variantDict:\n",
    "        # Find and record the third largest ORF for each sequence\n",
    "        orf_positions = find_all_orfs(sequenceEntry[variant].seq)\n",
    "        longestORFbounds = pickNLargestORF(orf_positions,5)\n",
    "        proteinOfInterest = sequenceEntry[variant].seq[longestORFbounds[2][0]:].translate(to_stop=True)\n",
    "        handle.write(f\">{variant}:{variantDict[variant]}\\n{proteinOfInterest}\\n\")\n",
    "    startMod, stopMod = pickLargestORF(Moderna_orf_positions)\n",
    "    proteinOfInterest = Seq(Moderna[startMod:stopMod]).translate(to_stop=True)\n",
    "    handle.write(f\">Moderna\\n{proteinOfInterest}\\n\")\n"
   ]
  },
  {
   "cell_type": "code",
   "execution_count": null,
   "id": "1445a8b9-39f9-42a3-8b74-f30b9c28e57e",
   "metadata": {
    "tags": []
   },
   "outputs": [],
   "source": [
    "# Now that we have a fasta file, we can run MUSCLE again to \n",
    "# compute and plot its alignment:\n",
    "alignedFile = \"covid_variants_aligned.afa\"\n",
    "\n",
    "# Use a terminal command (bash) to run MUSCLE in to align the sequences.        \n",
    "bashCommand = \"muscle -align \" + variant_file_fasta + \" -output \" + alignedFile\n",
    "os.system(bashCommand)"
   ]
  },
  {
   "cell_type": "code",
   "execution_count": null,
   "id": "4936e8b3",
   "metadata": {},
   "outputs": [],
   "source": [
    "# Make and save an alignment figure\n",
    "mv = MsaViz(alignedFile, wrap_length=150, show_count=True)\n",
    "mv.savefig(\"Variant_Alignment.png\")\n",
    "\n",
    "# Load the image\n",
    "img = mpimg.imread('Variant_Alignment.png')\n",
    "\n",
    "# Display the image\n",
    "fig = plt.figure(figsize=(80, 80), dpi=200)\n",
    "plt.imshow(img)\n",
    "plt.axis('off')  # Hide axis\n",
    "plt.show()"
   ]
  },
  {
   "cell_type": "code",
   "execution_count": null,
   "id": "578d9f8b-9ba6-4d4e-b325-d4f1c095fc20",
   "metadata": {
    "tags": []
   },
   "outputs": [],
   "source": [
    "# Compute the phylogenetic tree using our previous function:\n",
    "tree = makeTree(alignedFile)\n",
    "# plot tree\n",
    "Phylo.draw_ascii(tree[0])"
   ]
  },
  {
   "cell_type": "code",
   "execution_count": null,
   "id": "450cbec7-52a1-4b5d-9b6d-97d3bd3ec712",
   "metadata": {
    "tags": []
   },
   "outputs": [],
   "source": [
    "# The numerical distances can be found in the distance matrix \"dm\"\n",
    "print(tree[1])\n",
    "\n",
    "print(f'The phylogenetic distance between {tree[1].names[0]} and {tree[1].names[4]} is {tree[1][0,4]}')\n",
    "print(f'The phylogenetic distance between {tree[1].names[1]} and {tree[1].names[4]} is {tree[1][1,4]}')"
   ]
  },
  {
   "cell_type": "markdown",
   "id": "98162f1e",
   "metadata": {},
   "source": [
    "# Phylodynamics\n",
    "Phylodynamics is the join inference of phylogenetics and epidemiological dynamics, such as the number of covid invections in a population, the rate of infection, and how the virus spread from one place to another as it mutated (the \"mugration\" rate).  "
   ]
  },
  {
   "cell_type": "markdown",
   "id": "c9a198ea",
   "metadata": {},
   "source": [
    "### 3.B) Computing Model-Based Time Trees\n",
    "To build more complex models and infer additional information (besides simple distance metrics), we need trees that incorporate a model of evolution through time.  In the case of time trees, each branch length is a measurement of time that has passed (rather than the distances)."
   ]
  },
  {
   "cell_type": "markdown",
   "id": "53e32b7e",
   "metadata": {},
   "source": [
    "I prefer Bayesian methods, but Brian told me to keep things in Python, and Bayesian phylodynamics is too heady to restrict to a Python notebook :-p  So we're going to use TimeTree, a maximum likelihood method."
   ]
  },
  {
   "cell_type": "markdown",
   "id": "1b3dbfd6",
   "metadata": {},
   "source": [
    "First, let's format our data for TimeTree.  In model-based phylogenetics, if we have time data, we can include it as part of the model of evolution through time - and thus we take this information into account when we construct our trees!"
   ]
  },
  {
   "cell_type": "code",
   "execution_count": null,
   "id": "6cb334a8",
   "metadata": {},
   "outputs": [],
   "source": [
    "import csv\n",
    "from datetime import datetime\n",
    "\n",
    "# Get the dates of the sequences\n",
    "for variant in variantDict:\n",
    "    print(variant + \",\" + sequenceEntry[variant].annotations['date']) \n",
    "    \n",
    "# Convert the date to decimal year for TimeTree\n",
    "def date_to_decimal(date_str):\n",
    "    \"\"\"Convert a date in DD-MMM-YYYY format to decimal year.\"\"\"\n",
    "    date = datetime.strptime(date_str, \"%d-%b-%Y\")  # Correct format for DD-MMM-YYYY\n",
    "    year_start = datetime(date.year, 1, 1)\n",
    "    year_end = datetime(date.year + 1, 1, 1)\n",
    "    decimal_year = date.year + (date - year_start).total_seconds() / (year_end - year_start).total_seconds()\n",
    "    return round(decimal_year, 6)  # Rounded for better precision\n",
    "\n",
    "print(\"\\n\")\n",
    "    \n",
    "# Open the file in write mode\n",
    "with open(\"metadata_dates.csv\", mode=\"w\", newline=\"\") as file:\n",
    "    writer = csv.writer(file)\n",
    "    \n",
    "    # Write the header\n",
    "    writer.writerow([\"name\", \"date\"])\n",
    "    \n",
    "    # Iterate over the dictionary and write each variant and its date\n",
    "    for variant in variantDict:\n",
    "        date = sequenceEntry[variant].annotations.get('date') \n",
    "        date = date_to_decimal(date)\n",
    "        accessions = ','.join(sequenceEntry[variant].annotations.get('accessions'))\n",
    "        \n",
    "        # Check the names and conversion of dates to decimal years\n",
    "        name_and_date = variant + \":\" + accessions + \",\" + str(date)\n",
    "        print(name_and_date) \n",
    "        \n",
    "        # Write name and date as separate columns for TreeTime\n",
    "        writer.writerow([f\"{variant}:{accessions}\", date])"
   ]
  },
  {
   "cell_type": "markdown",
   "id": "5179fa13",
   "metadata": {},
   "source": [
    "Now let's import our data into TimeTree."
   ]
  },
  {
   "cell_type": "code",
   "execution_count": null,
   "id": "01973659",
   "metadata": {},
   "outputs": [],
   "source": [
    "from treetime import TreeTime\n",
    "from treetime.utils import parse_dates\n",
    "\n",
    "# Ensure the metadata file is in the correct format and path\n",
    "dates = parse_dates('metadata_dates.csv')\n",
    "\n",
    "# Initialize TreeTime with the tree, alignment, and dates\n",
    "tt = TreeTime(tree='covid_variants_aligned.newick', aln='covid_variants_aligned.fasta', dates=dates)\n",
    "\n",
    "# Run TreeTime with the best root\n",
    "tt.run(root='best')"
   ]
  },
  {
   "cell_type": "markdown",
   "id": "b8997f4f-2376-47e2-8b82-50727664a2f6",
   "metadata": {},
   "source": [
    "Want to add some more variants to the plot.  See here for a much larger tree:\n",
    "https://www.bv-brc.org/view/VariantLineage/#view_tab=phlyogeny"
   ]
  }
 ],
 "metadata": {
  "kernelspec": {
   "display_name": "BIOM480A5",
   "language": "python",
   "name": "python3"
  },
  "language_info": {
   "codemirror_mode": {
    "name": "ipython",
    "version": 3
   },
   "file_extension": ".py",
   "mimetype": "text/x-python",
   "name": "python",
   "nbconvert_exporter": "python",
   "pygments_lexer": "ipython3",
   "version": "3.10.16"
  },
  "toc": {
   "base_numbering": 1,
   "nav_menu": {},
   "number_sections": true,
   "sideBar": true,
   "skip_h1_title": false,
   "title_cell": "Table of Contents",
   "title_sidebar": "Contents",
   "toc_cell": false,
   "toc_position": {
    "height": "calc(100% - 180px)",
    "left": "10px",
    "top": "150px",
    "width": "448px"
   },
   "toc_section_display": true,
   "toc_window_display": true
  }
 },
 "nbformat": 4,
 "nbformat_minor": 5
}
