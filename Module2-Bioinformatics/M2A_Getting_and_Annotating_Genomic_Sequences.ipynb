{
 "cells": [
  {
   "cell_type": "markdown",
   "id": "90c32b4b-abb4-431a-90c2-4ab0bcb71d3d",
   "metadata": {},
   "source": [
    "<html>\n",
    "    <summary></summary>\n",
    "         <div> <p></p> </div>\n",
    "         <div style=\"font-size: 20px; width: 800px;\"> \n",
    "              <h1>\n",
    "               <left>Downloading and Annotating Genomic Sequences</left>\n",
    "              </h1>\n",
    "              <p><left>============================================================================</left> </p>\n",
    "<pre>Course: BIOM/CBE 480A5, Spring 2025\n",
    "Instructor: Brian Munsky\n",
    "Contact Info: munsky@colostate.edu\n",
    "</pre>\n",
    "         </div>\n",
    "    </p>\n",
    "\n",
    "</html>\n",
    "\n",
    "<details>\n",
    "  <summary>Copyright info</summary>\n",
    "\n",
    "```\n",
    "Copyright 2024 Brian Munsky\n",
    "\n",
    "Redistribution and use in source and binary forms, with or without modification, are permitted provided that the following conditions are met:\n",
    "\n",
    "1. Redistributions of source code must retain the above copyright notice, this list of conditions and the following disclaimer.\n",
    "\n",
    "2. Redistributions in binary form must reproduce the above copyright notice, this list of conditions and the following disclaimer in the documentation and/or other materials provided with the distribution.\n",
    "\n",
    "3. Neither the name of the copyright holder nor the names of its contributors may be used to endorse or promote products derived from this software without specific prior written permission.\n",
    "\n",
    "THIS SOFTWARE IS PROVIDED BY THE COPYRIGHT HOLDERS AND CONTRIBUTORS \"AS IS\" AND ANY EXPRESS OR IMPLIED WARRANTIES, INCLUDING, BUT NOT LIMITED TO, THE IMPLIED WARRANTIES OF MERCHANTABILITY AND FITNESS FOR A PARTICULAR PURPOSE ARE DISCLAIMED. IN NO EVENT SHALL THE COPYRIGHT HOLDER OR CONTRIBUTORS BE LIABLE FOR ANY DIRECT, INDIRECT, INCIDENTAL, SPECIAL, EXEMPLARY, OR CONSEQUENTIAL DAMAGES (INCLUDING, BUT NOT LIMITED TO, PROCUREMENT OF SUBSTITUTE GOODS OR SERVICES; LOSS OF USE, DATA, OR PROFITS; OR BUSINESS INTERRUPTION) HOWEVER CAUSED AND ON ANY THEORY OF LIABILITY, WHETHER IN CONTRACT, STRICT LIABILITY, OR TORT (INCLUDING NEGLIGENCE OR OTHERWISE) ARISING IN ANY WAY OUT OF THE USE OF THIS SOFTWARE, EVEN IF ADVISED OF THE POSSIBILITY OF SUCH DAMAGE.\n",
    "```\n",
    "<details>\n",
    "\n"
   ]
  },
  {
   "cell_type": "markdown",
   "id": "bda36f7b",
   "metadata": {},
   "source": [
    "# **Learning Objectives**\n",
    "In this lesson, we are going to use some common sequence manipulation and search tools to learn about the DNA, RNA and proteins related to the Corona Virus. After completing this lesson, you will be able to:\n",
    "\n",
    "* Describe the meaning and use of ```accession numbers``` to identify biological data sets.\n",
    "* Describe and use Python tools to acquire genomic data from online ```repositories```\n",
    "* Find and describe basic information that is commonly used to ```annotate``` genetic sequences\n",
    "* Find and analyze ```open reading frames``` in DNA and RNA sequences\n",
    "* ```Translate``` between DNA, cDNA, RNA and protein sequences\n",
    "* Find and use different software packages to ```analyze``` biological sequence data\n",
    "* Access online electronic information and primary literature to gain more information about specific biological sequences and data"
   ]
  },
  {
   "cell_type": "markdown",
   "id": "d46d4ed7",
   "metadata": {},
   "source": [
    "# **1) Downloading genomic data from an online database**\n",
    "\n",
    "Before we can analyze any given sequence data set, the first step is always going to be to obtain the data!\n",
    "\n",
    "In this notebook, we are goin to focus in on a specific example, namely, the **corona virus**.\n",
    "\n",
    "Our first step is to download the corona virus sequence (and a large amount of information about that sequence) from the ```genbank``` data base.  \n",
    "\n",
    "I did a quick internet seach and found that an accession number from Severe acute respiratory syndrome coronavirus 2 isolate  Wuhan-Hu-1, complete genome: ```MN908947```.\n",
    "\n",
    "We are going to use the modules ```Bio``` and ```biopython```, so let's import those now. \n",
    "\n",
    "**Note** - If any of the following packages do not import, you may need to install the missing modules using magic commands (see code below)."
   ]
  },
  {
   "cell_type": "code",
   "execution_count": 1,
   "id": "33813934",
   "metadata": {},
   "outputs": [
    {
     "name": "stderr",
     "output_type": "stream",
     "text": [
      "/Users/munsky/anaconda3/envs/BIOM480A5/lib/python3.10/site-packages/Bio/pairwise2.py:278: BiopythonDeprecationWarning: Bio.pairwise2 has been deprecated, and we intend to remove it in a future release of Biopython. As an alternative, please consider using Bio.Align.PairwiseAligner as a replacement, and contact the Biopython developers if you still need the Bio.pairwise2 module.\n",
      "  warnings.warn(\n"
     ]
    }
   ],
   "source": [
    "# Note, if you have not already installed the following packages, you can do so\n",
    "#  by running the following terminal commands.  Note, you only need to run these\n",
    "#  commands once.  If you have already installed these packages, you can skip\n",
    "#  this step.\n",
    "# !pip install biopython\n",
    "# !pip install Bio\n",
    "\n",
    "# Importing the necessary libraries\n",
    "import Bio\n",
    "from Bio import Entrez, SeqIO, pairwise2, AlignIO, Phylo\n",
    "from Bio.Blast import NCBIWWW, NCBIXML\n",
    "from Bio.Seq import Seq\n",
    "from Bio.SeqRecord import SeqRecord\n",
    "from Bio.SeqUtils import ProtParam\n",
    "from Bio.Phylo.TreeConstruction import DistanceCalculator, DistanceTreeConstructor\n",
    "\n",
    "import matplotlib.pyplot as plt\n",
    "import matplotlib.image as mpimg\n",
    "import webbrowser\n",
    "import os\n",
    "import threading"
   ]
  },
  {
   "cell_type": "markdown",
   "id": "382cc6ad",
   "metadata": {},
   "source": [
    "The following code block will set up your user account in NCBU and then download the sequence data for the corona virus. "
   ]
  },
  {
   "cell_type": "code",
   "execution_count": 2,
   "id": "a750f91b-5d63-4be6-a627-2864fd3d56e8",
   "metadata": {},
   "outputs": [],
   "source": [
    "#(PRELIMINARIES) Let's download the COVID19 virus sequence from NCBI\n",
    "# Provide your email for accessing NCBI\n",
    "Entrez.email = \"brian.munsky@colostate.edu\"  # Insert your email here\n",
    "\n",
    "def get_genbank(accession_number):\n",
    "    handle = Entrez.efetch(db=\"nucleotide\", id=accession_number, rettype=\"gb\", retmode=\"text\")\n",
    "    record = SeqIO.read(handle, \"genbank\")\n",
    "    handle.close()\n",
    "    return record\n",
    "\n",
    "corona_virus = get_genbank(\"MN908947\")"
   ]
  },
  {
   "cell_type": "markdown",
   "id": "bba26f20",
   "metadata": {},
   "source": [
    "# **2) Exploring features of genomic data**\n",
    "\n",
    "Now that we have the data, let's explore to see what information is available to us:"
   ]
  },
  {
   "cell_type": "code",
   "execution_count": 3,
   "id": "8d78b9bf",
   "metadata": {},
   "outputs": [
    {
     "name": "stdout",
     "output_type": "stream",
     "text": [
      "ID: MN908947.3\n",
      "Name: MN908947\n",
      "Description: Severe acute respiratory syndrome coronavirus 2 isolate Wuhan-Hu-1, complete genome\n",
      "Number of features: 23\n",
      "/molecule_type=ss-RNA\n",
      "/topology=linear\n",
      "/data_file_division=VRL\n",
      "/date=18-MAR-2020\n",
      "/accessions=['MN908947']\n",
      "/sequence_version=3\n",
      "/keywords=['']\n",
      "/source=Severe acute respiratory syndrome coronavirus 2 (SARS-CoV-2)\n",
      "/organism=Severe acute respiratory syndrome coronavirus 2\n",
      "/taxonomy=['Viruses', 'Riboviria', 'Orthornavirae', 'Pisuviricota', 'Pisoniviricetes', 'Nidovirales', 'Cornidovirineae', 'Coronaviridae', 'Orthocoronavirinae', 'Betacoronavirus', 'Sarbecovirus', 'Severe acute respiratory syndrome-related coronavirus']\n",
      "/references=[Reference(title='A new coronavirus associated with human respiratory disease in China', ...), Reference(title='Direct Submission', ...)]\n",
      "/comment=On Jan 17, 2020 this sequence version replaced MN908947.2.\n",
      "/structured_comment=defaultdict(<class 'dict'>, {'Assembly-Data': {'Assembly Method': 'Megahit v. V1.1.3', 'Sequencing Technology': 'Illumina'}})\n",
      "Seq('ATTAAAGGTTTATACCTTCCCAGGTAACAAACCAACCAACTTTCGATCTCTTGT...AAA')\n"
     ]
    }
   ],
   "source": [
    "# Let's look at what kinds of information are available to use in the data set:\n",
    "print(corona_virus)"
   ]
  },
  {
   "cell_type": "markdown",
   "id": "dac90e54",
   "metadata": {},
   "source": [
    "### **2.1) Accession Number**\n",
    "\n",
    "The first thing we can do is to print the accession number of the sequence. This is a unique identifier for the sequence in the database."
   ]
  },
  {
   "cell_type": "code",
   "execution_count": 4,
   "id": "71e02364",
   "metadata": {},
   "outputs": [
    {
     "name": "stdout",
     "output_type": "stream",
     "text": [
      "MN908947.3\n"
     ]
    }
   ],
   "source": [
    "# Print the accession number\n",
    "print(corona_virus.id)"
   ]
  },
  {
   "cell_type": "markdown",
   "id": "c14d04d7",
   "metadata": {},
   "source": [
    "### **2.2) Sequence**\n",
    "\n",
    "Next, we can print the sequence itself. This is the actual DNA sequence that we will be analyzing."
   ]
  },
  {
   "cell_type": "code",
   "execution_count": 5,
   "id": "89c207a5",
   "metadata": {},
   "outputs": [
    {
     "name": "stdout",
     "output_type": "stream",
     "text": [
      "ATTAAAGGTTTATACCTTCCCAGGTAACAAACCAACCAACTTTCGATCTCTTGTAGATCTGTTCTCTAAACGAACTTTAAAATCTGTGTGGCTGTCACTCGGCTGCATGCTTAGTGCACTCACGCAGTATAATTAATAACTAATTACTGTCGTTGACAGGACACGAGTAACTCGTCTATCTTCTGCAGGCTGCTTACGGTTTCGTCCGTGTTGCAGCCGATCATCAGCACATCTAGGTTTCGTCCGGGTGTGACCGAAAGGTAAGATGGAGAGCCTTGTCCCTGGTTTCAACGAGAAAACACACGTCCAACTCAGTTTGCCTGTTTTACAGGTTCGCGACGTGCTCGTACGTGGCTTTGGAGACTCCGTGGAGGAGGTCTTATCAGAGGCACGTCAACATCTTAAAGATGGCACTTGTGGCTTAGTAGAAGTTGAAAAAGGCGTTTTGCCTCAACTTGAACAGCCCTATGTGTTCATCAAACGTTCGGATGCTCGAACTGCACCTCATGGTCATGTTATGGTTGAGCTGGTAGCAGAACTCGAAGGCATTCAGTACGGTCGTAGTGGTGAGACACTTGGTGTCCTTGTCCCTCATGTGGGCGAAATACCAGTGGCTTACCGCAAGGTTCTTCTTCGTAAGAACGGTAATAAAGGAGCTGGTGGCCATAGTTACGGCGCCGATCTAAAGTCATTTGACTTAGGCGACGAGCTTGGCACTGATCCTTATGAAGATTTTCAAGAAAACTGGAACACTAAACATAGCAGTGGTGTTACCCGTGAACTCATGCGTGAGCTTAACGGAGGGGCATACACTCGCTATGTCGATAACAACTTCTGTGGCCCTGATGGCTACCCTCTTGAGTGCATTAAAGACCTTCTAGCACGTGCTGGTAAAGCTTCATGCACTTTGTCCGAACAACTGGACTTTATTGACACTAAGAGGGGTGTATACTGCTGCCGTGAACATGAGCATGAAATTGCTTGGTACACGGAACGTTCT\n"
     ]
    }
   ],
   "source": [
    "# Print the first 1000 nucleotides.\n",
    "print(corona_virus.seq[0:1000])         # Output the sequence to screen."
   ]
  },
  {
   "cell_type": "code",
   "execution_count": 6,
   "id": "5e1d724e",
   "metadata": {},
   "outputs": [
    {
     "data": {
      "text/plain": [
       "29903"
      ]
     },
     "execution_count": 6,
     "metadata": {},
     "output_type": "execute_result"
    }
   ],
   "source": [
    "# Find the length of the sequence\n",
    "len(corona_virus.seq)  # Find the length of the sequence."
   ]
  },
  {
   "cell_type": "markdown",
   "id": "c80a0b0b",
   "metadata": {},
   "source": [
    "## **2.3) Description**\n",
    "\n",
    "The description of the sequence is a human-readable description of the sequence. This can include information about the organism the sequence comes from, the gene the sequence codes for, and other relevant information."
   ]
  },
  {
   "cell_type": "code",
   "execution_count": 7,
   "id": "a53eb5e2",
   "metadata": {},
   "outputs": [
    {
     "name": "stdout",
     "output_type": "stream",
     "text": [
      "Severe acute respiratory syndrome coronavirus 2 isolate Wuhan-Hu-1, complete genome\n"
     ]
    }
   ],
   "source": [
    "# Print description of the sequence\n",
    "print(corona_virus.description)"
   ]
  },
  {
   "cell_type": "markdown",
   "id": "ebebf33e",
   "metadata": {},
   "source": [
    "## **2.4) Annotations**\n",
    "\n",
    "Annotations are additional information about the sequence that can be used to help interpret the sequence. This can include information about the gene the sequence codes for, the location of the gene on the chromosome, and other relevant information."
   ]
  },
  {
   "cell_type": "code",
   "execution_count": 8,
   "id": "c5305149",
   "metadata": {},
   "outputs": [
    {
     "data": {
      "text/plain": [
       "{'molecule_type': 'ss-RNA',\n",
       " 'topology': 'linear',\n",
       " 'data_file_division': 'VRL',\n",
       " 'date': '18-MAR-2020',\n",
       " 'accessions': ['MN908947'],\n",
       " 'sequence_version': 3,\n",
       " 'keywords': [''],\n",
       " 'source': 'Severe acute respiratory syndrome coronavirus 2 (SARS-CoV-2)',\n",
       " 'organism': 'Severe acute respiratory syndrome coronavirus 2',\n",
       " 'taxonomy': ['Viruses',\n",
       "  'Riboviria',\n",
       "  'Orthornavirae',\n",
       "  'Pisuviricota',\n",
       "  'Pisoniviricetes',\n",
       "  'Nidovirales',\n",
       "  'Cornidovirineae',\n",
       "  'Coronaviridae',\n",
       "  'Orthocoronavirinae',\n",
       "  'Betacoronavirus',\n",
       "  'Sarbecovirus',\n",
       "  'Severe acute respiratory syndrome-related coronavirus'],\n",
       " 'references': [Reference(title='A new coronavirus associated with human respiratory disease in China', ...),\n",
       "  Reference(title='Direct Submission', ...)],\n",
       " 'comment': 'On Jan 17, 2020 this sequence version replaced MN908947.2.',\n",
       " 'structured_comment': defaultdict(dict,\n",
       "             {'Assembly-Data': {'Assembly Method': 'Megahit v. V1.1.3',\n",
       "               'Sequencing Technology': 'Illumina'}})}"
      ]
     },
     "execution_count": 8,
     "metadata": {},
     "output_type": "execute_result"
    }
   ],
   "source": [
    "# Explore what annotations are made about the sequence\n",
    "corona_virus.annotations"
   ]
  },
  {
   "cell_type": "code",
   "execution_count": 9,
   "id": "9d57bd27",
   "metadata": {},
   "outputs": [
    {
     "data": {
      "text/plain": [
       "['Viruses',\n",
       " 'Riboviria',\n",
       " 'Orthornavirae',\n",
       " 'Pisuviricota',\n",
       " 'Pisoniviricetes',\n",
       " 'Nidovirales',\n",
       " 'Cornidovirineae',\n",
       " 'Coronaviridae',\n",
       " 'Orthocoronavirinae',\n",
       " 'Betacoronavirus',\n",
       " 'Sarbecovirus',\n",
       " 'Severe acute respiratory syndrome-related coronavirus']"
      ]
     },
     "execution_count": 9,
     "metadata": {},
     "output_type": "execute_result"
    }
   ],
   "source": [
    "# What is the taxonomy of the sequence?\n",
    "corona_virus.annotations['taxonomy']"
   ]
  },
  {
   "cell_type": "markdown",
   "id": "87ab82c3",
   "metadata": {},
   "source": [
    "## **2.5) Exploring advanced features in the genome**\n",
    "\n",
    "Here is an example for how to download the genbank file to disk so that you can analyse it later."
   ]
  },
  {
   "cell_type": "code",
   "execution_count": 10,
   "id": "53cc9e5f",
   "metadata": {},
   "outputs": [
    {
     "name": "stdout",
     "output_type": "stream",
     "text": [
      "GenBank record downloaded and saved to coronaVirus.gb\n"
     ]
    }
   ],
   "source": [
    "def download_genbank(accession_number, output_file):\n",
    "    try:\n",
    "        # Fetch the GenBank record\n",
    "        handle = Entrez.efetch(db=\"nucleotide\", id=accession_number, rettype=\"gb\", retmode=\"text\")\n",
    "\n",
    "        # Write the record to a file\n",
    "        with open(output_file, \"w\") as f:\n",
    "            f.write(handle.read())\n",
    "\n",
    "        print(f\"GenBank record downloaded and saved to {output_file}\")\n",
    "\n",
    "    except Exception as e:\n",
    "        print(f\"Error: {e}\")\n",
    "\n",
    "# Example: Download GenBank record for a given accession number\n",
    "accession_number = \"MN908947\"  # Replace with your accession number\n",
    "output_file = \"coronaVirus.gb\"\n",
    "\n",
    "download_genbank(accession_number, output_file)"
   ]
  },
  {
   "cell_type": "markdown",
   "id": "3bfbd248",
   "metadata": {},
   "source": [
    "Now that we have the full genbank file, let's explore some of the features of the genome. "
   ]
  },
  {
   "cell_type": "code",
   "execution_count": 11,
   "id": "20af1343",
   "metadata": {},
   "outputs": [
    {
     "name": "stdout",
     "output_type": "stream",
     "text": [
      "ID: MN908947.3\n",
      "Feature Type: source\n",
      "Location: [0:29903](+)\n",
      "Qualifiers: {'organism': ['Severe acute respiratory syndrome coronavirus 2'], 'mol_type': ['genomic RNA'], 'isolate': ['Wuhan-Hu-1'], 'host': ['Homo sapiens'], 'db_xref': ['taxon:2697049'], 'geo_loc_name': ['China'], 'collection_date': ['Dec-2019']}\n",
      "Feature Type: 5'UTR\n",
      "Location: [0:265](+)\n",
      "Qualifiers: {}\n",
      "Feature Type: gene\n",
      "Location: [265:21555](+)\n",
      "Qualifiers: {'gene': ['orf1ab']}\n",
      "Feature Type: CDS\n",
      "Location: join{[265:13468](+), [13467:21555](+)}\n",
      "Qualifiers: {'gene': ['orf1ab'], 'ribosomal_slippage': [''], 'note': ['pp1ab; translated by -1 ribosomal frameshift'], 'codon_start': ['1'], 'product': ['orf1ab polyprotein'], 'protein_id': ['QHD43415.1'], 'translation': ['MESLVPGFNEKTHVQLSLPVLQVRDVLVRGFGDSVEEVLSEARQHLKDGTCGLVEVEKGVLPQLEQPYVFIKRSDARTAPHGHVMVELVAELEGIQYGRSGETLGVLVPHVGEIPVAYRKVLLRKNGNKGAGGHSYGADLKSFDLGDELGTDPYEDFQENWNTKHSSGVTRELMRELNGGAYTRYVDNNFCGPDGYPLECIKDLLARAGKASCTLSEQLDFIDTKRGVYCCREHEHEIAWYTERSEKSYELQTPFEIKLAKKFDTFNGECPNFVFPLNSIIKTIQPRVEKKKLDGFMGRIRSVYPVASPNECNQMCLSTLMKCDHCGETSWQTGDFVKATCEFCGTENLTKEGATTCGYLPQNAVVKIYCPACHNSEVGPEHSLAEYHNESGLKTILRKGGRTIAFGGCVFSYVGCHNKCAYWVPRASANIGCNHTGVVGEGSEGLNDNLLEILQKEKVNINIVGDFKLNEEIAIILASFSASTSAFVETVKGLDYKAFKQIVESCGNFKVTKGKAKKGAWNIGEQKSILSPLYAFASEAARVVRSIFSRTLETAQNSVRVLQKAAITILDGISQYSLRLIDAMMFTSDLATNNLVVMAYITGGVVQLTSQWLTNIFGTVYEKLKPVLDWLEEKFKEGVEFLRDGWEIVKFISTCACEIVGGQIVTCAKEIKESVQTFFKLVNKFLALCADSIIIGGAKLKALNLGETFVTHSKGLYRKCVKSREETGLLMPLKAPKEIIFLEGETLPTEVLTEEVVLKTGDLQPLEQPTSEAVEAPLVGTPVCINGLMLLEIKDTEKYCALAPNMMVTNNTFTLKGGAPTKVTFGDDTVIEVQGYKSVNITFELDERIDKVLNEKCSAYTVELGTEVNEFACVVADAVIKTLQPVSELLTPLGIDLDEWSMATYYLFDESGEFKLASHMYCSFYPPDEDEEEGDCEEEEFEPSTQYEYGTEDDYQGKPLEFGATSAALQPEEEQEEDWLDDDSQQTVGQQDGSEDNQTTTIQTIVEVQPQLEMELTPVVQTIEVNSFSGYLKLTDNVYIKNADIVEEAKKVKPTVVVNAANVYLKHGGGVAGALNKATNNAMQVESDDYIATNGPLKVGGSCVLSGHNLAKHCLHVVGPNVNKGEDIQLLKSAYENFNQHEVLLAPLLSAGIFGADPIHSLRVCVDTVRTNVYLAVFDKNLYDKLVSSFLEMKSEKQVEQKIAEIPKEEVKPFITESKPSVEQRKQDDKKIKACVEEVTTTLEETKFLTENLLLYIDINGNLHPDSATLVSDIDITFLKKDAPYIVGDVVQEGVLTAVVIPTKKAGGTTEMLAKALRKVPTDNYITTYPGQGLNGYTVEEAKTVLKKCKSAFYILPSIISNEKQEILGTVSWNLREMLAHAEETRKLMPVCVETKAIVSTIQRKYKGIKIQEGVVDYGARFYFYTSKTTVASLINTLNDLNETLVTMPLGYVTHGLNLEEAARYMRSLKVPATVSVSSPDAVTAYNGYLTSSSKTPEEHFIETISLAGSYKDWSYSGQSTQLGIEFLKRGDKSVYYTSNPTTFHLDGEVITFDNLKTLLSLREVRTIKVFTTVDNINLHTQVVDMSMTYGQQFGPTYLDGADVTKIKPHNSHEGKTFYVLPNDDTLRVEAFEYYHTTDPSFLGRYMSALNHTKKWKYPQVNGLTSIKWADNNCYLATALLTLQQIELKFNPPALQDAYYRARAGEAANFCALILAYCNKTVGELGDVRETMSYLFQHANLDSCKRVLNVVCKTCGQQQTTLKGVEAVMYMGTLSYEQFKKGVQIPCTCGKQATKYLVQQESPFVMMSAPPAQYELKHGTFTCASEYTGNYQCGHYKHITSKETLYCIDGALLTKSSEYKGPITDVFYKENSYTTTIKPVTYKLDGVVCTEIDPKLDNYYKKDNSYFTEQPIDLVPNQPYPNASFDNFKFVCDNIKFADDLNQLTGYKKPASRELKVTFFPDLNGDVVAIDYKHYTPSFKKGAKLLHKPIVWHVNNATNKATYKPNTWCIRCLWSTKPVETSNSFDVLKSEDAQGMDNLACEDLKPVSEEVVENPTIQKDVLECNVKTTEVVGDIILKPANNSLKITEEVGHTDLMAAYVDNSSLTIKKPNELSRVLGLKTLATHGLAAVNSVPWDTIANYAKPFLNKVVSTTTNIVTRCLNRVCTNYMPYFFTLLLQLCTFTRSTNSRIKASMPTTIAKNTVKSVGKFCLEASFNYLKSPNFSKLINIIIWFLLLSVCLGSLIYSTAALGVLMSNLGMPSYCTGYREGYLNSTNVTIATYCTGSIPCSVCLSGLDSLDTYPSLETIQITISSFKWDLTAFGLVAEWFLAYILFTRFFYVLGLAAIMQLFFSYFAVHFISNSWLMWLIINLVQMAPISAMVRMYIFFASFYYVWKSYVHVVDGCNSSTCMMCYKRNRATRVECTTIVNGVRRSFYVYANGGKGFCKLHNWNCVNCDTFCAGSTFISDEVARDLSLQFKRPINPTDQSSYIVDSVTVKNGSIHLYFDKAGQKTYERHSLSHFVNLDNLRANNTKGSLPINVIVFDGKSKCEESSAKSASVYYSQLMCQPILLLDQALVSDVGDSAEVAVKMFDAYVNTFSSTFNVPMEKLKTLVATAEAELAKNVSLDNVLSTFISAARQGFVDSDVETKDVVECLKLSHQSDIEVTGDSCNNYMLTYNKVENMTPRDLGACIDCSARHINAQVAKSHNIALIWNVKDFMSLSEQLRKQIRSAAKKNNLPFKLTCATTRQVVNVVTTKIALKGGKIVNNWLKQLIKVTLVFLFVAAIFYLITPVHVMSKHTDFSSEIIGYKAIDGGVTRDIASTDTCFANKHADFDTWFSQRGGSYTNDKACPLIAAVITREVGFVVPGLPGTILRTTNGDFLHFLPRVFSAVGNICYTPSKLIEYTDFATSACVLAAECTIFKDASGKPVPYCYDTNVLEGSVAYESLRPDTRYVLMDGSIIQFPNTYLEGSVRVVTTFDSEYCRHGTCERSEAGVCVSTSGRWVLNNDYYRSLPGVFCGVDAVNLLTNMFTPLIQPIGALDISASIVAGGIVAIVVTCLAYYFMRFRRAFGEYSHVVAFNTLLFLMSFTVLCLTPVYSFLPGVYSVIYLYLTFYLTNDVSFLAHIQWMVMFTPLVPFWITIAYIICISTKHFYWFFSNYLKRRVVFNGVSFSTFEEAALCTFLLNKEMYLKLRSDVLLPLTQYNRYLALYNKYKYFSGAMDTTSYREAACCHLAKALNDFSNSGSDVLYQPPQTSITSAVLQSGFRKMAFPSGKVEGCMVQVTCGTTTLNGLWLDDVVYCPRHVICTSEDMLNPNYEDLLIRKSNHNFLVQAGNVQLRVIGHSMQNCVLKLKVDTANPKTPKYKFVRIQPGQTFSVLACYNGSPSGVYQCAMRPNFTIKGSFLNGSCGSVGFNIDYDCVSFCYMHHMELPTGVHAGTDLEGNFYGPFVDRQTAQAAGTDTTITVNVLAWLYAAVINGDRWFLNRFTTTLNDFNLVAMKYNYEPLTQDHVDILGPLSAQTGIAVLDMCASLKELLQNGMNGRTILGSALLEDEFTPFDVVRQCSGVTFQSAVKRTIKGTHHWLLLTILTSLLVLVQSTQWSLFFFLYENAFLPFAMGIIAMSAFAMMFVKHKHAFLCLFLLPSLATVAYFNMVYMPASWVMRIMTWLDMVDTSLSGFKLKDCVMYASAVVLLILMTARTVYDDGARRVWTLMNVLTLVYKVYYGNALDQAISMWALIISVTSNYSGVVTTVMFLARGIVFMCVEYCPIFFITGNTLQCIMLVYCFLGYFCTCYFGLFCLLNRYFRLTLGVYDYLVSTQEFRYMNSQGLLPPKNSIDAFKLNIKLLGVGGKPCIKVATVQSKMSDVKCTSVVLLSVLQQLRVESSSKLWAQCVQLHNDILLAKDTTEAFEKMVSLLSVLLSMQGAVDINKLCEEMLDNRATLQAIASEFSSLPSYAAFATAQEAYEQAVANGDSEVVLKKLKKSLNVAKSEFDRDAAMQRKLEKMADQAMTQMYKQARSEDKRAKVTSAMQTMLFTMLRKLDNDALNNIINNARDGCVPLNIIPLTTAAKLMVVIPDYNTYKNTCDGTTFTYASALWEIQQVVDADSKIVQLSEISMDNSPNLAWPLIVTALRANSAVKLQNNELSPVALRQMSCAAGTTQTACTDDNALAYYNTTKGGRFVLALLSDLQDLKWARFPKSDGTGTIYTELEPPCRFVTDTPKGPKVKYLYFIKGLNNLNRGMVLGSLAATVRLQAGNATEVPANSTVLSFCAFAVDAAKAYKDYLASGGQPITNCVKMLCTHTGTGQAITVTPEANMDQESFGGASCCLYCRCHIDHPNPKGFCDLKGKYVQIPTTCANDPVGFTLKNTVCTVCGMWKGYGCSCDQLREPMLQSADAQSFLNRVCGVSAARLTPCGTGTSTDVVYRAFDIYNDKVAGFAKFLKTNCCRFQEKDEDDNLIDSYFVVKRHTFSNYQHEETIYNLLKDCPAVAKHDFFKFRIDGDMVPHISRQRLTKYTMADLVYALRHFDEGNCDTLKEILVTYNCCDDDYFNKKDWYDFVENPDILRVYANLGERVRQALLKTVQFCDAMRNAGIVGVLTLDNQDLNGNWYDFGDFIQTTPGSGVPVVDSYYSLLMPILTLTRALTAESHVDTDLTKPYIKWDLLKYDFTEERLKLFDRYFKYWDQTYHPNCVNCLDDRCILHCANFNVLFSTVFPPTSFGPLVRKIFVDGVPFVVSTGYHFRELGVVHNQDVNLHSSRLSFKELLVYAADPAMHAASGNLLLDKRTTCFSVAALTNNVAFQTVKPGNFNKDFYDFAVSKGFFKEGSSVELKHFFFAQDGNAAISDYDYYRYNLPTMCDIRQLLFVVEVVDKYFDCYDGGCINANQVIVNNLDKSAGFPFNKWGKARLYYDSMSYEDQDALFAYTKRNVIPTITQMNLKYAISAKNRARTVAGVSICSTMTNRQFHQKLLKSIAATRGATVVIGTSKFYGGWHNMLKTVYSDVENPHLMGWDYPKCDRAMPNMLRIMASLVLARKHTTCCSLSHRFYRLANECAQVLSEMVMCGGSLYVKPGGTSSGDATTAYANSVFNICQAVTANVNALLSTDGNKIADKYVRNLQHRLYECLYRNRDVDTDFVNEFYAYLRKHFSMMILSDDAVVCFNSTYASQGLVASIKNFKSVLYYQNNVFMSEAKCWTETDLTKGPHEFCSQHTMLVKQGDDYVYLPYPDPSRILGAGCFVDDIVKTDGTLMIERFVSLAIDAYPLTKHPNQEYADVFHLYLQYIRKLHDELTGHMLDMYSVMLTNDNTSRYWEPEFYEAMYTPHTVLQAVGACVLCNSQTSLRCGACIRRPFLCCKCCYDHVISTSHKLVLSVNPYVCNAPGCDVTDVTQLYLGGMSYYCKSHKPPISFPLCANGQVFGLYKNTCVGSDNVTDFNAIATCDWTNAGDYILANTCTERLKLFAAETLKATEETFKLSYGIATVREVLSDRELHLSWEVGKPRPPLNRNYVFTGYRVTKNSKVQIGEYTFEKGDYGDAVVYRGTTTYKLNVGDYFVLTSHTVMPLSAPTLVPQEHYVRITGLYPTLNISDEFSSNVANYQKVGMQKYSTLQGPPGTGKSHFAIGLALYYPSARIVYTACSHAAVDALCEKALKYLPIDKCSRIIPARARVECFDKFKVNSTLEQYVFCTVNALPETTADIVVFDEISMATNYDLSVVNARLRAKHYVYIGDPAQLPAPRTLLTKGTLEPEYFNSVCRLMKTIGPDMFLGTCRRCPAEIVDTVSALVYDNKLKAHKDKSAQCFKMFYKGVITHDVSSAINRPQIGVVREFLTRNPAWRKAVFISPYNSQNAVASKILGLPTQTVDSSQGSEYDYVIFTQTTETAHSCNVNRFNVAITRAKVGILCIMSDRDLYDKLQFTSLEIPRRNVATLQAENVTGLFKDCSKVITGLHPTQAPTHLSVDTKFKTEGLCVDIPGIPKDMTYRRLISMMGFKMNYQVNGYPNMFITREEAIRHVRAWIGFDVEGCHATREAVGTNLPLQLGFSTGVNLVAVPTGYVDTPNNTDFSRVSAKPPPGDQFKHLIPLMYKGLPWNVVRIKIVQMLSDTLKNLSDRVVFVLWAHGFELTSMKYFVKIGPERTCCLCDRRATCFSTASDTYACWHHSIGFDYVYNPFMIDVQQWGFTGNLQSNHDLYCQVHGNAHVASCDAIMTRCLAVHECFVKRVDWTIEYPIIGDELKINAACRKVQHMVVKAALLADKFPVLHDIGNPKAIKCVPQADVEWKFYDAQPCSDKAYKIEELFYSYATHSDKFTDGVCLFWNCNVDRYPANSIVCRFDTRVLSNLNLPGCDGGSLYVNKHAFHTPAFDKSAFVNLKQLPFFYYSDSPCESHGKQVVSDIDYVPLKSATCITRCNLGGAVCRHHANEYRLYLDAYNMMISAGFSLWVYKQFDTYNLWNTFTRLQSLENVAFNVVNKGHFDGQQGEVPVSIINNTVYTKVDGVDVELFENKTTLPVNVAFELWAKRNIKPVPEVKILNNLGVDIAANTVIWDYKRDAPAHISTIGVCSMTDIAKKPTETICAPLTVFFDGRVDGQVDLFRNARNGVLITEGSVKGLQPSVGPKQASLNGVTLIGEAVKTQFNYYKKVDGVVQQLPETYFTQSRNLQEFKPRSQMEIDFLELAMDEFIERYKLEGYAFEHIVYGDFSHSQLGGLHLLIGLAKRFKESPFELEDFIPMDSTVKNYFITDAQTGSSKCVCSVIDLLLDDFVEIIKSQDLSVVSKVVKVTIDYTEISFMLWCKDGHVETFYPKLQSSQAWQPGVAMPNLYKMQRMLLEKCDLQNYGDSATLPKGIMMNVAKYTQLCQYLNTLTLAVPYNMRVIHFGAGSDKGVAPGTAVLRQWLPTGTLLVDSDLNDFVSDADSTLIGDCATVHTANKWDLIISDMYDPKTKNVTKENDSKEGFFTYICGFIQQKLALGGSVAIKITEHSWNADLYKLMGHFAWWTAFVTNVNASSSEAFLIGCNYLGKPREQIDGYVMHANYIFWRNTNPIQLSSYSLFDMSKFPLKLRGTAVMSLKEGQINDMILSLLSKGRLIIRENNRVVISSDVLVNN']}\n",
      "Feature Type: gene\n",
      "Location: [21562:25384](+)\n",
      "Qualifiers: {'gene': ['S']}\n",
      "Feature Type: CDS\n",
      "Location: [21562:25384](+)\n",
      "Qualifiers: {'gene': ['S'], 'note': ['structural protein'], 'codon_start': ['1'], 'product': ['surface glycoprotein'], 'protein_id': ['QHD43416.1'], 'translation': ['MFVFLVLLPLVSSQCVNLTTRTQLPPAYTNSFTRGVYYPDKVFRSSVLHSTQDLFLPFFSNVTWFHAIHVSGTNGTKRFDNPVLPFNDGVYFASTEKSNIIRGWIFGTTLDSKTQSLLIVNNATNVVIKVCEFQFCNDPFLGVYYHKNNKSWMESEFRVYSSANNCTFEYVSQPFLMDLEGKQGNFKNLREFVFKNIDGYFKIYSKHTPINLVRDLPQGFSALEPLVDLPIGINITRFQTLLALHRSYLTPGDSSSGWTAGAAAYYVGYLQPRTFLLKYNENGTITDAVDCALDPLSETKCTLKSFTVEKGIYQTSNFRVQPTESIVRFPNITNLCPFGEVFNATRFASVYAWNRKRISNCVADYSVLYNSASFSTFKCYGVSPTKLNDLCFTNVYADSFVIRGDEVRQIAPGQTGKIADYNYKLPDDFTGCVIAWNSNNLDSKVGGNYNYLYRLFRKSNLKPFERDISTEIYQAGSTPCNGVEGFNCYFPLQSYGFQPTNGVGYQPYRVVVLSFELLHAPATVCGPKKSTNLVKNKCVNFNFNGLTGTGVLTESNKKFLPFQQFGRDIADTTDAVRDPQTLEILDITPCSFGGVSVITPGTNTSNQVAVLYQDVNCTEVPVAIHADQLTPTWRVYSTGSNVFQTRAGCLIGAEHVNNSYECDIPIGAGICASYQTQTNSPRRARSVASQSIIAYTMSLGAENSVAYSNNSIAIPTNFTISVTTEILPVSMTKTSVDCTMYICGDSTECSNLLLQYGSFCTQLNRALTGIAVEQDKNTQEVFAQVKQIYKTPPIKDFGGFNFSQILPDPSKPSKRSFIEDLLFNKVTLADAGFIKQYGDCLGDIAARDLICAQKFNGLTVLPPLLTDEMIAQYTSALLAGTITSGWTFGAGAALQIPFAMQMAYRFNGIGVTQNVLYENQKLIANQFNSAIGKIQDSLSSTASALGKLQDVVNQNAQALNTLVKQLSSNFGAISSVLNDILSRLDKVEAEVQIDRLITGRLQSLQTYVTQQLIRAAEIRASANLAATKMSECVLGQSKRVDFCGKGYHLMSFPQSAPHGVVFLHVTYVPAQEKNFTTAPAICHDGKAHFPREGVFVSNGTHWFVTQRNFYEPQIITTDNTFVSGNCDVVIGIVNNTVYDPLQPELDSFKEELDKYFKNHTSPDVDLGDISGINASVVNIQKEIDRLNEVAKNLNESLIDLQELGKYEQYIKWPWYIWLGFIAGLIAIVMVTIMLCCMTSCCSCLKGCCSCGSCCKFDEDDSEPVLKGVKLHYT']}\n",
      "Feature Type: gene\n",
      "Location: [25392:26220](+)\n",
      "Qualifiers: {'gene': ['ORF3a']}\n",
      "Feature Type: CDS\n",
      "Location: [25392:26220](+)\n",
      "Qualifiers: {'gene': ['ORF3a'], 'codon_start': ['1'], 'product': ['ORF3a protein'], 'protein_id': ['QHD43417.1'], 'translation': ['MDLFMRIFTIGTVTLKQGEIKDATPSDFVRATATIPIQASLPFGWLIVGVALLAVFQSASKIITLKKRWQLALSKGVHFVCNLLLLFVTVYSHLLLVAAGLEAPFLYLYALVYFLQSINFVRIIMRLWLCWKCRSKNPLLYDANYFLCWHTNCYDYCIPYNSVTSSIVITSGDGTTSPISEHDYQIGGYTEKWESGVKDCVVLHSYFTSDYYQLYSTQLSTDTGVEHVTFFIYNKIVDEPEEHVQIHTIDGSSGVVNPVMEPIYDEPTTTTSVPL']}\n",
      "Feature Type: gene\n",
      "Location: [26244:26472](+)\n",
      "Qualifiers: {'gene': ['E']}\n",
      "Feature Type: CDS\n",
      "Location: [26244:26472](+)\n",
      "Qualifiers: {'gene': ['E'], 'note': ['structural protein; E protein'], 'codon_start': ['1'], 'product': ['envelope protein'], 'protein_id': ['QHD43418.1'], 'translation': ['MYSFVSEETGTLIVNSVLLFLAFVVFLLVTLAILTALRLCAYCCNIVNVSLVKPSFYVYSRVKNLNSSRVPDLLV']}\n",
      "Feature Type: gene\n",
      "Location: [26522:27191](+)\n",
      "Qualifiers: {'gene': ['M']}\n",
      "Feature Type: CDS\n",
      "Location: [26522:27191](+)\n",
      "Qualifiers: {'gene': ['M'], 'note': ['structural protein'], 'codon_start': ['1'], 'product': ['membrane glycoprotein'], 'protein_id': ['QHD43419.1'], 'translation': ['MADSNGTITVEELKKLLEQWNLVIGFLFLTWICLLQFAYANRNRFLYIIKLIFLWLLWPVTLACFVLAAVYRINWITGGIAIAMACLVGLMWLSYFIASFRLFARTRSMWSFNPETNILLNVPLHGTILTRPLLESELVIGAVILRGHLRIAGHHLGRCDIKDLPKEITVATSRTLSYYKLGASQRVAGDSGFAAYSRYRIGNYKLNTDHSSSSDNIALLVQ']}\n",
      "Feature Type: gene\n",
      "Location: [27201:27387](+)\n",
      "Qualifiers: {'gene': ['ORF6']}\n",
      "Feature Type: CDS\n",
      "Location: [27201:27387](+)\n",
      "Qualifiers: {'gene': ['ORF6'], 'codon_start': ['1'], 'product': ['ORF6 protein'], 'protein_id': ['QHD43420.1'], 'translation': ['MFHLVDFQVTIAEILLIIMRTFKVSIWNLDYIINLIIKNLSKSLTENKYSQLDEEQPMEID']}\n",
      "Feature Type: gene\n",
      "Location: [27393:27759](+)\n",
      "Qualifiers: {'gene': ['ORF7a']}\n",
      "Feature Type: CDS\n",
      "Location: [27393:27759](+)\n",
      "Qualifiers: {'gene': ['ORF7a'], 'codon_start': ['1'], 'product': ['ORF7a protein'], 'protein_id': ['QHD43421.1'], 'translation': ['MKIILFLALITLATCELYHYQECVRGTTVLLKEPCSSGTYEGNSPFHPLADNKFALTCFSTQFAFACPDGVKHVYQLRARSVSPKLFIRQEEVQELYSPIFLIVAAIVFITLCFTLKRKTE']}\n",
      "Feature Type: gene\n",
      "Location: [27893:28259](+)\n",
      "Qualifiers: {'gene': ['ORF8']}\n",
      "Feature Type: CDS\n",
      "Location: [27893:28259](+)\n",
      "Qualifiers: {'gene': ['ORF8'], 'codon_start': ['1'], 'product': ['ORF8 protein'], 'protein_id': ['QHD43422.1'], 'translation': ['MKFLVFLGIITTVAAFHQECSLQSCTQHQPYVVDDPCPIHFYSKWYIRVGARKSAPLIELCVDEAGSKSPIQYIDIGNYTVSCLPFTINCQEPKLGSLVVRCSFYEDFLEYHDVRVVLDFI']}\n",
      "Feature Type: gene\n",
      "Location: [28273:29533](+)\n",
      "Qualifiers: {'gene': ['N']}\n",
      "Feature Type: CDS\n",
      "Location: [28273:29533](+)\n",
      "Qualifiers: {'gene': ['N'], 'note': ['structural protein'], 'codon_start': ['1'], 'product': ['nucleocapsid phosphoprotein'], 'protein_id': ['QHD43423.2'], 'translation': ['MSDNGPQNQRNAPRITFGGPSDSTGSNQNGERSGARSKQRRPQGLPNNTASWFTALTQHGKEDLKFPRGQGVPINTNSSPDDQIGYYRRATRRIRGGDGKMKDLSPRWYFYYLGTGPEAGLPYGANKDGIIWVATEGALNTPKDHIGTRNPANNAAIVLQLPQGTTLPKGFYAEGSRGGSQASSRSSSRSRNSSRNSTPGSSRGTSPARMAGNGGDAALALLLLDRLNQLESKMSGKGQQQQGQTVTKKSAAEASKKPRQKRTATKAYNVTQAFGRRGPEQTQGNFGDQELIRQGTDYKHWPQIAQFAPSASAFFGMSRIGMEVTPSGTWLTYTGAIKLDDKDPNFKDQVILLNKHIDAYKTFPPTEPKKDKKKKADETQALPQRQKKQQTVTLLPAADLDDFSKQLQQSMSSADSTQA']}\n",
      "Feature Type: gene\n",
      "Location: [29557:29674](+)\n",
      "Qualifiers: {'gene': ['ORF10']}\n",
      "Feature Type: CDS\n",
      "Location: [29557:29674](+)\n",
      "Qualifiers: {'gene': ['ORF10'], 'codon_start': ['1'], 'product': ['ORF10 protein'], 'protein_id': ['QHI42199.1'], 'translation': ['MGYINVFAFPFTIYSLLLCRMNSRNYIAQVDVVNFNLT']}\n",
      "Feature Type: 3'UTR\n",
      "Location: [29674:29903](+)\n",
      "Qualifiers: {}\n"
     ]
    }
   ],
   "source": [
    "# Now that the file is saved, you can re-open it to get the information.\n",
    "def extract_features(genbank_file):\n",
    "    extractRecord = []\n",
    "    for record in SeqIO.parse(genbank_file, 'genbank'):\n",
    "        print(f\"ID: {record.id}\")\n",
    "        for feature in record.features:\n",
    "            print(f\"Feature Type: {feature.type}\")\n",
    "            print(f\"Location: {feature.location}\")\n",
    "            print(f\"Qualifiers: {feature.qualifiers}\")\n",
    "        extractRecord.append(record)\n",
    "    return extractRecord\n",
    "\n",
    "extractedRecord = extract_features(output_file)"
   ]
  },
  {
   "cell_type": "code",
   "execution_count": 12,
   "id": "d903122b",
   "metadata": {},
   "outputs": [
    {
     "name": "stdout",
     "output_type": "stream",
     "text": [
      "Types of features: {'source', 'CDS', \"5'UTR\", \"3'UTR\", 'gene'}\n"
     ]
    }
   ],
   "source": [
    "# Let's see what kinds of features there are in the data set\n",
    "featureTypes = set([feature.type for feature in extractedRecord[0].features])\n",
    "print(f'Types of features: {featureTypes}')"
   ]
  },
  {
   "cell_type": "code",
   "execution_count": 13,
   "id": "626bc39c",
   "metadata": {},
   "outputs": [
    {
     "name": "stdout",
     "output_type": "stream",
     "text": [
      "CDS Feature 3: dict_keys(['gene', 'ribosomal_slippage', 'note', 'codon_start', 'product', 'protein_id', 'translation'])\n",
      "CDS Feature 5: dict_keys(['gene', 'note', 'codon_start', 'product', 'protein_id', 'translation'])\n",
      "CDS Feature 7: dict_keys(['gene', 'codon_start', 'product', 'protein_id', 'translation'])\n",
      "CDS Feature 9: dict_keys(['gene', 'note', 'codon_start', 'product', 'protein_id', 'translation'])\n",
      "CDS Feature 11: dict_keys(['gene', 'note', 'codon_start', 'product', 'protein_id', 'translation'])\n",
      "CDS Feature 13: dict_keys(['gene', 'codon_start', 'product', 'protein_id', 'translation'])\n",
      "CDS Feature 15: dict_keys(['gene', 'codon_start', 'product', 'protein_id', 'translation'])\n",
      "CDS Feature 17: dict_keys(['gene', 'codon_start', 'product', 'protein_id', 'translation'])\n",
      "CDS Feature 19: dict_keys(['gene', 'note', 'codon_start', 'product', 'protein_id', 'translation'])\n",
      "CDS Feature 21: dict_keys(['gene', 'codon_start', 'product', 'protein_id', 'translation'])\n"
     ]
    }
   ],
   "source": [
    "# Let's focus on coding sequences (CDS) and see what information is available\n",
    "for i, feature in enumerate(extractedRecord[0].features):\n",
    "    if feature.type == 'CDS':\n",
    "        print(f\"CDS Feature {i}: {feature.qualifiers.keys()}\")"
   ]
  },
  {
   "cell_type": "code",
   "execution_count": 14,
   "id": "4b4ffd82",
   "metadata": {},
   "outputs": [
    {
     "name": "stdout",
     "output_type": "stream",
     "text": [
      "gene: ['S']\n",
      "note: ['structural protein']\n",
      "codon_start: ['1']\n",
      "product: ['surface glycoprotein']\n",
      "protein_id: ['QHD43416.1']\n",
      "translation: ['MFVFLVLLPLVSSQCVNLTTRTQLPPAYTNSFTRGVYYPDKVFRSSVLHSTQDLFLPFFSNVTWFHAIHVSGTNGTKRFDNPVLPFNDGVYFASTEKSNIIRGWIFGTTLDSKTQSLLIVNNATNVVIKVCEFQFCNDPFLGVYYHKNNKSWMESEFRVYSSANNCTFEYVSQPFLMDLEGKQGNFKNLREFVFKNIDGYFKIYSKHTPINLVRDLPQGFSALEPLVDLPIGINITRFQTLLALHRSYLTPGDSSSGWTAGAAAYYVGYLQPRTFLLKYNENGTITDAVDCALDPLSETKCTLKSFTVEKGIYQTSNFRVQPTESIVRFPNITNLCPFGEVFNATRFASVYAWNRKRISNCVADYSVLYNSASFSTFKCYGVSPTKLNDLCFTNVYADSFVIRGDEVRQIAPGQTGKIADYNYKLPDDFTGCVIAWNSNNLDSKVGGNYNYLYRLFRKSNLKPFERDISTEIYQAGSTPCNGVEGFNCYFPLQSYGFQPTNGVGYQPYRVVVLSFELLHAPATVCGPKKSTNLVKNKCVNFNFNGLTGTGVLTESNKKFLPFQQFGRDIADTTDAVRDPQTLEILDITPCSFGGVSVITPGTNTSNQVAVLYQDVNCTEVPVAIHADQLTPTWRVYSTGSNVFQTRAGCLIGAEHVNNSYECDIPIGAGICASYQTQTNSPRRARSVASQSIIAYTMSLGAENSVAYSNNSIAIPTNFTISVTTEILPVSMTKTSVDCTMYICGDSTECSNLLLQYGSFCTQLNRALTGIAVEQDKNTQEVFAQVKQIYKTPPIKDFGGFNFSQILPDPSKPSKRSFIEDLLFNKVTLADAGFIKQYGDCLGDIAARDLICAQKFNGLTVLPPLLTDEMIAQYTSALLAGTITSGWTFGAGAALQIPFAMQMAYRFNGIGVTQNVLYENQKLIANQFNSAIGKIQDSLSSTASALGKLQDVVNQNAQALNTLVKQLSSNFGAISSVLNDILSRLDKVEAEVQIDRLITGRLQSLQTYVTQQLIRAAEIRASANLAATKMSECVLGQSKRVDFCGKGYHLMSFPQSAPHGVVFLHVTYVPAQEKNFTTAPAICHDGKAHFPREGVFVSNGTHWFVTQRNFYEPQIITTDNTFVSGNCDVVIGIVNNTVYDPLQPELDSFKEELDKYFKNHTSPDVDLGDISGINASVVNIQKEIDRLNEVAKNLNESLIDLQELGKYEQYIKWPWYIWLGFIAGLIAIVMVTIMLCCMTSCCSCLKGCCSCGSCCKFDEDDSEPVLKGVKLHYT']\n"
     ]
    }
   ],
   "source": [
    "# Let's looks at the first CDS and see what each of these qualifiers are\n",
    "nFeature = 5\n",
    "for key, value in extractedRecord[0].features[nFeature].qualifiers.items():\n",
    "    print(f\"{key}: {value}\")"
   ]
  },
  {
   "cell_type": "code",
   "execution_count": 15,
   "id": "34921a62",
   "metadata": {},
   "outputs": [
    {
     "name": "stdout",
     "output_type": "stream",
     "text": [
      "gene: ['orf1ab']\n",
      "ribosomal_slippage: ['']\n",
      "note: ['pp1ab; translated by -1 ribosomal frameshift']\n",
      "codon_start: ['1']\n",
      "product: ['orf1ab polyprotein']\n",
      "protein_id: ['QHD43415.1']\n",
      "translation: ['MESLVPGFNEKTHVQLSLPVLQVRDVLVRGFGDSVEEVLSEARQHLKDGTCGLVEVEKGVLPQLEQPYVFIKRSDARTAPHGHVMVELVAELEGIQYGRSGETLGVLVPHVGEIPVAYRKVLLRKNGNKGAGGHSYGADLKSFDLGDELGTDPYEDFQENWNTKHSSGVTRELMRELNGGAYTRYVDNNFCGPDGYPLECIKDLLARAGKASCTLSEQLDFIDTKRGVYCCREHEHEIAWYTERSEKSYELQTPFEIKLAKKFDTFNGECPNFVFPLNSIIKTIQPRVEKKKLDGFMGRIRSVYPVASPNECNQMCLSTLMKCDHCGETSWQTGDFVKATCEFCGTENLTKEGATTCGYLPQNAVVKIYCPACHNSEVGPEHSLAEYHNESGLKTILRKGGRTIAFGGCVFSYVGCHNKCAYWVPRASANIGCNHTGVVGEGSEGLNDNLLEILQKEKVNINIVGDFKLNEEIAIILASFSASTSAFVETVKGLDYKAFKQIVESCGNFKVTKGKAKKGAWNIGEQKSILSPLYAFASEAARVVRSIFSRTLETAQNSVRVLQKAAITILDGISQYSLRLIDAMMFTSDLATNNLVVMAYITGGVVQLTSQWLTNIFGTVYEKLKPVLDWLEEKFKEGVEFLRDGWEIVKFISTCACEIVGGQIVTCAKEIKESVQTFFKLVNKFLALCADSIIIGGAKLKALNLGETFVTHSKGLYRKCVKSREETGLLMPLKAPKEIIFLEGETLPTEVLTEEVVLKTGDLQPLEQPTSEAVEAPLVGTPVCINGLMLLEIKDTEKYCALAPNMMVTNNTFTLKGGAPTKVTFGDDTVIEVQGYKSVNITFELDERIDKVLNEKCSAYTVELGTEVNEFACVVADAVIKTLQPVSELLTPLGIDLDEWSMATYYLFDESGEFKLASHMYCSFYPPDEDEEEGDCEEEEFEPSTQYEYGTEDDYQGKPLEFGATSAALQPEEEQEEDWLDDDSQQTVGQQDGSEDNQTTTIQTIVEVQPQLEMELTPVVQTIEVNSFSGYLKLTDNVYIKNADIVEEAKKVKPTVVVNAANVYLKHGGGVAGALNKATNNAMQVESDDYIATNGPLKVGGSCVLSGHNLAKHCLHVVGPNVNKGEDIQLLKSAYENFNQHEVLLAPLLSAGIFGADPIHSLRVCVDTVRTNVYLAVFDKNLYDKLVSSFLEMKSEKQVEQKIAEIPKEEVKPFITESKPSVEQRKQDDKKIKACVEEVTTTLEETKFLTENLLLYIDINGNLHPDSATLVSDIDITFLKKDAPYIVGDVVQEGVLTAVVIPTKKAGGTTEMLAKALRKVPTDNYITTYPGQGLNGYTVEEAKTVLKKCKSAFYILPSIISNEKQEILGTVSWNLREMLAHAEETRKLMPVCVETKAIVSTIQRKYKGIKIQEGVVDYGARFYFYTSKTTVASLINTLNDLNETLVTMPLGYVTHGLNLEEAARYMRSLKVPATVSVSSPDAVTAYNGYLTSSSKTPEEHFIETISLAGSYKDWSYSGQSTQLGIEFLKRGDKSVYYTSNPTTFHLDGEVITFDNLKTLLSLREVRTIKVFTTVDNINLHTQVVDMSMTYGQQFGPTYLDGADVTKIKPHNSHEGKTFYVLPNDDTLRVEAFEYYHTTDPSFLGRYMSALNHTKKWKYPQVNGLTSIKWADNNCYLATALLTLQQIELKFNPPALQDAYYRARAGEAANFCALILAYCNKTVGELGDVRETMSYLFQHANLDSCKRVLNVVCKTCGQQQTTLKGVEAVMYMGTLSYEQFKKGVQIPCTCGKQATKYLVQQESPFVMMSAPPAQYELKHGTFTCASEYTGNYQCGHYKHITSKETLYCIDGALLTKSSEYKGPITDVFYKENSYTTTIKPVTYKLDGVVCTEIDPKLDNYYKKDNSYFTEQPIDLVPNQPYPNASFDNFKFVCDNIKFADDLNQLTGYKKPASRELKVTFFPDLNGDVVAIDYKHYTPSFKKGAKLLHKPIVWHVNNATNKATYKPNTWCIRCLWSTKPVETSNSFDVLKSEDAQGMDNLACEDLKPVSEEVVENPTIQKDVLECNVKTTEVVGDIILKPANNSLKITEEVGHTDLMAAYVDNSSLTIKKPNELSRVLGLKTLATHGLAAVNSVPWDTIANYAKPFLNKVVSTTTNIVTRCLNRVCTNYMPYFFTLLLQLCTFTRSTNSRIKASMPTTIAKNTVKSVGKFCLEASFNYLKSPNFSKLINIIIWFLLLSVCLGSLIYSTAALGVLMSNLGMPSYCTGYREGYLNSTNVTIATYCTGSIPCSVCLSGLDSLDTYPSLETIQITISSFKWDLTAFGLVAEWFLAYILFTRFFYVLGLAAIMQLFFSYFAVHFISNSWLMWLIINLVQMAPISAMVRMYIFFASFYYVWKSYVHVVDGCNSSTCMMCYKRNRATRVECTTIVNGVRRSFYVYANGGKGFCKLHNWNCVNCDTFCAGSTFISDEVARDLSLQFKRPINPTDQSSYIVDSVTVKNGSIHLYFDKAGQKTYERHSLSHFVNLDNLRANNTKGSLPINVIVFDGKSKCEESSAKSASVYYSQLMCQPILLLDQALVSDVGDSAEVAVKMFDAYVNTFSSTFNVPMEKLKTLVATAEAELAKNVSLDNVLSTFISAARQGFVDSDVETKDVVECLKLSHQSDIEVTGDSCNNYMLTYNKVENMTPRDLGACIDCSARHINAQVAKSHNIALIWNVKDFMSLSEQLRKQIRSAAKKNNLPFKLTCATTRQVVNVVTTKIALKGGKIVNNWLKQLIKVTLVFLFVAAIFYLITPVHVMSKHTDFSSEIIGYKAIDGGVTRDIASTDTCFANKHADFDTWFSQRGGSYTNDKACPLIAAVITREVGFVVPGLPGTILRTTNGDFLHFLPRVFSAVGNICYTPSKLIEYTDFATSACVLAAECTIFKDASGKPVPYCYDTNVLEGSVAYESLRPDTRYVLMDGSIIQFPNTYLEGSVRVVTTFDSEYCRHGTCERSEAGVCVSTSGRWVLNNDYYRSLPGVFCGVDAVNLLTNMFTPLIQPIGALDISASIVAGGIVAIVVTCLAYYFMRFRRAFGEYSHVVAFNTLLFLMSFTVLCLTPVYSFLPGVYSVIYLYLTFYLTNDVSFLAHIQWMVMFTPLVPFWITIAYIICISTKHFYWFFSNYLKRRVVFNGVSFSTFEEAALCTFLLNKEMYLKLRSDVLLPLTQYNRYLALYNKYKYFSGAMDTTSYREAACCHLAKALNDFSNSGSDVLYQPPQTSITSAVLQSGFRKMAFPSGKVEGCMVQVTCGTTTLNGLWLDDVVYCPRHVICTSEDMLNPNYEDLLIRKSNHNFLVQAGNVQLRVIGHSMQNCVLKLKVDTANPKTPKYKFVRIQPGQTFSVLACYNGSPSGVYQCAMRPNFTIKGSFLNGSCGSVGFNIDYDCVSFCYMHHMELPTGVHAGTDLEGNFYGPFVDRQTAQAAGTDTTITVNVLAWLYAAVINGDRWFLNRFTTTLNDFNLVAMKYNYEPLTQDHVDILGPLSAQTGIAVLDMCASLKELLQNGMNGRTILGSALLEDEFTPFDVVRQCSGVTFQSAVKRTIKGTHHWLLLTILTSLLVLVQSTQWSLFFFLYENAFLPFAMGIIAMSAFAMMFVKHKHAFLCLFLLPSLATVAYFNMVYMPASWVMRIMTWLDMVDTSLSGFKLKDCVMYASAVVLLILMTARTVYDDGARRVWTLMNVLTLVYKVYYGNALDQAISMWALIISVTSNYSGVVTTVMFLARGIVFMCVEYCPIFFITGNTLQCIMLVYCFLGYFCTCYFGLFCLLNRYFRLTLGVYDYLVSTQEFRYMNSQGLLPPKNSIDAFKLNIKLLGVGGKPCIKVATVQSKMSDVKCTSVVLLSVLQQLRVESSSKLWAQCVQLHNDILLAKDTTEAFEKMVSLLSVLLSMQGAVDINKLCEEMLDNRATLQAIASEFSSLPSYAAFATAQEAYEQAVANGDSEVVLKKLKKSLNVAKSEFDRDAAMQRKLEKMADQAMTQMYKQARSEDKRAKVTSAMQTMLFTMLRKLDNDALNNIINNARDGCVPLNIIPLTTAAKLMVVIPDYNTYKNTCDGTTFTYASALWEIQQVVDADSKIVQLSEISMDNSPNLAWPLIVTALRANSAVKLQNNELSPVALRQMSCAAGTTQTACTDDNALAYYNTTKGGRFVLALLSDLQDLKWARFPKSDGTGTIYTELEPPCRFVTDTPKGPKVKYLYFIKGLNNLNRGMVLGSLAATVRLQAGNATEVPANSTVLSFCAFAVDAAKAYKDYLASGGQPITNCVKMLCTHTGTGQAITVTPEANMDQESFGGASCCLYCRCHIDHPNPKGFCDLKGKYVQIPTTCANDPVGFTLKNTVCTVCGMWKGYGCSCDQLREPMLQSADAQSFLNRVCGVSAARLTPCGTGTSTDVVYRAFDIYNDKVAGFAKFLKTNCCRFQEKDEDDNLIDSYFVVKRHTFSNYQHEETIYNLLKDCPAVAKHDFFKFRIDGDMVPHISRQRLTKYTMADLVYALRHFDEGNCDTLKEILVTYNCCDDDYFNKKDWYDFVENPDILRVYANLGERVRQALLKTVQFCDAMRNAGIVGVLTLDNQDLNGNWYDFGDFIQTTPGSGVPVVDSYYSLLMPILTLTRALTAESHVDTDLTKPYIKWDLLKYDFTEERLKLFDRYFKYWDQTYHPNCVNCLDDRCILHCANFNVLFSTVFPPTSFGPLVRKIFVDGVPFVVSTGYHFRELGVVHNQDVNLHSSRLSFKELLVYAADPAMHAASGNLLLDKRTTCFSVAALTNNVAFQTVKPGNFNKDFYDFAVSKGFFKEGSSVELKHFFFAQDGNAAISDYDYYRYNLPTMCDIRQLLFVVEVVDKYFDCYDGGCINANQVIVNNLDKSAGFPFNKWGKARLYYDSMSYEDQDALFAYTKRNVIPTITQMNLKYAISAKNRARTVAGVSICSTMTNRQFHQKLLKSIAATRGATVVIGTSKFYGGWHNMLKTVYSDVENPHLMGWDYPKCDRAMPNMLRIMASLVLARKHTTCCSLSHRFYRLANECAQVLSEMVMCGGSLYVKPGGTSSGDATTAYANSVFNICQAVTANVNALLSTDGNKIADKYVRNLQHRLYECLYRNRDVDTDFVNEFYAYLRKHFSMMILSDDAVVCFNSTYASQGLVASIKNFKSVLYYQNNVFMSEAKCWTETDLTKGPHEFCSQHTMLVKQGDDYVYLPYPDPSRILGAGCFVDDIVKTDGTLMIERFVSLAIDAYPLTKHPNQEYADVFHLYLQYIRKLHDELTGHMLDMYSVMLTNDNTSRYWEPEFYEAMYTPHTVLQAVGACVLCNSQTSLRCGACIRRPFLCCKCCYDHVISTSHKLVLSVNPYVCNAPGCDVTDVTQLYLGGMSYYCKSHKPPISFPLCANGQVFGLYKNTCVGSDNVTDFNAIATCDWTNAGDYILANTCTERLKLFAAETLKATEETFKLSYGIATVREVLSDRELHLSWEVGKPRPPLNRNYVFTGYRVTKNSKVQIGEYTFEKGDYGDAVVYRGTTTYKLNVGDYFVLTSHTVMPLSAPTLVPQEHYVRITGLYPTLNISDEFSSNVANYQKVGMQKYSTLQGPPGTGKSHFAIGLALYYPSARIVYTACSHAAVDALCEKALKYLPIDKCSRIIPARARVECFDKFKVNSTLEQYVFCTVNALPETTADIVVFDEISMATNYDLSVVNARLRAKHYVYIGDPAQLPAPRTLLTKGTLEPEYFNSVCRLMKTIGPDMFLGTCRRCPAEIVDTVSALVYDNKLKAHKDKSAQCFKMFYKGVITHDVSSAINRPQIGVVREFLTRNPAWRKAVFISPYNSQNAVASKILGLPTQTVDSSQGSEYDYVIFTQTTETAHSCNVNRFNVAITRAKVGILCIMSDRDLYDKLQFTSLEIPRRNVATLQAENVTGLFKDCSKVITGLHPTQAPTHLSVDTKFKTEGLCVDIPGIPKDMTYRRLISMMGFKMNYQVNGYPNMFITREEAIRHVRAWIGFDVEGCHATREAVGTNLPLQLGFSTGVNLVAVPTGYVDTPNNTDFSRVSAKPPPGDQFKHLIPLMYKGLPWNVVRIKIVQMLSDTLKNLSDRVVFVLWAHGFELTSMKYFVKIGPERTCCLCDRRATCFSTASDTYACWHHSIGFDYVYNPFMIDVQQWGFTGNLQSNHDLYCQVHGNAHVASCDAIMTRCLAVHECFVKRVDWTIEYPIIGDELKINAACRKVQHMVVKAALLADKFPVLHDIGNPKAIKCVPQADVEWKFYDAQPCSDKAYKIEELFYSYATHSDKFTDGVCLFWNCNVDRYPANSIVCRFDTRVLSNLNLPGCDGGSLYVNKHAFHTPAFDKSAFVNLKQLPFFYYSDSPCESHGKQVVSDIDYVPLKSATCITRCNLGGAVCRHHANEYRLYLDAYNMMISAGFSLWVYKQFDTYNLWNTFTRLQSLENVAFNVVNKGHFDGQQGEVPVSIINNTVYTKVDGVDVELFENKTTLPVNVAFELWAKRNIKPVPEVKILNNLGVDIAANTVIWDYKRDAPAHISTIGVCSMTDIAKKPTETICAPLTVFFDGRVDGQVDLFRNARNGVLITEGSVKGLQPSVGPKQASLNGVTLIGEAVKTQFNYYKKVDGVVQQLPETYFTQSRNLQEFKPRSQMEIDFLELAMDEFIERYKLEGYAFEHIVYGDFSHSQLGGLHLLIGLAKRFKESPFELEDFIPMDSTVKNYFITDAQTGSSKCVCSVIDLLLDDFVEIIKSQDLSVVSKVVKVTIDYTEISFMLWCKDGHVETFYPKLQSSQAWQPGVAMPNLYKMQRMLLEKCDLQNYGDSATLPKGIMMNVAKYTQLCQYLNTLTLAVPYNMRVIHFGAGSDKGVAPGTAVLRQWLPTGTLLVDSDLNDFVSDADSTLIGDCATVHTANKWDLIISDMYDPKTKNVTKENDSKEGFFTYICGFIQQKLALGGSVAIKITEHSWNADLYKLMGHFAWWTAFVTNVNASSSEAFLIGCNYLGKPREQIDGYVMHANYIFWRNTNPIQLSSYSLFDMSKFPLKLRGTAVMSLKEGQINDMILSLLSKGRLIIRENNRVVISSDVLVNN']\n",
      "Start: 265\n",
      "Stop: 21555\n",
      "Nt Length: 21291\n",
      "Frame: 1\n"
     ]
    }
   ],
   "source": [
    "# Let's also add the start site, stop site, lengths, and frame of the coding regions to our information:\n",
    "nFeature = 3\n",
    "for key, value in extractedRecord[0].features[nFeature].qualifiers.items():\n",
    "    print(f\"{key}: {value}\")\n",
    "print(f\"Start: {extractedRecord[0].features[nFeature].location.start}\")\n",
    "print(f\"Stop: {extractedRecord[0].features[nFeature].location.end}\")\n",
    "print(f\"Nt Length: {len(extractedRecord[0].features[nFeature].location)}\")\n",
    "print(f\"Frame: {extractedRecord[0].features[nFeature].location.strand}\")"
   ]
  },
  {
   "cell_type": "markdown",
   "id": "fff13358",
   "metadata": {},
   "source": [
    "## **2.6) Getting more information online**"
   ]
  },
  {
   "cell_type": "code",
   "execution_count": 16,
   "id": "32b8b8f8",
   "metadata": {},
   "outputs": [
    {
     "data": {
      "text/plain": [
       "True"
      ]
     },
     "execution_count": 16,
     "metadata": {},
     "output_type": "execute_result"
    }
   ],
   "source": [
    "# Let's get more information by going directly to the sequence entry on NCBI.\n",
    "sequence_link = 'https://www.ncbi.nlm.nih.gov/nuccore/' + corona_virus.annotations['accessions'][0]\n",
    "webbrowser.open_new(sequence_link)"
   ]
  },
  {
   "cell_type": "code",
   "execution_count": null,
   "id": "059434a6",
   "metadata": {},
   "outputs": [],
   "source": []
  },
  {
   "cell_type": "code",
   "execution_count": 17,
   "id": "e5e19912",
   "metadata": {},
   "outputs": [
    {
     "name": "stdout",
     "output_type": "stream",
     "text": [
      "32015508\n"
     ]
    }
   ],
   "source": [
    "# We can get even more information about the sequence by looking \n",
    "# at the original paper that described this sequence.  For this, \n",
    "# we will first need the PUBMED ID number:\n",
    "print(corona_virus.annotations['references'][0].pubmed_id)\n"
   ]
  },
  {
   "cell_type": "code",
   "execution_count": 18,
   "id": "469d5888",
   "metadata": {},
   "outputs": [
    {
     "data": {
      "text/plain": [
       "True"
      ]
     },
     "execution_count": 18,
     "metadata": {},
     "output_type": "execute_result"
    }
   ],
   "source": [
    "\n",
    "# With that we can launch a browser and find the article:\n",
    "pubmed_link = 'https://www.ncbi.nlm.nih.gov/pubmed/' + corona_virus.annotations['references'][0].pubmed_id\n",
    "webbrowser.open_new(pubmed_link)"
   ]
  },
  {
   "cell_type": "markdown",
   "id": "054d90bc",
   "metadata": {},
   "source": [
    "## **3) Simple analyses of the genomic sequence**\n",
    "\n",
    "Now that we have the sequence data, let's do some simple analyses of the sequence:\n",
    "1. Find the length of the sequence\n",
    "2. Find the number of each nucleotide, dimer, trimer in the sequence\n",
    "3. Find the number of each codon in the sequence\n",
    "4. Find the number of open reading frames in the sequence\n",
    "5. Find the largest open reading frame in the sequence\n",
    "6. Translate the sequence into a protein sequence\n",
    "\n",
    "## **3.1) Find the length, number of nucleotides, dimers, and trimers in the sequence**"
   ]
  },
  {
   "cell_type": "code",
   "execution_count": null,
   "id": "f870242b",
   "metadata": {},
   "outputs": [],
   "source": [
    "# Find the length of the sequence\n",
    "covidLength = len(corona_virus.seq)  # Find the length of the sequence.\n",
    "print(f'The length of the COVID19 sequence is {covidLength} nucleotides.')"
   ]
  },
  {
   "cell_type": "code",
   "execution_count": null,
   "id": "bfbe4f1b",
   "metadata": {},
   "outputs": [],
   "source": [
    "# Let's make a pie chart of the number of each nucleotide:\n",
    "\n",
    "seq = str(corona_virus.seq)\n",
    "neucleotides = 'ATGC'\n",
    "counts = []\n",
    "for i in range(4):\n",
    "    counts.append(seq.count(neucleotides[i]))\n",
    "\n",
    "plt.figure(figsize=(2.5, 2.5), dpi=200)\n",
    "plt.pie(counts, labels=neucleotides, autopct='%1.1f%%')\n",
    "plt.title('Nucleotide Counts')\n",
    "plt.show()"
   ]
  },
  {
   "cell_type": "code",
   "execution_count": null,
   "id": "b778ffcb",
   "metadata": {},
   "outputs": [],
   "source": [
    "# Let's do the same thing, but fnow make a bar chart for the dimers\n",
    "neucleotides = 'ATGC'\n",
    "labels = []\n",
    "dimerDict = {}\n",
    "for i in range(4):\n",
    "    for j in range(4):\n",
    "        labels.append(neucleotides[i]+neucleotides[j])\n",
    "        dimerDict[neucleotides[i]+neucleotides[j]] = 0\n",
    "for i in range(len(corona_virus.seq)-1):\n",
    "    dimerDict[corona_virus.seq[i:i+2]] += 1\n",
    "\n",
    "# Check that the sum is correct\n",
    "print(f'the sum of the dimers is = {sum([dimerDict[i] for i in dimerDict])}')\n",
    "print(f'the length - 1 of the sequence is = {len(corona_virus.seq)-1}')  \n",
    "\n",
    "plt.figure(figsize=(5, 2.5), dpi=200)\n",
    "plt.bar(labels, [dimerDict[i] for i in dimerDict])\n",
    "plt.xticks(rotation=90)\n",
    "plt.title('Dimer Counts')\n",
    "plt.show()\n"
   ]
  },
  {
   "cell_type": "code",
   "execution_count": null,
   "id": "b1772b1f",
   "metadata": {},
   "outputs": [],
   "source": [
    "# Now let's do the same for codons (i.e., triplets of nucleotides)\n",
    "neucleotides = 'ATGC'\n",
    "labels = []\n",
    "codonDict = {}\n",
    "for i in range(4):\n",
    "    for j in range(4):\n",
    "        for k in range(4):\n",
    "            labels.append(neucleotides[i]+neucleotides[j]+neucleotides[k])\n",
    "            codonDict[neucleotides[i]+neucleotides[j]+neucleotides[k]] = 0\n",
    "for i in range(len(corona_virus.seq)-2):\n",
    "    codonDict[corona_virus.seq[i:i+3]] += 1\n",
    "\n",
    "# Check that the sum is correct\n",
    "print(f'the sum of the codons is = {sum([codonDict[i] for i in codonDict])}')\n",
    "print(f'the length - 2 of the sequence is = {len(corona_virus.seq)-2}')\n",
    "\n",
    "plt.figure(figsize=(10, 2.5), dpi=200)\n",
    "plt.bar(labels, [codonDict[i] for i in codonDict])\n",
    "plt.xticks(rotation=90)\n",
    "plt.title('Codon Counts')\n",
    "plt.show()\n"
   ]
  },
  {
   "cell_type": "markdown",
   "id": "ae6727d8-27ca-47be-aa51-45a9cd68736c",
   "metadata": {},
   "source": [
    "### **3.2) Visualizing open reading frames in the sequence**\n",
    "\n",
    "An **open reading frame** (ORF) is a sequence of DNA that can be translated into a protein. All proteins are made up of amino acids, and each amino acid is coded for by a sequence of three nucleotides in the DNA. An ORF is a sequence of DNA that starts with a **start codon** (ATG) and ends with a **stop codon** (TAA, TAG, or TGA).  \n",
    "\n",
    "Because codons are three nucleotides long, there are three possible reading frames in a DNA sequence: the first reading frame starts at the first nucleotide, the second reading frame starts at the second nucleotide, and the third reading frame starts at the third nucleotide.  It is helpful to separate ORFs into these three reading frames to help identify potential protein-coding sequences.\n",
    "\n",
    "In the next cell, we examine a sequence to find what its sequence would translate to in amino acids, and then we plot all of the open reading frames (ORFs) in each frame."
   ]
  },
  {
   "cell_type": "code",
   "execution_count": null,
   "id": "799b92f3-ef6f-4336-9d64-f0ae33df4f91",
   "metadata": {
    "tags": []
   },
   "outputs": [],
   "source": [
    "# Print the AA sequence that would be coded in a given frame\n",
    "frame = 0\n",
    "AA_frame = corona_virus[frame:].translate(to_stop=False)\n",
    "print(AA_frame.seq[1:1000])"
   ]
  },
  {
   "cell_type": "markdown",
   "id": "3f469613",
   "metadata": {},
   "source": [
    "Note that the sequence is read in the 5' to 3' direction, so the first reading frame starts at the first nucleotide, the second reading frame starts at the second nucleotide, and the third reading frame starts at the third nucleotide.\n",
    "\n",
    "Let's write a function that will search the amino acid sequence for the start and stop codons and return the open reading frames."
   ]
  },
  {
   "cell_type": "code",
   "execution_count": 23,
   "id": "a0e43cf7-1839-4f9e-984e-ae45ec632be2",
   "metadata": {
    "tags": []
   },
   "outputs": [],
   "source": [
    "# Now, let's make a plot of the open reading frames to show where they are on the sequence.\n",
    "# Function to find ORFs in all frames of a sequence\n",
    "def find_all_orfs(sequence):\n",
    "    '''Find all open reading frames in all three reading frames of a sequence\n",
    "\n",
    "    Inputs: \n",
    "        sequence (Bio.Seq) - The sequence to search for ORFs\n",
    "    Output: \n",
    "        orf_list (list) - A list of lists of tuples. Each list of tuples contains the start \n",
    "        and stop positions of ORFs in a given frame.\n",
    "    '''\n",
    "\n",
    "    orf_list = []           # List of all the ORF we find\n",
    "    for frame in range(3):  # Check each of the three reading frames\n",
    "        orfs = []           # List of ORFs for the current frame   \n",
    "        lastStop = frame    # Position of last stop codon.\n",
    "        for orf in sequence[frame:].translate(to_stop=False).split('*'):     # Translate the curent frame sequence into AA and break up by stop codons\n",
    "            if len(orf) > 30:                                                # Consider ORFs longer than 50 amino acids\n",
    "                start = lastStop + orf.find('M') * 3 if 'M' in orf else None # Update start codon position to next M, \n",
    "                stop = lastStop + (len(orf))*3 if 'M' in orf else None       # Update stop codon to next '*'\n",
    "                if start is not None and stop is not None:                   # In the coding region is >30AA\n",
    "                    orfs.append((start, stop))                                      # Append the start and stop positions for that ORF\n",
    "            lastStop += len(orf)*3 + 3           # Update the position of the last stop codon\n",
    "        orf_list.append(orfs)                    # Append the list of ORFs for the current frame\n",
    "    return orf_list"
   ]
  },
  {
   "cell_type": "markdown",
   "id": "d3479647",
   "metadata": {},
   "source": [
    "Now, let's use our ORF finding function to find the open reading frames and count the number of ORFs in each reading frame."
   ]
  },
  {
   "cell_type": "code",
   "execution_count": null,
   "id": "19a7f5c4",
   "metadata": {},
   "outputs": [],
   "source": [
    "# Find all ORFs in each frame of the sequence\n",
    "orf_positions = find_all_orfs(corona_virus.seq)\n",
    "\n",
    "for i in range(3):\n",
    "    print(f'Number of ORFs in frame {i} = {len(orf_positions[i])}')"
   ]
  },
  {
   "cell_type": "markdown",
   "id": "960379de",
   "metadata": {},
   "source": [
    "Let's plot the ORFs in each reading frame."
   ]
  },
  {
   "cell_type": "code",
   "execution_count": null,
   "id": "50a20baa",
   "metadata": {},
   "outputs": [],
   "source": [
    "# Visualize ORFs on the sequence for each frame\n",
    "plt.figure(figsize=(15, 3))\n",
    "colors = ['blue','black','purple']\n",
    "for frame, orfs in enumerate(orf_positions):\n",
    "    for start, stop in orfs:\n",
    "        plt.plot([start, stop], [frame, frame], marker='o', color=colors[frame], markersize=5)\n",
    "plt.title('Open Reading Frames in Each Frame')\n",
    "plt.xlabel('Position')\n",
    "plt.ylabel('Frame')\n",
    "plt.yticks([0, 1, 2], ['Frame 0', 'Frame 1', 'Frame 2'])\n",
    "plt.show()"
   ]
  },
  {
   "cell_type": "markdown",
   "id": "602a5a76",
   "metadata": {},
   "source": [
    "We can see that there are many ORFs in each reading frame, but most of them are very short. This is because the start and stop codons are not evenly distributed throughout the sequence, so most of the ORFs are not full-length protein-coding sequences.\n",
    "\n",
    "Let's write a function find the N longest ORF in a sequence."
   ]
  },
  {
   "cell_type": "code",
   "execution_count": 26,
   "id": "bbd94318",
   "metadata": {},
   "outputs": [],
   "source": [
    "def pickNLargestORF(orfs,N=5):\n",
    "    '''Find the N largest ORFs in a list of ORFs\n",
    "\n",
    "    Inputs: \n",
    "        orfs (list) - A list of lists of tuples. Each list of tuples contains the start \n",
    "        and stop positions of ORFs in a given frame.\n",
    "        N (int) - The number of largest ORFs to return\n",
    "\n",
    "    Output:\n",
    "        Bounds (list) - A list of the start and stop positions of the N largest ORFs\n",
    "    '''\n",
    "\n",
    "    Lengths = []\n",
    "    Bounds = []\n",
    "    Frames = []\n",
    "    for frame, orf in enumerate(orfs):\n",
    "        for start, stop in orf:\n",
    "            Lengths.append(stop-start)\n",
    "            Bounds.append([start,stop])\n",
    "            Frames.append(frame)\n",
    "    enumerated_list = list(enumerate(Lengths))\n",
    "    sortedLengths = sorted(enumerated_list, key=lambda x: abs(x[1]), reverse=True)\n",
    "    \n",
    "    # Extract lengths and bounds for those indices\n",
    "    Bounds = [Bounds[index] for index, _ in sortedLengths[:N]]\n",
    "    sortedFrames = [Frames[index] for index, _ in sortedLengths[:N]]\n",
    "    return Bounds, sortedFrames"
   ]
  },
  {
   "cell_type": "markdown",
   "id": "a009a654",
   "metadata": {},
   "source": [
    "Now let's find and plot just the 10 longest ORFs."
   ]
  },
  {
   "cell_type": "code",
   "execution_count": null,
   "id": "e1b546bc",
   "metadata": {},
   "outputs": [],
   "source": [
    "# Call our function to get the 10 longest ORFs.\n",
    "longestORFbounds, frames = pickNLargestORF(orf_positions,N=10)\n",
    "\n",
    "# Visualize the 10 longest ORFs on the sequence\n",
    "plt.figure(figsize=(15, 3))\n",
    "colors = ['blue','black','purple']\n",
    "for i, (start, stop) in enumerate(longestORFbounds):\n",
    "    plt.plot([start, stop], [frames[i], frames[i]], marker='o', color=colors[frames[i]], markersize=5)\n",
    "plt.title('Longest Open Reading Frames')\n",
    "plt.xlabel('Position')\n",
    "plt.ylabel('Frame')\n",
    "plt.yticks([0], ['Frame 0'])\n",
    "plt.show()\n"
   ]
  },
  {
   "cell_type": "markdown",
   "id": "f67fbc52",
   "metadata": {},
   "source": [
    "## **3.2) Translating the sequence into a protein sequence**\n",
    "\n",
    "Now that we have found the ORFs in the sequence, we can translate the sequence into a protein sequence. This is done by translating each codon in the DNA sequence into the corresponding amino acid.  Once we have the protein sequence, we can analyze it to find the number of each amino acid, the molecular weight of the protein, and the isoelectric point of the protein."
   ]
  },
  {
   "cell_type": "code",
   "execution_count": 28,
   "id": "5a6be391",
   "metadata": {},
   "outputs": [],
   "source": [
    "# Now let's look at the protein sequence and its properties\n",
    "# Find the start and stop for longest ORF.\n",
    "start, stop = longestORFbounds[0]\n",
    "\n",
    "# Extract the nucleotide sequence for the longest ORF\n",
    "longestORF = corona_virus.seq[start:stop]\n",
    "\n",
    "# Translate the nucleotide sequence to protein\n",
    "longestORF_AA = longestORF.translate(to_stop=True)"
   ]
  },
  {
   "cell_type": "code",
   "execution_count": null,
   "id": "59d3f4a3",
   "metadata": {},
   "outputs": [],
   "source": [
    "# Count the number of amino acids in the protein and make a bar chart of the amino acid counts.\n",
    "AAset = set(longestORF_AA)\n",
    "AAcounts = {}\n",
    "for AA in AAset:\n",
    "    AAcounts[AA] = longestORF_AA.count(AA)\n",
    "\n",
    "plt.figure(figsize=(5, 2.5), dpi=200)\n",
    "plt.bar(AAcounts.keys(), AAcounts.values())\n",
    "plt.title('Amino Acid Counts')\n",
    "plt.show()"
   ]
  },
  {
   "cell_type": "markdown",
   "id": "1d93b4fd",
   "metadata": {},
   "source": [
    "Next we are going to examine some properties of the protein sequence.  To do this, we are going to use the function ```ProteinAnalysis``` from the module ```Bio.SeqUtils.ProtParam```.  First, let's see what properties we can calculate for the protein sequence."
   ]
  },
  {
   "cell_type": "code",
   "execution_count": null,
   "id": "99305e15",
   "metadata": {},
   "outputs": [],
   "source": [
    "# List available functions in ProtParam\n",
    "protFeatures= ProtParam.ProteinAnalysis(str(longestORF_AA))\n",
    "[x for x in dir(protFeatures) if not x.startswith('_')]"
   ]
  },
  {
   "cell_type": "code",
   "execution_count": null,
   "id": "20ea47eb",
   "metadata": {},
   "outputs": [],
   "source": [
    "# Compute the molecular weight of the protein\n",
    "protFeatures= ProtParam.ProteinAnalysis(str(longestORF_AA))\n",
    "protFeatures.molecular_weight()\n",
    "print(f'The molecular weight of the protein is {protFeatures.molecular_weight()} Da.')\n",
    "\n",
    "# Compute the isoelectric point of the protein\n",
    "protFeatures.isoelectric_point()\n",
    "print(f'The isoelectric point of the protein is {protFeatures.isoelectric_point()}.')\n",
    "\n",
    "# Compute the instability index of the protein\n",
    "protFeatures.instability_index()\n",
    "print(f'The instability index of the protein is {protFeatures.instability_index()}.')"
   ]
  },
  {
   "cell_type": "markdown",
   "id": "b05b7c25",
   "metadata": {},
   "source": [
    "## 3.3) Comparing ORFs to Annotated Genes and Coding Sequences\n",
    "\n",
    "Now let's see how our ORF's correspond to the annotated genes in the genbank file that we analyzed in Section 2.5.  To do this, we are just going to show the ORFs and the annotated genes in the same plot."
   ]
  },
  {
   "cell_type": "code",
   "execution_count": null,
   "id": "3eece8fc",
   "metadata": {},
   "outputs": [],
   "source": [
    "# Let's update our figure of the ORFs to shopw both the annotated and found ORFs\n",
    "plt.figure(figsize=(15, 3))\n",
    "colors = ['blue','black','purple']\n",
    "for i, (start, stop) in enumerate(longestORFbounds):\n",
    "    plt.plot([start, stop], [frames[i], frames[i]], marker='o', color=colors[frames[i]], markersize=5)\n",
    "\n",
    "for feature in extractedRecord[0].features:\n",
    "    if feature.type == 'CDS' or feature.type == 'gene':\n",
    "        start = int(feature.location.start)\n",
    "        stop = int(feature.location.end)\n",
    "        # check which frame the feature is in\n",
    "        frame = start % 3\n",
    "        plt.plot([start, stop], [frame+0.1, frame+0.1], marker='o', color='red', markersize=5, linestyle='dashed')\n"
   ]
  },
  {
   "cell_type": "code",
   "execution_count": null,
   "id": "59a69651",
   "metadata": {},
   "outputs": [],
   "source": [
    "# Let's see if we can get a little more information about our found ORFS using the annotated \n",
    "# features.\n",
    "\n",
    "ORF_annotations = []\n",
    "for i, (start, stop) in enumerate(longestORFbounds):\n",
    "    ORF_annotation = None\n",
    "    for feature in extractedRecord[0].features:\n",
    "        if feature.type == 'CDS':\n",
    "            featureStart = int(feature.location.start)            \n",
    "            if start ==  featureStart:\n",
    "                ORF_annotation = feature.qualifiers\n",
    "                break\n",
    "    ORF_annotations.append(ORF_annotation)\n",
    "\n",
    "for i, annotation in enumerate(ORF_annotations):\n",
    "    print(f'Annotation for ORF {i}: {annotation}')"
   ]
  },
  {
   "cell_type": "code",
   "execution_count": null,
   "id": "8fc22c88",
   "metadata": {},
   "outputs": [],
   "source": [
    "# Finally, let's update our figure with the annotations\n",
    "plt.figure(figsize=(15, 3))\n",
    "colors = ['blue','black','purple']\n",
    "for i, (start, stop) in enumerate(longestORFbounds):\n",
    "    plt.plot([start, stop], [frames[i], frames[i]], marker='o', color=colors[frames[i]], markersize=5)\n",
    "    if ORF_annotations[i] is not None:\n",
    "        plt.text(start, frames[i]-0.2, f\"{ORF_annotations[i]['gene']}\", fontsize=8)\n",
    "        try:\n",
    "            plt.text(start, frames[i]-0.35, f\"{ORF_annotations[i]['product']}\", fontsize=8)\n",
    "        except:\n",
    "            pass\n",
    "        try:\n",
    "            plt.text(start, frames[i]-0.5, f\"{ORF_annotations[i]['note']}\", fontsize=8)\n",
    "        except:\n",
    "            pass\n",
    "\n",
    "for feature in extractedRecord[0].features:\n",
    "    if feature.type == 'CDS' or feature.type == 'gene':\n",
    "        start = int(feature.location.start)\n",
    "        stop = int(feature.location.end)\n",
    "        # check which frame the feature is in\n",
    "        frame = start % 3\n",
    "        plt.plot([start, stop], [frame+0.1, frame+0.1], marker='o', color='red', markersize=5, linestyle='dashed')\n",
    "\n",
    "# set y limit\n",
    "plt.ylim(-.5, 2.2)"
   ]
  }
 ],
 "metadata": {
  "kernelspec": {
   "display_name": "Python 3",
   "language": "python",
   "name": "python3"
  },
  "language_info": {
   "codemirror_mode": {
    "name": "ipython",
    "version": 3
   },
   "file_extension": ".py",
   "mimetype": "text/x-python",
   "name": "python",
   "nbconvert_exporter": "python",
   "pygments_lexer": "ipython3",
   "version": "3.10.16"
  },
  "toc": {
   "base_numbering": 1,
   "nav_menu": {},
   "number_sections": true,
   "sideBar": true,
   "skip_h1_title": false,
   "title_cell": "Table of Contents",
   "title_sidebar": "Contents",
   "toc_cell": false,
   "toc_position": {
    "height": "calc(100% - 180px)",
    "left": "10px",
    "top": "150px",
    "width": "448px"
   },
   "toc_section_display": true,
   "toc_window_display": true
  }
 },
 "nbformat": 4,
 "nbformat_minor": 5
}
